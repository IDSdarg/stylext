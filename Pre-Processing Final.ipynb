{
 "cells": [
  {
   "cell_type": "markdown",
   "metadata": {},
   "source": [
    "# Notebook for Pre-Processing Raw CSV Tweets:\n",
    "### The code below reads a CSV file into Pandas dataframe and extracts data for later classification\n",
    "___"
   ]
  },
  {
   "cell_type": "markdown",
   "metadata": {},
   "source": [
    "**The cell below will import necessary libraries and change default settings:**"
   ]
  },
  {
   "cell_type": "code",
   "execution_count": null,
   "metadata": {
    "collapsed": true
   },
   "outputs": [],
   "source": [
    "# import all necessary libraries\n",
    "import pandas as pd\n",
    "import numpy as np\n",
    "import matplotlib.pyplot as plt\n",
    "import seaborn as sns\n",
    "sns.set(font_scale=1.5)\n",
    "sns.set_style(\"whitegrid\")\n",
    "\n",
    "import sys\n",
    "\n",
    "# allow plot display in notebook\n",
    "%matplotlib inline\n",
    "\n",
    "# change default font/figure size for clearer viewing\n",
    "plt.rcParams['figure.figsize'] = (8, 6)\n",
    "plt.rcParams['font.size'] = 14"
   ]
  },
  {
   "cell_type": "markdown",
   "metadata": {},
   "source": [
    "**The cell below will read the csv file into a Pandas dataframe**"
   ]
  },
  {
   "cell_type": "code",
   "execution_count": null,
   "metadata": {
    "collapsed": true
   },
   "outputs": [],
   "source": [
    "# define a list of column names (as strings for now - I have plans for time_stamp in future revisions)\n",
    "col_names = ['time_stamp', 'raw_text', 'username']\n",
    "\n",
    "# define the URL from which to retrieve the data (as a string)\n",
    "url = 'https://raw.githubusercontent.com/analyticascent/stylext/master/feed_combo.csv'\n",
    "\n",
    "# retrieve the CSV file and add the column names\n",
    "df = pd.read_csv(url, header=0, names=col_names, na_filter=False)"
   ]
  },
  {
   "cell_type": "markdown",
   "metadata": {},
   "source": [
    "**Check the first and last five rows**"
   ]
  },
  {
   "cell_type": "code",
   "execution_count": null,
   "metadata": {
    "collapsed": true
   },
   "outputs": [],
   "source": [
    "df.head()"
   ]
  },
  {
   "cell_type": "code",
   "execution_count": null,
   "metadata": {
    "collapsed": true
   },
   "outputs": [],
   "source": [
    "df.tail()"
   ]
  },
  {
   "cell_type": "markdown",
   "metadata": {},
   "source": [
    "**Print raw text with time stamp of tweet content and sequentially number each**\n",
    "\n",
    "This can be useful to check back on to verify outputs for code blocks below"
   ]
  },
  {
   "cell_type": "code",
   "execution_count": null,
   "metadata": {
    "collapsed": true
   },
   "outputs": [],
   "source": [
    "z = 0\n",
    "\n",
    "for index, row in df.iterrows():\n",
    "    z = z + 1\n",
    "    print\n",
    "    print\n",
    "    print z, '-', row['time_stamp']\n",
    "    print\n",
    "    print row['raw_text']"
   ]
  },
  {
   "cell_type": "markdown",
   "metadata": {},
   "source": [
    "**Change the recursion limit (with care...) if the iteration blocks below return *“maximum recursion depth exceeded”* error**\n",
    "\n",
    "Skip the next three cells; execute them only if the \"iterate\" cells return *recursion depth exceeded error*"
   ]
  },
  {
   "cell_type": "code",
   "execution_count": null,
   "metadata": {
    "collapsed": true
   },
   "outputs": [],
   "source": [
    "# Check default limit - mine was 1000\n",
    "sys.getrecursionlimit()"
   ]
  },
  {
   "cell_type": "code",
   "execution_count": null,
   "metadata": {
    "collapsed": true
   },
   "outputs": [],
   "source": [
    "# Change default limit if necessary - I had to change mine to 2500\n",
    "sys.setrecursionlimit(2000)"
   ]
  },
  {
   "cell_type": "code",
   "execution_count": null,
   "metadata": {
    "collapsed": true
   },
   "outputs": [],
   "source": [
    "# Verify that change was successful\n",
    "sys.getrecursionlimit()"
   ]
  },
  {
   "cell_type": "markdown",
   "metadata": {},
   "source": [
    "**Iterate a syllable count script over the 'raw_text' column in every dataframe row by inferring from vowel/consonant pairs**\n",
    "\n",
    "The goal is to get the average syllable count per tweet derived from all tweets."
   ]
  },
  {
   "cell_type": "code",
   "execution_count": null,
   "metadata": {
    "collapsed": true
   },
   "outputs": [],
   "source": [
    "# These are placeholders to be modified each time a new row is iterated\n",
    "# z is the row number and total is the number of syllables counted overall\n",
    "z = 0\n",
    "total = 0\n",
    "\n",
    "syllable = []\n",
    "\n",
    "# for every row in the data frame...\n",
    "for index, row in df.iterrows():\n",
    "    # take the raw tweet text column\n",
    "    word = str(row['raw_text'])\n",
    "    # and convert that to lowercase\n",
    "    word = word.lower()\n",
    "    # add one to the previous value of z\n",
    "    z = z + 1\n",
    "    \n",
    "    # syllables is another placeholder that will increase based on certain character combinations\n",
    "    syllables = 0.0\n",
    "    for i in range(len(word)) :\n",
    "        \n",
    "        # if the first letter in the word is a vowel then it's one syllable.\n",
    "        \n",
    "        if i == 0 and word[i] in \"aeiouy\" :\n",
    "            syllables = syllables + 1\n",
    "            \n",
    "        # else if previous letter isn't a vowe\n",
    "        elif word[i - 1] not in \"aeiouy\" :\n",
    "                \n",
    "            # if not the last letter and is a vowel\n",
    "            if i < len(word) - 1 and word[i] in \"aeiouy\" :\n",
    "                syllables = syllables + 1\n",
    "                    \n",
    "            # else if it is the last letter and it is a vowel that is not e.\n",
    "            elif i == len(word) - 1 and word[i] in \"aiouy\" :\n",
    "                syllables = syllables + 1\n",
    "\n",
    "    # adjust syllables from 0 to 1.\n",
    "    if len(word) > 0 and syllables == 0 :\n",
    "        syllables == 0\n",
    "        syllables = 1\n",
    "    \n",
    "    # this adds new syllable count of a given tweet to total from all previous ones\n",
    "    total = total + syllables\n",
    "    print\n",
    "    # for every row, the tweet number 'z' will be printed, then the tweet syllable count, then total syllables accumulated\n",
    "    print z, + syllables, + total\n",
    "    \n",
    "    syllable_count = int(syllables)\n",
    "    syllable.append(syllable_count)\n",
    "\n",
    "df['syllables'] = syllable   \n",
    "\n",
    "# this gives us our final metrics\n",
    "average_syllable = total_syllable / z\n",
    "total_syllable = total\n",
    "\n",
    "print\n",
    "print\n",
    "print \"Average syllable count: \", average_syllable\n",
    "print\n",
    "print \"Total syllable count: \", total_syllable"
   ]
  },
  {
   "cell_type": "code",
   "execution_count": null,
   "metadata": {
    "collapsed": true
   },
   "outputs": [],
   "source": [
    "df.head()"
   ]
  },
  {
   "cell_type": "code",
   "execution_count": null,
   "metadata": {
    "collapsed": true
   },
   "outputs": [],
   "source": [
    "df.dtypes"
   ]
  },
  {
   "cell_type": "markdown",
   "metadata": {},
   "source": [
    "**Now we begin checking for puncuation patterns with more iteration**\n",
    "\n",
    "Let's start with periods, a decent proxy for sentence count. From there other characters will be processed."
   ]
  },
  {
   "cell_type": "code",
   "execution_count": null,
   "metadata": {
    "collapsed": true
   },
   "outputs": [],
   "source": [
    "z = 0\n",
    "total = 0\n",
    "\n",
    "periods = []\n",
    "\n",
    "for index, row in df.iterrows():\n",
    "    tweet = str(row['raw_text'])\n",
    "    z = z + 1\n",
    "    total = total + tweet.count('.')\n",
    "    print\n",
    "    print z, tweet.count('.'), total\n",
    "    \n",
    "    period_count = tweet.count('.')\n",
    "    period_count = int(period_count)\n",
    "    periods.append(period_count)\n",
    "    \n",
    "df['periods'] = periods\n",
    "\n",
    "# this gives us our final metrics\n",
    "z = int(z)\n",
    "average_period = total / z\n",
    "total_period = total\n",
    "\n",
    "print\n",
    "print\n",
    "print \"Average period count: \", average_period\n",
    "print\n",
    "print \"Total period count: \", total_period"
   ]
  },
  {
   "cell_type": "code",
   "execution_count": null,
   "metadata": {
    "collapsed": true
   },
   "outputs": [],
   "source": [
    "df.head()"
   ]
  },
  {
   "cell_type": "code",
   "execution_count": null,
   "metadata": {
    "collapsed": true
   },
   "outputs": [],
   "source": [
    "z = 0\n",
    "total = 0\n",
    "\n",
    "hyphens = []\n",
    "\n",
    "for index, row in df.iterrows():\n",
    "    tweet = str(row['raw_text'])\n",
    "    z = z + 1\n",
    "    total = total + tweet.count('-')\n",
    "    print\n",
    "    print z, tweet.count('-'), total\n",
    "    \n",
    "    hyphen_count = tweet.count('-')\n",
    "    hyphen_count = int(hyphen_count)\n",
    "    hyphens.append(hyphen_count)\n",
    "    \n",
    "df['hyphens'] = hyphens\n",
    "\n",
    "# this gives us our final metrics\n",
    "z = int(z)\n",
    "average_hyphen = total / z\n",
    "total_hyphen = total\n",
    "\n",
    "print\n",
    "print\n",
    "print \"Average hyphen count: \", average_hyphen\n",
    "print\n",
    "print \"Total hyphen count: \", total_hyphen"
   ]
  },
  {
   "cell_type": "code",
   "execution_count": null,
   "metadata": {
    "collapsed": true
   },
   "outputs": [],
   "source": [
    "df.head()"
   ]
  },
  {
   "cell_type": "code",
   "execution_count": null,
   "metadata": {
    "collapsed": true
   },
   "outputs": [],
   "source": [
    "z = 0\n",
    "total = 0\n",
    "\n",
    "commas = []\n",
    "\n",
    "for index, row in df.iterrows():\n",
    "    tweet = str(row['raw_text'])\n",
    "    z = z + 1\n",
    "    total = total + tweet.count(',')\n",
    "    print\n",
    "    print z, tweet.count(','), total\n",
    "    \n",
    "    comma_count = tweet.count(',')\n",
    "    comma_count = int(comma_count)\n",
    "    commas.append(comma_count)\n",
    "    \n",
    "df['commas'] = commas\n",
    "\n",
    "# this gives us our final metrics\n",
    "z = int(z)\n",
    "average_comma = total / z\n",
    "total_comma = total\n",
    "\n",
    "print\n",
    "print\n",
    "print \"Average comma count: \", average_comma\n",
    "print\n",
    "print \"Total comma count: \", total_comma"
   ]
  },
  {
   "cell_type": "code",
   "execution_count": null,
   "metadata": {
    "collapsed": true
   },
   "outputs": [],
   "source": [
    "df.head()"
   ]
  },
  {
   "cell_type": "code",
   "execution_count": null,
   "metadata": {
    "collapsed": true
   },
   "outputs": [],
   "source": [
    "z = 0\n",
    "total = 0\n",
    "\n",
    "semicolons = []\n",
    "\n",
    "for index, row in df.iterrows():\n",
    "    tweet = str(row['raw_text'])\n",
    "    z = z + 1\n",
    "    total = total + tweet.count(';')\n",
    "    print\n",
    "    print z, tweet.count(';'), total\n",
    "    \n",
    "    semicolon_count = tweet.count(';')\n",
    "    semicolon_count = int(semicolon_count)\n",
    "    semicolons.append(semicolon_count)\n",
    "    \n",
    "df['semicolons'] = semicolons\n",
    "\n",
    "# this gives us our final metrics\n",
    "z = int(z)\n",
    "average_semicolon = total / z\n",
    "total_semicolon = total\n",
    "\n",
    "print\n",
    "print\n",
    "print \"Average semicolon count: \", average_semicolon\n",
    "print\n",
    "print \"Total semicolon count: \", total_semicolon"
   ]
  },
  {
   "cell_type": "code",
   "execution_count": null,
   "metadata": {
    "collapsed": true
   },
   "outputs": [],
   "source": [
    "df.head()"
   ]
  },
  {
   "cell_type": "code",
   "execution_count": null,
   "metadata": {
    "collapsed": true
   },
   "outputs": [],
   "source": [
    "z = 0\n",
    "total = 0\n",
    "\n",
    "exclamations = []\n",
    "\n",
    "for index, row in df.iterrows():\n",
    "    tweet = str(row['raw_text'])\n",
    "    z = z + 1\n",
    "    total = total + tweet.count('!')\n",
    "    print\n",
    "    print z, tweet.count('!'), total\n",
    "    \n",
    "    exclamation_count = tweet.count('!')\n",
    "    exclamation_count = int(exclamation_count)\n",
    "    exclamations.append(exclamation_count)\n",
    "    \n",
    "df['exclamations'] = exclamations\n",
    "\n",
    "# this gives us our final metrics\n",
    "z = int(z)\n",
    "average_exclamation = total / z\n",
    "total_exclamation = total\n",
    "\n",
    "print\n",
    "print\n",
    "print \"Average exclamation count: \", average_exclamation\n",
    "print\n",
    "print \"Total exclamation count: \", total_exclamation"
   ]
  },
  {
   "cell_type": "code",
   "execution_count": null,
   "metadata": {
    "collapsed": true
   },
   "outputs": [],
   "source": [
    "df.head()"
   ]
  },
  {
   "cell_type": "code",
   "execution_count": null,
   "metadata": {
    "collapsed": true
   },
   "outputs": [],
   "source": [
    "z = 0\n",
    "total = 0\n",
    "\n",
    "questions = []\n",
    "\n",
    "for index, row in df.iterrows():\n",
    "    tweet = str(row['raw_text'])\n",
    "    z = z + 1\n",
    "    total = total + tweet.count('?')\n",
    "    print\n",
    "    print z, tweet.count('?'), total\n",
    "    \n",
    "    question_count = tweet.count('?')\n",
    "    question_count = int(question_count)\n",
    "    questions.append(question_count)\n",
    "    \n",
    "df['questions'] = questions\n",
    "\n",
    "# this gives us our final metrics\n",
    "z = int(z)\n",
    "average_question = total / z\n",
    "total_question = total\n",
    "\n",
    "print\n",
    "print\n",
    "print \"Average question count: \", average_question\n",
    "print\n",
    "print \"Total question count: \", total_question"
   ]
  },
  {
   "cell_type": "code",
   "execution_count": null,
   "metadata": {
    "collapsed": true
   },
   "outputs": [],
   "source": [
    "df.head()"
   ]
  },
  {
   "cell_type": "code",
   "execution_count": null,
   "metadata": {
    "collapsed": true
   },
   "outputs": [],
   "source": [
    "z = 0\n",
    "total = 0\n",
    "\n",
    "quotes = []\n",
    "\n",
    "for index, row in df.iterrows():\n",
    "    tweet = str(row['raw_text'])\n",
    "    z = z + 1\n",
    "    total = total + tweet.count('\"')\n",
    "    print\n",
    "    print z, tweet.count('\"'), total\n",
    "    \n",
    "    quote_count = tweet.count('\"')\n",
    "    quote_count = int(quote_count)\n",
    "    quotes.append(quote_count)\n",
    "    \n",
    "df['quotes'] = quotes\n",
    "\n",
    "# this gives us our final metrics\n",
    "z = int(z)\n",
    "average_quote = total / z\n",
    "total_quote = total\n",
    "\n",
    "print\n",
    "print\n",
    "print \"Average quote count: \", average_quote\n",
    "print\n",
    "print \"Total quote count: \", total_quote"
   ]
  },
  {
   "cell_type": "code",
   "execution_count": null,
   "metadata": {
    "collapsed": true
   },
   "outputs": [],
   "source": [
    "df.head()"
   ]
  },
  {
   "cell_type": "code",
   "execution_count": null,
   "metadata": {
    "collapsed": true
   },
   "outputs": [],
   "source": [
    "z = 0\n",
    "total = 0\n",
    "\n",
    "dollars = []\n",
    "\n",
    "for index, row in df.iterrows():\n",
    "    tweet = str(row['raw_text'])\n",
    "    z = z + 1\n",
    "    total = total + tweet.count('$')\n",
    "    print\n",
    "    print z, tweet.count('$'), total\n",
    "    \n",
    "    dollar_count = tweet.count('$')\n",
    "    dollar_count = int(dollar_count)\n",
    "    dollars.append(dollar_count)\n",
    "    \n",
    "df['dollars'] = dollars\n",
    "\n",
    "# this gives us our final metrics\n",
    "z = int(z)\n",
    "average_dollar = total / z\n",
    "total_dollar = total\n",
    "\n",
    "print\n",
    "print\n",
    "print \"Average dollar count: \", average_dollar\n",
    "print\n",
    "print \"Total dollar count: \", total_dollar"
   ]
  },
  {
   "cell_type": "code",
   "execution_count": null,
   "metadata": {
    "collapsed": true
   },
   "outputs": [],
   "source": [
    "df.head()"
   ]
  },
  {
   "cell_type": "code",
   "execution_count": null,
   "metadata": {
    "collapsed": true
   },
   "outputs": [],
   "source": [
    "z = 0\n",
    "total = 0\n",
    "\n",
    "percentages = []\n",
    "\n",
    "for index, row in df.iterrows():\n",
    "    tweet = str(row['raw_text'])\n",
    "    z = z + 1\n",
    "    total = total + tweet.count('%')\n",
    "    print\n",
    "    print z, tweet.count('%'), total\n",
    "    \n",
    "    percentage_count = tweet.count('%')\n",
    "    percentage_count = int(percentage_count)\n",
    "    percentages.append(percentage_count)\n",
    "    \n",
    "df['percentages'] = percentages\n",
    "\n",
    "# this gives us our final metrics\n",
    "z = int(z)\n",
    "average_percentage = total / z\n",
    "total_percentage = total\n",
    "\n",
    "print\n",
    "print\n",
    "print \"Average percentage count: \", average_percentage\n",
    "print\n",
    "print \"Total percentage count: \", total_percentage"
   ]
  },
  {
   "cell_type": "code",
   "execution_count": null,
   "metadata": {
    "collapsed": true
   },
   "outputs": [],
   "source": [
    "df.head()"
   ]
  },
  {
   "cell_type": "code",
   "execution_count": null,
   "metadata": {
    "collapsed": true
   },
   "outputs": [],
   "source": [
    "z = 0\n",
    "total = 0\n",
    "\n",
    "ands = []\n",
    "\n",
    "for index, row in df.iterrows():\n",
    "    tweet = str(row['raw_text'])\n",
    "    z = z + 1\n",
    "    total = total + tweet.count('&')\n",
    "    print\n",
    "    print z, tweet.count('&'), total\n",
    "    \n",
    "    and_count = tweet.count('&')\n",
    "    and_count = int(percentage_count)\n",
    "    ands.append(and_count)\n",
    "    \n",
    "df['ands'] = ands\n",
    "\n",
    "# this gives us our final metrics\n",
    "z = int(z)\n",
    "average_and = total / z\n",
    "total_and = total\n",
    "\n",
    "print\n",
    "print\n",
    "print \"Average and count: \", average_and\n",
    "print\n",
    "print \"Total and count: \", total_and"
   ]
  },
  {
   "cell_type": "code",
   "execution_count": null,
   "metadata": {
    "collapsed": true
   },
   "outputs": [],
   "source": [
    "df.head()"
   ]
  },
  {
   "cell_type": "code",
   "execution_count": null,
   "metadata": {
    "collapsed": true
   },
   "outputs": [],
   "source": [
    "z = 0\n",
    "total = 0\n",
    "\n",
    "asterisks = []\n",
    "\n",
    "for index, row in df.iterrows():\n",
    "    tweet = str(row['raw_text'])\n",
    "    z = z + 1\n",
    "    total = total + tweet.count('*')\n",
    "    print\n",
    "    print z, tweet.count('*'), total\n",
    "    \n",
    "    asterisk_count = tweet.count('*')\n",
    "    asterisk_count = int(asterisk_count)\n",
    "    asterisks.append(asterisk_count)\n",
    "    \n",
    "df['asterisks'] = asterisks\n",
    "\n",
    "# this gives us our final metrics\n",
    "z = int(z)\n",
    "average_asterisk = total / z\n",
    "total_asterisk = total\n",
    "\n",
    "print\n",
    "print\n",
    "print \"Average asterisk count: \", average_asterisk\n",
    "print\n",
    "print \"Total asterisk count: \", total_asterisk"
   ]
  },
  {
   "cell_type": "code",
   "execution_count": null,
   "metadata": {
    "collapsed": true
   },
   "outputs": [],
   "source": [
    "df.head()"
   ]
  },
  {
   "cell_type": "code",
   "execution_count": null,
   "metadata": {
    "collapsed": true
   },
   "outputs": [],
   "source": [
    "z = 0\n",
    "total = 0\n",
    "\n",
    "pluses = []\n",
    "\n",
    "for index, row in df.iterrows():\n",
    "    tweet = str(row['raw_text'])\n",
    "    z = z + 1\n",
    "    total = total + tweet.count('+')\n",
    "    print\n",
    "    print z, tweet.count('+'), total\n",
    "    \n",
    "    plus_count = tweet.count('+')\n",
    "    plus_count = int(plus_count)\n",
    "    pluses.append(plus_count)\n",
    "    \n",
    "df['pluses'] = pluses\n",
    "\n",
    "# this gives us our final metrics\n",
    "z = int(z)\n",
    "average_plus = total / z\n",
    "total_plus = total\n",
    "\n",
    "print\n",
    "print\n",
    "print \"Average plus count: \", average_plus\n",
    "print\n",
    "print \"Total plus count: \", total_plus"
   ]
  },
  {
   "cell_type": "code",
   "execution_count": null,
   "metadata": {
    "collapsed": true
   },
   "outputs": [],
   "source": [
    "df.head()"
   ]
  },
  {
   "cell_type": "code",
   "execution_count": null,
   "metadata": {
    "collapsed": true
   },
   "outputs": [],
   "source": [
    "z = 0\n",
    "total = 0\n",
    "\n",
    "equals = []\n",
    "\n",
    "for index, row in df.iterrows():\n",
    "    tweet = str(row['raw_text'])\n",
    "    z = z + 1\n",
    "    total = total + tweet.count('=')\n",
    "    print\n",
    "    print z, tweet.count('='), total\n",
    "    \n",
    "    equal_count = tweet.count('=')\n",
    "    equal_count = int(equal_count)\n",
    "    equals.append(equal_count)\n",
    "    \n",
    "df['equals'] = equals\n",
    "\n",
    "# this gives us our final metrics\n",
    "z = int(z)\n",
    "average_equal = total / z\n",
    "total_equal = total\n",
    "\n",
    "print\n",
    "print\n",
    "print \"Average equal count: \", average_equal\n",
    "print\n",
    "print \"Total equal count: \", total_equal"
   ]
  },
  {
   "cell_type": "code",
   "execution_count": null,
   "metadata": {
    "collapsed": true
   },
   "outputs": [],
   "source": [
    "df.head()"
   ]
  },
  {
   "cell_type": "code",
   "execution_count": null,
   "metadata": {
    "collapsed": true
   },
   "outputs": [],
   "source": [
    "z = 0\n",
    "total = 0\n",
    "\n",
    "slashes = []\n",
    "\n",
    "for index, row in df.iterrows():\n",
    "    tweet = str(row['raw_text'])\n",
    "    z = z + 1\n",
    "    total = total + tweet.count('/')\n",
    "    print\n",
    "    print z, tweet.count('/'), total\n",
    "    \n",
    "    slash_count = tweet.count('/')\n",
    "    slash_count = int(slash_count)\n",
    "    slashes.append(slash_count)\n",
    "    \n",
    "df['slashes'] = slashes\n",
    "\n",
    "# this gives us our final metrics\n",
    "z = int(z)\n",
    "average_slash = total / z\n",
    "total_slash = total\n",
    "\n",
    "print\n",
    "print\n",
    "print \"Average slash count: \", average_slash\n",
    "print\n",
    "print \"Total slash count: \", total_slash"
   ]
  },
  {
   "cell_type": "code",
   "execution_count": null,
   "metadata": {
    "collapsed": true
   },
   "outputs": [],
   "source": [
    "df.head()"
   ]
  },
  {
   "cell_type": "markdown",
   "metadata": {},
   "source": [
    "**Now for some characters that are more specific to my project hypothesis**\n",
    "\n",
    "These are things that are characteristic of Twitter in particular (hashtags, replies, links, retweets, etc).\n",
    "\n",
    "Let's start by searching for occurances of '#' which indicate a hashtag was used."
   ]
  },
  {
   "cell_type": "code",
   "execution_count": null,
   "metadata": {
    "collapsed": true
   },
   "outputs": [],
   "source": [
    "z = 0\n",
    "total = 0\n",
    "\n",
    "hashes = []\n",
    "\n",
    "for index, row in df.iterrows():\n",
    "    tweet = str(row['raw_text'])\n",
    "    z = z + 1\n",
    "    total = total + tweet.count('#')\n",
    "    print\n",
    "    print z, tweet.count('#'), total\n",
    "    \n",
    "    hash_count = tweet.count('#')\n",
    "    hash_count = int(hash_count)\n",
    "    hashes.append(hash_count)\n",
    "    \n",
    "df['hashes'] = hashes\n",
    "\n",
    "# this gives us our final metrics\n",
    "z = int(z)\n",
    "average_hashtag = total / z\n",
    "total_hashtag = total\n",
    "\n",
    "print\n",
    "print\n",
    "print \"Average hashtag count: \", average_hashtag\n",
    "print\n",
    "print \"Total hashtag count: \", total_hashtag"
   ]
  },
  {
   "cell_type": "code",
   "execution_count": null,
   "metadata": {
    "collapsed": true
   },
   "outputs": [],
   "source": [
    "df.head()"
   ]
  },
  {
   "cell_type": "markdown",
   "metadata": {},
   "source": [
    "This will see how often tweets are replying or notifying others through '@' symbol frequency."
   ]
  },
  {
   "cell_type": "code",
   "execution_count": null,
   "metadata": {
    "collapsed": true
   },
   "outputs": [],
   "source": [
    "z = 0\n",
    "total = 0\n",
    "\n",
    "ats = []\n",
    "\n",
    "for index, row in df.iterrows():\n",
    "    tweet = str(row['raw_text'])\n",
    "    z = z + 1\n",
    "    total = total + tweet.count('@')\n",
    "    print\n",
    "    print z, tweet.count('@'), total\n",
    "    \n",
    "    at_count = tweet.count('@')\n",
    "    at_count = int(at_count)\n",
    "    ats.append(at_count)\n",
    "    \n",
    "df['replies'] = ats\n",
    "\n",
    "# this gives us our final metrics\n",
    "z = int(z)\n",
    "average_reply = total / z\n",
    "total_reply = total\n",
    "\n",
    "print\n",
    "print\n",
    "print \"Average reply count: \", average_reply\n",
    "print\n",
    "print \"Total reply count: \", total_reply"
   ]
  },
  {
   "cell_type": "code",
   "execution_count": null,
   "metadata": {
    "collapsed": true
   },
   "outputs": [],
   "source": [
    "df.head()"
   ]
  },
  {
   "cell_type": "markdown",
   "metadata": {},
   "source": [
    "In the downloaded CSV generated by a Tweepy script, retweets (repostings) of what other people say begin with 'RT' so let's check for those."
   ]
  },
  {
   "cell_type": "code",
   "execution_count": null,
   "metadata": {
    "collapsed": true
   },
   "outputs": [],
   "source": [
    "z = 0\n",
    "total = 0\n",
    "\n",
    "retweets = []\n",
    "\n",
    "for index, row in df.iterrows():\n",
    "    tweet = str(row['raw_text'])\n",
    "    z = z + 1\n",
    "    total = total + tweet.count('RT')\n",
    "    print\n",
    "    print z, tweet.count('RT'), total\n",
    "    \n",
    "    retweet_count = tweet.count('RT')\n",
    "    retweet_count = int(retweet_count)\n",
    "    retweets.append(retweet_count)\n",
    "    \n",
    "df['retweets'] = retweets\n",
    "\n",
    "# this gives us our final metrics\n",
    "z = int(z)\n",
    "average_retweet = total / z\n",
    "total_retweet = total\n",
    "\n",
    "print\n",
    "print\n",
    "print \"Average retweet count: \", average_retweet\n",
    "print\n",
    "print \"Total retweet count: \", total_retweet"
   ]
  },
  {
   "cell_type": "code",
   "execution_count": null,
   "metadata": {
    "collapsed": true
   },
   "outputs": [],
   "source": [
    "df.head()"
   ]
  },
  {
   "cell_type": "markdown",
   "metadata": {},
   "source": [
    "Now, let's see how often tweets have links in them since linking to other content may vary from user to user."
   ]
  },
  {
   "cell_type": "code",
   "execution_count": null,
   "metadata": {
    "collapsed": true
   },
   "outputs": [],
   "source": [
    "z = 0\n",
    "total = 0\n",
    "\n",
    "links = []\n",
    "\n",
    "for index, row in df.iterrows():\n",
    "    tweet = str(row['raw_text'])\n",
    "    z = z + 1\n",
    "    total = total + tweet.count('http')\n",
    "    print\n",
    "    print z, tweet.count('http'), total\n",
    "    \n",
    "    link_count = tweet.count('http')\n",
    "    link_count = int(link_count)\n",
    "    links.append(link_count)\n",
    "    \n",
    "df['links'] = links\n",
    "\n",
    "# this gives us our final metrics\n",
    "z = int(z)\n",
    "average_link = total / z\n",
    "total_link = total\n",
    "\n",
    "print\n",
    "print\n",
    "print \"Average link count: \", average_link\n",
    "print\n",
    "print \"Total link count: \", total_link"
   ]
  },
  {
   "cell_type": "code",
   "execution_count": null,
   "metadata": {
    "collapsed": true
   },
   "outputs": [],
   "source": [
    "df.head()"
   ]
  },
  {
   "cell_type": "markdown",
   "metadata": {},
   "source": [
    "Finally, the rest of the iterations below check for character combinations that indicate \"emoji\" expressions."
   ]
  },
  {
   "cell_type": "code",
   "execution_count": null,
   "metadata": {
    "collapsed": true
   },
   "outputs": [],
   "source": [
    "z = 0\n",
    "total = 0\n",
    "\n",
    "smiles = []\n",
    "\n",
    "for index, row in df.iterrows():\n",
    "    tweet = str(row['raw_text'])\n",
    "    z = z + 1\n",
    "    total = total + tweet.count(':-)')\n",
    "    print\n",
    "    print z, tweet.count(':-)'), total\n",
    "    \n",
    "    smile_count = tweet.count(':-)')\n",
    "    smile_count = int(smile_count)\n",
    "    smiles.append(smile_count)\n",
    "    \n",
    "df['smiles'] = smiles\n",
    "\n",
    "# this gives us our final metrics\n",
    "z = int(z)\n",
    "average_smile = total / z\n",
    "total_smile = total\n",
    "\n",
    "print\n",
    "print\n",
    "print \"Average smile count: \", average_smile\n",
    "print\n",
    "print \"Total smile count: \", total_smile"
   ]
  },
  {
   "cell_type": "code",
   "execution_count": null,
   "metadata": {
    "collapsed": true
   },
   "outputs": [],
   "source": [
    "df.head()"
   ]
  },
  {
   "cell_type": "code",
   "execution_count": null,
   "metadata": {
    "collapsed": true
   },
   "outputs": [],
   "source": [
    "z = 0\n",
    "total = 0\n",
    "\n",
    "bigsmiles = []\n",
    "\n",
    "for index, row in df.iterrows():\n",
    "    tweet = str(row['raw_text'])\n",
    "    z = z + 1\n",
    "    total = total + tweet.count(':-D')\n",
    "    print\n",
    "    print z, tweet.count(':-D'), total\n",
    "    \n",
    "    bigsmile_count = tweet.count(':-D')\n",
    "    bigsmile_count = int(bigsmile_count)\n",
    "    bigsmiles.append(bigsmile_count)\n",
    "    \n",
    "df['bigsmiles'] = bigsmiles\n",
    "\n",
    "# this gives us our final metrics\n",
    "z = int(z)\n",
    "average_bigsmile = total / z\n",
    "total_bigsmile = total\n",
    "\n",
    "print\n",
    "print\n",
    "print \"Average bigsmile count: \", average_bigsmile\n",
    "print\n",
    "print \"Total bigsmile count: \", total_bigsmile"
   ]
  },
  {
   "cell_type": "code",
   "execution_count": null,
   "metadata": {
    "collapsed": true
   },
   "outputs": [],
   "source": [
    "df.head()"
   ]
  },
  {
   "cell_type": "code",
   "execution_count": null,
   "metadata": {
    "collapsed": true
   },
   "outputs": [],
   "source": [
    "z = 0\n",
    "total = 0\n",
    "\n",
    "winks = []\n",
    "\n",
    "for index, row in df.iterrows():\n",
    "    tweet = str(row['raw_text'])\n",
    "    z = z + 1\n",
    "    total = total + tweet.count(';-)')\n",
    "    print\n",
    "    print z, tweet.count(';-)'), total\n",
    "    \n",
    "    wink_count = tweet.count(';-)')\n",
    "    wink_count = int(wink_count)\n",
    "    winks.append(wink_count)\n",
    "    \n",
    "df['winks'] = winks\n",
    "\n",
    "# this gives us our final metrics\n",
    "z = int(z)\n",
    "average_wink = total / z\n",
    "total_wink = total\n",
    "\n",
    "print\n",
    "print\n",
    "print \"Average wink count: \", average_wink\n",
    "print\n",
    "print \"Total wink count: \", total_wink"
   ]
  },
  {
   "cell_type": "code",
   "execution_count": null,
   "metadata": {
    "collapsed": true
   },
   "outputs": [],
   "source": [
    "df.head()"
   ]
  },
  {
   "cell_type": "code",
   "execution_count": null,
   "metadata": {
    "collapsed": true
   },
   "outputs": [],
   "source": [
    "z = 0\n",
    "total = 0\n",
    "\n",
    "bigwinks = []\n",
    "\n",
    "for index, row in df.iterrows():\n",
    "    tweet = str(row['raw_text'])\n",
    "    z = z + 1\n",
    "    total = total + tweet.count(';-D')\n",
    "    print\n",
    "    print z, tweet.count(';-D'), total\n",
    "    \n",
    "    bigwink_count = tweet.count(';-D')\n",
    "    bigwink_count = int(bigwink_count)\n",
    "    bigwinks.append(bigwink_count)\n",
    "    \n",
    "df['bigwinks'] = bigwinks\n",
    "\n",
    "# this gives us our final metrics\n",
    "z = int(z)\n",
    "average_bigwink = total / z\n",
    "total_bigwink = total\n",
    "\n",
    "print\n",
    "print\n",
    "print \"Average bigwink count: \", average_bigwink\n",
    "print\n",
    "print \"Total bigwink count: \", total_bigwink"
   ]
  },
  {
   "cell_type": "code",
   "execution_count": null,
   "metadata": {
    "collapsed": true
   },
   "outputs": [],
   "source": [
    "df.head()"
   ]
  },
  {
   "cell_type": "code",
   "execution_count": null,
   "metadata": {
    "collapsed": true
   },
   "outputs": [],
   "source": [
    "z = 0\n",
    "total = 0\n",
    "\n",
    "unsures = []\n",
    "\n",
    "for index, row in df.iterrows():\n",
    "    tweet = str(row['raw_text'])\n",
    "    z = z + 1\n",
    "    total = total + tweet.count(':-/')\n",
    "    print\n",
    "    print z, tweet.count(':-/'), total\n",
    "    \n",
    "    unsure_count = tweet.count(':-/')\n",
    "    unsure_count = int(unsure_count)\n",
    "    unsures.append(unsure_count)\n",
    "    \n",
    "df['unsures'] = unsures\n",
    "\n",
    "# this gives us our final metrics\n",
    "z = int(z)\n",
    "average_unsure = total / z\n",
    "total_unsure = total\n",
    "\n",
    "print\n",
    "print\n",
    "print \"Average unsure count: \", average_unsure\n",
    "print\n",
    "print \"Total unsure count: \", total_unsure"
   ]
  },
  {
   "cell_type": "code",
   "execution_count": null,
   "metadata": {
    "collapsed": true
   },
   "outputs": [],
   "source": [
    "df.head()"
   ]
  },
  {
   "cell_type": "markdown",
   "metadata": {},
   "source": [
    "## Visual Analysis\n",
    "\n",
    "Now we will map both usernames to integers, then take a look at boxplot visualizations of how each feature is distributed on their feed"
   ]
  },
  {
   "cell_type": "code",
   "execution_count": null,
   "metadata": {
    "collapsed": true
   },
   "outputs": [],
   "source": [
    "mapping = {'DLin71_feed': 1, 'NinjaEconomics': 2}\n",
    "\n",
    "df.replace({'username': mapping})"
   ]
  },
  {
   "cell_type": "code",
   "execution_count": null,
   "metadata": {
    "collapsed": true
   },
   "outputs": [],
   "source": [
    "df.boxplot(column='syllables', by='username')"
   ]
  },
  {
   "cell_type": "code",
   "execution_count": null,
   "metadata": {
    "collapsed": true
   },
   "outputs": [],
   "source": [
    "df.boxplot(column='periods', by='username')"
   ]
  },
  {
   "cell_type": "code",
   "execution_count": null,
   "metadata": {
    "collapsed": true
   },
   "outputs": [],
   "source": [
    "df.boxplot(column='hyphens', by='username')"
   ]
  },
  {
   "cell_type": "code",
   "execution_count": null,
   "metadata": {
    "collapsed": true
   },
   "outputs": [],
   "source": [
    "df.boxplot(column='commas', by='username')"
   ]
  },
  {
   "cell_type": "code",
   "execution_count": null,
   "metadata": {
    "collapsed": true
   },
   "outputs": [],
   "source": [
    "df.boxplot(column='semicolons', by='username')"
   ]
  },
  {
   "cell_type": "code",
   "execution_count": null,
   "metadata": {
    "collapsed": true
   },
   "outputs": [],
   "source": [
    "df.boxplot(column='exclamations', by='username')"
   ]
  },
  {
   "cell_type": "code",
   "execution_count": null,
   "metadata": {
    "collapsed": true
   },
   "outputs": [],
   "source": [
    "df.boxplot(column='questions', by='username')"
   ]
  },
  {
   "cell_type": "code",
   "execution_count": null,
   "metadata": {
    "collapsed": true
   },
   "outputs": [],
   "source": [
    "df.boxplot(column='quotes', by='username')"
   ]
  },
  {
   "cell_type": "code",
   "execution_count": null,
   "metadata": {
    "collapsed": true
   },
   "outputs": [],
   "source": [
    "df.boxplot(column='dollars', by='username')"
   ]
  },
  {
   "cell_type": "code",
   "execution_count": null,
   "metadata": {
    "collapsed": true
   },
   "outputs": [],
   "source": [
    "df.boxplot(column='percentages', by='username')"
   ]
  },
  {
   "cell_type": "code",
   "execution_count": null,
   "metadata": {
    "collapsed": true
   },
   "outputs": [],
   "source": [
    "df.boxplot(column='ands', by='username')"
   ]
  },
  {
   "cell_type": "code",
   "execution_count": null,
   "metadata": {
    "collapsed": true
   },
   "outputs": [],
   "source": [
    "df.boxplot(column='asterisks', by='username')"
   ]
  },
  {
   "cell_type": "code",
   "execution_count": null,
   "metadata": {
    "collapsed": true
   },
   "outputs": [],
   "source": [
    "df.boxplot(column='pluses', by='username')"
   ]
  },
  {
   "cell_type": "code",
   "execution_count": null,
   "metadata": {
    "collapsed": true
   },
   "outputs": [],
   "source": [
    "df.boxplot(column='equals', by='username')"
   ]
  },
  {
   "cell_type": "code",
   "execution_count": null,
   "metadata": {
    "collapsed": true
   },
   "outputs": [],
   "source": [
    "df.boxplot(column='slashes', by='username')"
   ]
  },
  {
   "cell_type": "code",
   "execution_count": null,
   "metadata": {
    "collapsed": true
   },
   "outputs": [],
   "source": [
    "df.boxplot(column='hashtags', by='username')"
   ]
  },
  {
   "cell_type": "code",
   "execution_count": null,
   "metadata": {
    "collapsed": true
   },
   "outputs": [],
   "source": [
    "df.boxplot(column='replies', by='username')"
   ]
  },
  {
   "cell_type": "code",
   "execution_count": null,
   "metadata": {
    "collapsed": true
   },
   "outputs": [],
   "source": [
    "df.boxplot(column='retweets', by='username')"
   ]
  },
  {
   "cell_type": "code",
   "execution_count": null,
   "metadata": {
    "collapsed": true
   },
   "outputs": [],
   "source": [
    "df.boxplot(column='links', by='username')"
   ]
  },
  {
   "cell_type": "code",
   "execution_count": null,
   "metadata": {
    "collapsed": true
   },
   "outputs": [],
   "source": [
    "df.boxplot(column='smiles', by='username')"
   ]
  },
  {
   "cell_type": "code",
   "execution_count": null,
   "metadata": {
    "collapsed": true
   },
   "outputs": [],
   "source": [
    "df.boxplot(column='bigsmiles', by='username')"
   ]
  },
  {
   "cell_type": "code",
   "execution_count": null,
   "metadata": {
    "collapsed": true
   },
   "outputs": [],
   "source": [
    "df.boxplot(column='winks', by='username')"
   ]
  },
  {
   "cell_type": "code",
   "execution_count": null,
   "metadata": {
    "collapsed": true
   },
   "outputs": [],
   "source": [
    "df.boxplot(column='bigwinks', by='username')"
   ]
  },
  {
   "cell_type": "code",
   "execution_count": null,
   "metadata": {
    "collapsed": true
   },
   "outputs": [],
   "source": [
    "df.boxplot(column='unsures', by='username')"
   ]
  },
  {
   "cell_type": "markdown",
   "metadata": {},
   "source": [
    "## Write New Dataframe to New CSV File"
   ]
  },
  {
   "cell_type": "code",
   "execution_count": null,
   "metadata": {
    "collapsed": true
   },
   "outputs": [],
   "source": [
    "df.to_csv('post_feed.csv', encoding='utf-8')"
   ]
  }
 ],
 "metadata": {
  "kernelspec": {
   "display_name": "Python 2",
   "language": "python",
   "name": "python2"
  },
  "language_info": {
   "codemirror_mode": {
    "name": "ipython",
    "version": 2
   },
   "file_extension": ".py",
   "mimetype": "text/x-python",
   "name": "python",
   "nbconvert_exporter": "python",
   "pygments_lexer": "ipython2",
   "version": "2.7.11"
  }
 },
 "nbformat": 4,
 "nbformat_minor": 0
}
