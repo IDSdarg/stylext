{
 "cells": [
  {
   "cell_type": "markdown",
   "metadata": {
    "collapsed": true
   },
   "source": [
    "# Stylext: Tweet Attribution with Naive Bayes & Logistic Regression"
   ]
  },
  {
   "cell_type": "markdown",
   "metadata": {},
   "source": [
    "Note to non-programmer friends: *You need to select \"Restart & Clear Output\" under the Kernel tab before running the code cells below*"
   ]
  },
  {
   "cell_type": "markdown",
   "metadata": {},
   "source": [
    "### Introduction\n",
    "\n",
    "Although technically not 100% pure stylometry (because distinguishing one user from the other with the code below is affected by the respective topics being discussed), this notebook file will illustrate how the same sort of algorithms used to distinguish spam from valid email can also be used to distinguish one Twitter user from another using their post content alone.\n",
    "\n",
    "Both feeds used in the sample csv data are about the same topic (economics). However, there are no *conscious* attempts by the users to obfuscate their Tweet styles, but the techniques used can still be useful if someone is unaware of what distinguishes their tweet style from others.\n",
    "\n",
    "With each Python code cell, click on it to highlight then shift + enter to execute it. The * symbol means it's running, while a number means it completed."
   ]
  },
  {
   "cell_type": "markdown",
   "metadata": {},
   "source": [
    "## Part 1: Importing Needed Libraries\n",
    "\n",
    "You will need *pandas* to read in rows and colums (containing the raw article text, and columns for all of the criteria of interest.\n",
    "\n",
    "*Numpy* and *scipy* add functionality that you will depend on throughout notebook use. Very specific tools are also imported from *scikit-learn.* In particular, a few natural language processing tools are imported which may be used to boost model accuracy (with iterative trial and error).\n",
    "\n",
    "**Do not worry if the brief library descriptions in the code below do not make sense to you; the specifics of what they do are ellaborated further in this notebook as they are put to use.**"
   ]
  },
  {
   "cell_type": "code",
   "execution_count": 1,
   "metadata": {
    "collapsed": true
   },
   "outputs": [],
   "source": [
    "# These are the core libraries you need to import to run the scripts that follow.\n",
    "\n",
    "import pandas as pd # this is needed to read in dataframes (rows and columns of data)\n",
    "import numpy as np # numpy allows you to efficiently work with and execute operations on arrays\n",
    "import scipy as sp # scipy builds off of numpy, giving you added linear algebra functionality under the hood"
   ]
  },
  {
   "cell_type": "markdown",
   "metadata": {},
   "source": [
    "Now that our core libraries are imported, we need to import several things from Scikit-Learn. These will allow use to *add structure* to otherwise unstructured text, *apply machine learning models* to classify text samples, and *measure the accuracy* of the output for the data we will load in. "
   ]
  },
  {
   "cell_type": "code",
   "execution_count": 2,
   "metadata": {
    "collapsed": true
   },
   "outputs": [],
   "source": [
    "# Here are more specific tools from Scikit-Learn for natural language processing and measuring accuracy\n",
    "\n",
    "from sklearn.feature_extraction.text import CountVectorizer, TfidfVectorizer # two vectorization methods we want for later\n",
    "from sklearn.naive_bayes import MultinomialNB # multinomial naive bayes classifier\n",
    "from sklearn.linear_model import LogisticRegression # basic logistic regression classifier\n",
    "from sklearn.model_selection import train_test_split # this splits the data loaded in into training & testing groups\n",
    "from sklearn import metrics # this will help us understand the results of the train/test split simulation"
   ]
  },
  {
   "cell_type": "markdown",
   "metadata": {},
   "source": [
    "## Part 2: Load in CSV File Containing Tweets and Define Train/Test Variables\n",
    "\n",
    "Now we will read in the data file (in comma seperated values format) from an online github repo, and store it in a python variable called \"tweets\" so we can continue to work with it throughout the notebook. Pandas' \"read_csv\" feature will allow use to read in and define the CSV."
   ]
  },
  {
   "cell_type": "code",
   "execution_count": 3,
   "metadata": {
    "collapsed": true
   },
   "outputs": [],
   "source": [
    "# Read post_feed.csv into a DataFrame. Any CSV with columns containing raw tweet contents and usernames can often work.\n",
    "# If you're offline, replace the link with the file location for post_feed.csv if you have it stored locally.\n",
    "\n",
    "url = 'csv/tweets.csv' # define url as csv data\n",
    "tweets = pd.read_csv(url) # read the csv file using the pandas python library and define it as 'tweets'"
   ]
  },
  {
   "cell_type": "markdown",
   "metadata": {},
   "source": [
    "Defining training and testing variables must be done in order to even begin testing and improving predictive accuracy."
   ]
  },
  {
   "cell_type": "code",
   "execution_count": 4,
   "metadata": {
    "collapsed": true
   },
   "outputs": [],
   "source": [
    "# define X and y, or the manipulated variable and the responding variable: Given the text, which user tweeted it?\n",
    "\n",
    "X = tweets.raw_text  # this defines X as the csv column that contains all the raw tweet text of both users\n",
    "y = tweets.username  # the responding variable (y) is now defined as the column with the two Twitter usernames\n",
    "\n",
    "\n",
    "# split the new DataFrame into training and testing sets\n",
    "\n",
    "X_train, X_test, y_train, y_test = train_test_split(X, y, random_state=1)"
   ]
  },
  {
   "cell_type": "markdown",
   "metadata": {},
   "source": [
    "The code below ensures the dataframe has been read in and the variables are defined as intended."
   ]
  },
  {
   "cell_type": "code",
   "execution_count": 5,
   "metadata": {},
   "outputs": [
    {
     "data": {
      "text/html": [
       "<div>\n",
       "<style>\n",
       "    .dataframe thead tr:only-child th {\n",
       "        text-align: right;\n",
       "    }\n",
       "\n",
       "    .dataframe thead th {\n",
       "        text-align: left;\n",
       "    }\n",
       "\n",
       "    .dataframe tbody tr th {\n",
       "        vertical-align: top;\n",
       "    }\n",
       "</style>\n",
       "<table border=\"1\" class=\"dataframe\">\n",
       "  <thead>\n",
       "    <tr style=\"text-align: right;\">\n",
       "      <th></th>\n",
       "      <th>time_stamp</th>\n",
       "      <th>raw_text</th>\n",
       "      <th>username</th>\n",
       "    </tr>\n",
       "  </thead>\n",
       "  <tbody>\n",
       "    <tr>\n",
       "      <th>0</th>\n",
       "      <td>2016-05-17 04:53:06</td>\n",
       "      <td>*Tweets about his IQ but misspells both letter...</td>\n",
       "      <td>DLin71_feed</td>\n",
       "    </tr>\n",
       "    <tr>\n",
       "      <th>1</th>\n",
       "      <td>2016-05-17 02:20:27</td>\n",
       "      <td>Fascinating quotes on the back of Trump's new ...</td>\n",
       "      <td>DLin71_feed</td>\n",
       "    </tr>\n",
       "    <tr>\n",
       "      <th>2</th>\n",
       "      <td>2016-05-17 02:06:07</td>\n",
       "      <td>ME: Want to see a magic trick?\\r\\nCHILD: Yes!\\...</td>\n",
       "      <td>DLin71_feed</td>\n",
       "    </tr>\n",
       "    <tr>\n",
       "      <th>3</th>\n",
       "      <td>2016-05-16 03:43:53</td>\n",
       "      <td>@pmarca Experts Insist That Tetherball Has Fin...</td>\n",
       "      <td>DLin71_feed</td>\n",
       "    </tr>\n",
       "    <tr>\n",
       "      <th>4</th>\n",
       "      <td>2016-05-16 03:21:34</td>\n",
       "      <td>2012 NOMINEE: I have a car elevator\\r\\nGOP: *f...</td>\n",
       "      <td>DLin71_feed</td>\n",
       "    </tr>\n",
       "  </tbody>\n",
       "</table>\n",
       "</div>"
      ],
      "text/plain": [
       "            time_stamp                                           raw_text  \\\n",
       "0  2016-05-17 04:53:06  *Tweets about his IQ but misspells both letter...   \n",
       "1  2016-05-17 02:20:27  Fascinating quotes on the back of Trump's new ...   \n",
       "2  2016-05-17 02:06:07  ME: Want to see a magic trick?\\r\\nCHILD: Yes!\\...   \n",
       "3  2016-05-16 03:43:53  @pmarca Experts Insist That Tetherball Has Fin...   \n",
       "4  2016-05-16 03:21:34  2012 NOMINEE: I have a car elevator\\r\\nGOP: *f...   \n",
       "\n",
       "      username  \n",
       "0  DLin71_feed  \n",
       "1  DLin71_feed  \n",
       "2  DLin71_feed  \n",
       "3  DLin71_feed  \n",
       "4  DLin71_feed  "
      ]
     },
     "execution_count": 5,
     "metadata": {},
     "output_type": "execute_result"
    }
   ],
   "source": [
    " # check the first five rows/tweets\n",
    "\n",
    "tweets.head()"
   ]
  },
  {
   "cell_type": "code",
   "execution_count": 6,
   "metadata": {},
   "outputs": [
    {
     "data": {
      "text/html": [
       "<div>\n",
       "<style>\n",
       "    .dataframe thead tr:only-child th {\n",
       "        text-align: right;\n",
       "    }\n",
       "\n",
       "    .dataframe thead th {\n",
       "        text-align: left;\n",
       "    }\n",
       "\n",
       "    .dataframe tbody tr th {\n",
       "        vertical-align: top;\n",
       "    }\n",
       "</style>\n",
       "<table border=\"1\" class=\"dataframe\">\n",
       "  <thead>\n",
       "    <tr style=\"text-align: right;\">\n",
       "      <th></th>\n",
       "      <th>time_stamp</th>\n",
       "      <th>raw_text</th>\n",
       "      <th>username</th>\n",
       "    </tr>\n",
       "  </thead>\n",
       "  <tbody>\n",
       "    <tr>\n",
       "      <th>3528</th>\n",
       "      <td>2015-12-21 17:00:21</td>\n",
       "      <td>Kenyan villagers ban MP from going home using ...</td>\n",
       "      <td>NinjaEconomics</td>\n",
       "    </tr>\n",
       "    <tr>\n",
       "      <th>3529</th>\n",
       "      <td>2015-12-21 14:00:26</td>\n",
       "      <td>Venezuela frees Pepsi workers it arrested for ...</td>\n",
       "      <td>NinjaEconomics</td>\n",
       "    </tr>\n",
       "    <tr>\n",
       "      <th>3530</th>\n",
       "      <td>2015-12-21 08:05:33</td>\n",
       "      <td>This gem: https://t.co/NBGaAxJvUT @mrgunn @mat...</td>\n",
       "      <td>NinjaEconomics</td>\n",
       "    </tr>\n",
       "    <tr>\n",
       "      <th>3531</th>\n",
       "      <td>2015-12-21 06:04:32</td>\n",
       "      <td>The only thing that stops.a bad man with a wea...</td>\n",
       "      <td>NinjaEconomics</td>\n",
       "    </tr>\n",
       "    <tr>\n",
       "      <th>3532</th>\n",
       "      <td>2015-12-21 01:54:40</td>\n",
       "      <td>In every country, people overestimate the shar...</td>\n",
       "      <td>NinjaEconomics</td>\n",
       "    </tr>\n",
       "  </tbody>\n",
       "</table>\n",
       "</div>"
      ],
      "text/plain": [
       "               time_stamp                                           raw_text  \\\n",
       "3528  2015-12-21 17:00:21  Kenyan villagers ban MP from going home using ...   \n",
       "3529  2015-12-21 14:00:26  Venezuela frees Pepsi workers it arrested for ...   \n",
       "3530  2015-12-21 08:05:33  This gem: https://t.co/NBGaAxJvUT @mrgunn @mat...   \n",
       "3531  2015-12-21 06:04:32  The only thing that stops.a bad man with a wea...   \n",
       "3532  2015-12-21 01:54:40  In every country, people overestimate the shar...   \n",
       "\n",
       "            username  \n",
       "3528  NinjaEconomics  \n",
       "3529  NinjaEconomics  \n",
       "3530  NinjaEconomics  \n",
       "3531  NinjaEconomics  \n",
       "3532  NinjaEconomics  "
      ]
     },
     "execution_count": 6,
     "metadata": {},
     "output_type": "execute_result"
    }
   ],
   "source": [
    "# check the last five rows/tweets, notice the change in which username's tweets are visible\n",
    "\n",
    "tweets.tail()"
   ]
  },
  {
   "cell_type": "code",
   "execution_count": 7,
   "metadata": {},
   "outputs": [
    {
     "data": {
      "text/plain": [
       "(3533, 3)"
      ]
     },
     "execution_count": 7,
     "metadata": {},
     "output_type": "execute_result"
    }
   ],
   "source": [
    "# check the number of rows (tweets stored) and columns\n",
    "\n",
    "tweets.shape\n",
    "\n",
    "# even though there are 3 columns, most of the time we're only going to use two at a time (no need for time_stamp)"
   ]
  },
  {
   "cell_type": "code",
   "execution_count": 8,
   "metadata": {},
   "outputs": [
    {
     "data": {
      "text/plain": [
       "0    *Tweets about his IQ but misspells both letter...\n",
       "1    Fascinating quotes on the back of Trump's new ...\n",
       "2    ME: Want to see a magic trick?\\r\\nCHILD: Yes!\\...\n",
       "3    @pmarca Experts Insist That Tetherball Has Fin...\n",
       "4    2012 NOMINEE: I have a car elevator\\r\\nGOP: *f...\n",
       "Name: raw_text, dtype: object"
      ]
     },
     "execution_count": 8,
     "metadata": {},
     "output_type": "execute_result"
    }
   ],
   "source": [
    "# check the first five rows in a shorter format - it's only displaying the raw_text column that X was defined as.\n",
    "\n",
    "X.head()"
   ]
  },
  {
   "cell_type": "code",
   "execution_count": 9,
   "metadata": {},
   "outputs": [
    {
     "data": {
      "text/plain": [
       "0    DLin71_feed\n",
       "1    DLin71_feed\n",
       "2    DLin71_feed\n",
       "3    DLin71_feed\n",
       "4    DLin71_feed\n",
       "Name: username, dtype: object"
      ]
     },
     "execution_count": 9,
     "metadata": {},
     "output_type": "execute_result"
    }
   ],
   "source": [
    "# now we will see the first five rows of the responding variable (the username of who posted what)\n",
    "\n",
    "y.head()"
   ]
  },
  {
   "cell_type": "markdown",
   "metadata": {},
   "source": [
    "## Part 3: Time to Vectorize"
   ]
  },
  {
   "cell_type": "markdown",
   "metadata": {},
   "source": [
    "- **What:** Separate text into units such as sentences or words that can be better quantified\n",
    "- **Why:** Gives structure to previously unstructured text that machine learning can be applied to\n",
    "- **Notes:** Relatively easy with English language text, not easy with some languages\n",
    "\n",
    "We are now going to create what are called \"document-term matrices\" of the tweets. Think of these as rows and columns which store numbers representing how often certain terms appear in a given document (or passage of text). The image below may help you understand what that looks like under the hood:\n",
    "\n",
    "&nbsp;\n",
    "\n",
    "![Document-Term Matrix](http://mlg.postech.ac.kr/static/research/nmf_cluster1.PNG)\n",
    "\n",
    "&nbsp;"
   ]
  },
  {
   "cell_type": "code",
   "execution_count": 10,
   "metadata": {
    "collapsed": true
   },
   "outputs": [],
   "source": [
    "# use CountVectorizer to create document-term matrices from X_train and X_test\n",
    "\n",
    "vect = CountVectorizer() # because vect is way easier to type than CountVectorizer...\n",
    "X_train_dtm = vect.fit_transform(X_train)\n",
    "X_test_dtm = vect.fit_transform(X_test)\n",
    "\n",
    "# now we have quantitative info about the tweets that a 'multinomial naive Bayes classifier' can work with"
   ]
  },
  {
   "cell_type": "markdown",
   "metadata": {},
   "source": [
    "**Just to clarify what's going on in the adjacent cells:** All the **rows** are the *individual tweets* that are stored in the CSV file. But the astronomical crapload of **columns** is literally *each unique term* that appears. Those are going to be the \"features\" used to \"fingerprint\" one user from another. "
   ]
  },
  {
   "cell_type": "code",
   "execution_count": 11,
   "metadata": {},
   "outputs": [
    {
     "data": {
      "text/plain": [
       "(2649, 9433)"
      ]
     },
     "execution_count": 11,
     "metadata": {},
     "output_type": "execute_result"
    }
   ],
   "source": [
    "# rows are documents, columns are terms (aka \"tokens\" or \"features\")\n",
    "\n",
    "X_train_dtm.shape"
   ]
  },
  {
   "cell_type": "code",
   "execution_count": 12,
   "metadata": {},
   "outputs": [
    {
     "name": "stdout",
     "output_type": "stream",
     "text": [
      "['yields', 'yigccncbvc', 'yiuqomnq6b', 'ylnxtdwqax', 'yo', 'york', 'you', 'young', 'younger', 'your', 'yours', 'yourself', 'youth', 'youtube', 'yqj1crgunp', 'yr', 'yrhycoujwj', 'yrs', 'ytdhfqx2uo', 'yuan', 'yugey', 'yuuuuge', 'yxej7ujeji', 'yzilber', 'z3jlakii1d', 'z4ngvfeofn', 'z7z2zrv49u', 'zachweiner', 'zaxwlyffr5', 'zero', 'zerohedge', 'zf8rf4dxkr', 'zhpllsypbn', 'zika', 'ziploc', 'ziuz8mnbrw', 'zj8k3bbmds', 'zjhvrnfbza', 'zme70c7tev', 'znwymtnt5m', 'zodiac', 'zoecdckc5e', 'zp6bm3tqdw', 'zqkf6j6s3b', 'zrziri8zqz', 'ztgffqx9km', 'zuckerberg', 'zuvmoy65sc', 'zvb2hh0fb6', 'zwb2ujzwpi']\n"
     ]
    }
   ],
   "source": [
    "# last 50 features\n",
    "\n",
    "print(vect.get_feature_names()[-50:])"
   ]
  },
  {
   "cell_type": "code",
   "execution_count": 13,
   "metadata": {},
   "outputs": [
    {
     "data": {
      "text/plain": [
       "CountVectorizer(analyzer='word', binary=False, decode_error='strict',\n",
       "        dtype=<class 'numpy.int64'>, encoding='utf-8', input='content',\n",
       "        lowercase=True, max_df=1.0, max_features=None, min_df=1,\n",
       "        ngram_range=(1, 1), preprocessor=None, stop_words=None,\n",
       "        strip_accents=None, token_pattern='(?u)\\\\b\\\\w\\\\w+\\\\b',\n",
       "        tokenizer=None, vocabulary=None)"
      ]
     },
     "execution_count": 13,
     "metadata": {},
     "output_type": "execute_result"
    }
   ],
   "source": [
    "# show vectorizer options, which are currently at their default values\n",
    "\n",
    "vect"
   ]
  },
  {
   "cell_type": "markdown",
   "metadata": {},
   "source": [
    "**Take a look at the output above.** These are settings that CountVectorizer has (which is currently stored in \"vect\"). The main ones to keep in mind are lowercase (whether all the words get converted to lowercase), max_features (how many of those words are used to \"fingerprint\" the text of the tweets), ngram_range (if set to (1, 2), it will look at individual words as well as word pairs, and so on as you increment the latter number), and stop_words (words that are so common that they might not be useful for tweet classification can be ignored).\n",
    "\n",
    "[CountVectorizer documentation](http://scikit-learn.org/stable/modules/generated/sklearn.feature_extraction.text.CountVectorizer.html) - in case you might be interested."
   ]
  },
  {
   "cell_type": "code",
   "execution_count": 14,
   "metadata": {},
   "outputs": [
    {
     "data": {
      "text/plain": [
       "(2649, 10529)"
      ]
     },
     "execution_count": 14,
     "metadata": {},
     "output_type": "execute_result"
    }
   ],
   "source": [
    "# We will not convert to lowercase for now, but if we did it would reduce the number of unique words looked at\n",
    "\n",
    "vect = CountVectorizer(lowercase=False)\n",
    "X_train_dtm = vect.fit_transform(X_train)\n",
    "X_train_dtm.shape"
   ]
  },
  {
   "cell_type": "markdown",
   "metadata": {},
   "source": [
    "- Parameter **lowercase:** boolean, True by default\n",
    "    - If True, Convert all characters to lowercase before tokenizing.\n",
    "    \n",
    "This can be useful for preventing word capitalization from making your results less predictive."
   ]
  },
  {
   "cell_type": "code",
   "execution_count": 15,
   "metadata": {},
   "outputs": [
    {
     "name": "stdout",
     "output_type": "stream",
     "text": [
      "['yourlyingeyes', 'yours', 'yourself', 'youth', 'youtube', 'ypmpHVlcgH', 'yr', 'yrs', 'yuhoTTe82N', 'z1td7ysKZY', 'z2rLFYMeyd', 'z3GrnFpgoW', 'z41SHufjWx', 'z49Km4Q1ky', 'z6clWWLaRJ', 'z7I10h1CvP', 'zDcEhQ62Za', 'zHRKYWhDcX', 'zJ3RKVfCFZ', 'zN1TqO1gt6', 'zTMhty2uyP', 'zUSJYSc8rA', 'zUgXN8UBIp', 'zV5RwlguKr', 'zVADU0WyIU', 'zYN20ilr0p', 'zachhaller', 'zackcooperYale', 'zackwhittaker', 'zaxvdCb4WK', 'zbclypcVJr', 'zcuAJwbtQS', 'zer', 'zero', 'zerohedge', 'zeynep', 'zgXtz1rlDr', 'zh5l9DmJJ6', 'zhb79SzxrM', 'zhnqMSbKN4', 'zn8PLI6RED', 'zoIxiiKbxA', 'zoiLznYBmp', 'zone', 'zookmann', 'zqd5ayR8U2', 'zv1dcTjJzz', 'zyKKkxAp1g', 'zzv0VhgTM7', 'zzzzzzzzz']\n"
     ]
    }
   ],
   "source": [
    "# last 50 features\n",
    "\n",
    "print(vect.get_feature_names()[-50:])"
   ]
  },
  {
   "cell_type": "code",
   "execution_count": 16,
   "metadata": {},
   "outputs": [
    {
     "data": {
      "text/plain": [
       "(2649, 38979)"
      ]
     },
     "execution_count": 16,
     "metadata": {},
     "output_type": "execute_result"
    }
   ],
   "source": [
    "# include 1-grams and 2-grams\n",
    "\n",
    "vect = CountVectorizer(ngram_range=(1, 2))\n",
    "X_train_dtm = vect.fit_transform(X_train)\n",
    "X_train_dtm.shape"
   ]
  },
  {
   "cell_type": "markdown",
   "metadata": {},
   "source": [
    "- Parameter **ngram_range:** tuple (min_n, max_n)\n",
    "    - The lower and upper boundary of the range of n-values for different n-grams to be extracted. All values of n such that min_n <= n <= max_n will be used."
   ]
  },
  {
   "cell_type": "code",
   "execution_count": 17,
   "metadata": {},
   "outputs": [
    {
     "name": "stdout",
     "output_type": "stream",
     "text": [
      "['zj3rkvfcfz', 'zjidforq8w', 'zjtsqygvk7', 'zjtsqygvk7 https', 'zk8rhd5dzu', 'zl1jyllm4z', 'zn1tqo1gt6', 'zn8pli6red', 'znhxore3bj', 'zoe', 'zoe called', 'zoe saldana', 'zoilznybmp', 'zoixiikbxa', 'zoixiikbxa amp', 'zone', 'zookmann', 'zookmann https', 'zozkj5cczx', 'zozkj5cczx https', 'zqcygzlhsy', 'zqcygzlhsy https', 'zqd5ayr8u2', 'zs7hkl4tau', 'zs7hkl4tau from', 'zsfewct3nc', 'ztmhty2uyp', 'ztr6oter1d', 'zugxn8ubip', 'zuka', 'zuka virus', 'zusjysc8ra', 'zv1dctjjzz', 'zv5rwlgukr', 'zvadu0wyiu', 'zwebn0atpm', 'zwebn0atpm https', 'zwischenzugjg', 'zwischenzugjg don', 'zxgpaschbh', 'zxienh2kkd', 'zykkkxap1g', 'zyn20ilr0p', 'zyn20ilr0p https', 'zzerxrmdmn', 'zzerxrmdmn https', 'zzf7nelt8u', 'zzf7nelt8u https', 'zzv0vhgtm7', 'zzzzzzzzz']\n"
     ]
    }
   ],
   "source": [
    "# last 50 features\n",
    "\n",
    "print(vect.get_feature_names()[-50:])"
   ]
  },
  {
   "cell_type": "markdown",
   "metadata": {},
   "source": [
    "**Predicting which user made what Tweet:** \n",
    "\n",
    "Now for the moment of truth... How accurate can we predict who is who?"
   ]
  },
  {
   "cell_type": "code",
   "execution_count": 18,
   "metadata": {},
   "outputs": [
    {
     "name": "stdout",
     "output_type": "stream",
     "text": [
      "0.9253393665158371\n"
     ]
    }
   ],
   "source": [
    "# use default options for CountVectorizer\n",
    "vect = CountVectorizer()\n",
    "\n",
    "# create document-term matrices\n",
    "X_train_dtm = vect.fit_transform(X_train)\n",
    "X_test_dtm = vect.transform(X_test)\n",
    "\n",
    "# use Naive Bayes to predict the star rating\n",
    "nb = MultinomialNB()\n",
    "nb.fit(X_train_dtm, y_train)\n",
    "y_pred_class = nb.predict(X_test_dtm)\n",
    "\n",
    "# calculate accuracy\n",
    "print(metrics.accuracy_score(y_test, y_pred_class))"
   ]
  },
  {
   "cell_type": "markdown",
   "metadata": {},
   "source": [
    "**The cell below will eliminate the need for typing in the same code over and over again, as well as produce an output that includes all the information we need to know about how the number of unique features is affecting the classifier accuracy.**"
   ]
  },
  {
   "cell_type": "code",
   "execution_count": 19,
   "metadata": {
    "collapsed": true
   },
   "outputs": [],
   "source": [
    "# define a function that accepts a vectorizer and calculates the accuracy\n",
    "\n",
    "lr = LogisticRegression()\n",
    "\n",
    "def tokenize_test(vect, model):\n",
    "    X_train_dtm = vect.fit_transform(X_train)\n",
    "    print('Features: ', X_train_dtm.shape[1])\n",
    "    X_test_dtm = vect.transform(X_test)\n",
    "    if model == 'lr':\n",
    "        lr.fit(X_train_dtm, y_train)\n",
    "        y_pred_class = lr.predict(X_test_dtm)\n",
    "        algorithm = 'Logistic Regression'\n",
    "    elif model == 'nb':\n",
    "        nb.fit(X_train_dtm, y_train)\n",
    "        y_pred_class = nb.predict(X_test_dtm)\n",
    "        algorithm = 'Multinomial Naive Bayes'\n",
    "    print('Accuracy: ', metrics.accuracy_score(y_test, y_pred_class))\n",
    "    print(algorithm)"
   ]
  },
  {
   "cell_type": "code",
   "execution_count": 20,
   "metadata": {},
   "outputs": [
    {
     "name": "stdout",
     "output_type": "stream",
     "text": [
      "Features:  9433\n",
      "Accuracy:  0.9287330316742082\n",
      "Logistic Regression\n"
     ]
    }
   ],
   "source": [
    "vect = CountVectorizer()\n",
    "tokenize_test(vect, model='lr')"
   ]
  },
  {
   "cell_type": "code",
   "execution_count": 21,
   "metadata": {},
   "outputs": [
    {
     "name": "stdout",
     "output_type": "stream",
     "text": [
      "Features:  73865\n",
      "Accuracy:  0.9253393665158371\n",
      "Multinomial Naive Bayes\n"
     ]
    }
   ],
   "source": [
    "# include 1-grams, 2-grams, and 3-grams\n",
    "\n",
    "vect = CountVectorizer(ngram_range=(1, 3))\n",
    "tokenize_test(vect, model='nb')"
   ]
  },
  {
   "cell_type": "markdown",
   "metadata": {},
   "source": [
    "## Part 4: Stopword Removal"
   ]
  },
  {
   "cell_type": "markdown",
   "metadata": {},
   "source": [
    "- **What:** Remove common words that will likely appear in any text\n",
    "- **Why:** They don't tell you much about your text"
   ]
  },
  {
   "cell_type": "code",
   "execution_count": 22,
   "metadata": {},
   "outputs": [
    {
     "data": {
      "text/plain": [
       "CountVectorizer(analyzer='word', binary=False, decode_error='strict',\n",
       "        dtype=<class 'numpy.int64'>, encoding='utf-8', input='content',\n",
       "        lowercase=True, max_df=1.0, max_features=None, min_df=1,\n",
       "        ngram_range=(1, 3), preprocessor=None, stop_words=None,\n",
       "        strip_accents=None, token_pattern='(?u)\\\\b\\\\w\\\\w+\\\\b',\n",
       "        tokenizer=None, vocabulary=None)"
      ]
     },
     "execution_count": 22,
     "metadata": {},
     "output_type": "execute_result"
    }
   ],
   "source": [
    "# show vectorizer options again, notice the setting for \"stop_words\" isn't set to any language\n",
    "\n",
    "vect"
   ]
  },
  {
   "cell_type": "markdown",
   "metadata": {},
   "source": [
    "- **stop_words:** string {'english'}, list, or None (default)\n",
    "    - If 'english', a built-in stop word list for English is used.\n",
    "    - If a list, that list is assumed to contain stop words, all of which will be removed from the resulting tokens.\n",
    "    - If None, no stop words will be used. max_df can be set to a value in the range [0.7, 1.0) to automatically detect and filter stop words based on intra corpus document frequency of terms."
   ]
  },
  {
   "cell_type": "code",
   "execution_count": 23,
   "metadata": {},
   "outputs": [
    {
     "name": "stdout",
     "output_type": "stream",
     "text": [
      "Features:  9179\n",
      "Accuracy:  0.9321266968325792\n",
      "Multinomial Naive Bayes\n"
     ]
    }
   ],
   "source": [
    "# remove English stop words\n",
    "\n",
    "vect = CountVectorizer(stop_words='english')\n",
    "tokenize_test(vect, model='nb')"
   ]
  },
  {
   "cell_type": "code",
   "execution_count": 24,
   "metadata": {},
   "outputs": [
    {
     "name": "stdout",
     "output_type": "stream",
     "text": [
      "frozenset({'beside', 'once', 'thereupon', 'twenty', 'within', 'whereby', 'thereby', 'and', 'why', 'themselves', 'hasnt', 'anyway', 'an', 'it', 'she', 'hers', 'six', 'whereupon', 'while', 'further', 'hence', 'been', 'part', 'whose', 'no', 'neither', 'ourselves', 'this', 'what', 'already', 'perhaps', 'thick', 'as', 'through', 'top', 'am', 'take', 'whatever', 'amongst', 'bottom', 'ltd', 'please', 'system', 'in', 'might', 'nevertheless', 'for', 'whether', 'the', 'describe', 'therein', 'via', 'throughout', 'without', 'mill', 'former', 'during', 'eg', 'ever', 'almost', 'go', 'hereafter', 'seeming', 'somewhere', 'thin', 'alone', 'wherein', 'itself', 'mostly', 'were', 'latter', 'a', 'seems', 'interest', 'nothing', 'fire', 'becomes', 'down', 'found', 'if', 'behind', 'last', 'move', 'of', 'all', 'one', 'since', 'sincere', 'thus', 'every', 'thereafter', 'us', 'across', 'more', 'however', 'also', 'ours', 'who', 'he', 'would', 'five', 'our', 'hundred', 'due', 'how', 'against', 'often', 'become', 'they', 'else', 'by', 'do', 'then', 'thence', 'made', 'became', 'over', 'anywhere', 'those', 'together', 'was', 'most', 'amoungst', 'nowhere', 'empty', 'serious', 'could', 'upon', 'when', 'herein', 'whoever', 'never', 'or', 'thru', 'to', 'seemed', 'that', 'although', 'both', 'fill', 'find', 'beforehand', 'hereupon', 'whence', 'cant', 'there', 'whither', 'now', 'eight', 'will', 'always', 'full', 'much', 'him', 'nor', 'same', 'than', 'too', 'beyond', 'whereas', 'afterwards', 'among', 'somehow', 'between', 'myself', 'forty', 'mine', 'not', 'bill', 'side', 'none', 'first', 'should', 'below', 'is', 'con', 'may', 'per', 'latterly', 'whenever', 'yours', 'before', 'onto', 'something', 'which', 'some', 'everywhere', 'only', 'along', 'give', 'ten', 'where', 'i', 'my', 'whereafter', 'these', 'with', 'yet', 'sometime', 'you', 'cannot', 'so', 'rather', 'moreover', 'etc', 'either', 'noone', 'someone', 'off', 'though', 'couldnt', 'until', 'we', 'be', 'back', 'them', 'anything', 'elsewhere', 'third', 'whole', 'nine', 'their', 'still', 'call', 'otherwise', 'everyone', 'less', 'have', 'de', 'nobody', 'anyhow', 'detail', 'other', 'yourself', 'next', 're', 'such', 'me', 'name', 'toward', 'must', 'everything', 'at', 'becoming', 'another', 'its', 'fifteen', 'from', 'get', 'here', 'herself', 'well', 'namely', 'has', 'sixty', 'sometimes', 'amount', 'keep', 'on', 'formerly', 'out', 'but', 'your', 'whom', 'can', 'even', 'except', 'around', 'done', 'eleven', 'front', 'towards', 'own', 'meanwhile', 'up', 'un', 'few', 'enough', 'cry', 'besides', 'others', 'show', 'three', 'are', 'very', 'least', 'wherever', 'many', 'seem', 'because', 'above', 'two', 'indeed', 'several', 'being', 'her', 'hereby', 'ie', 'put', 'about', 'anyone', 'four', 'after', 'any', 'co', 'had', 'fifty', 'his', 'inc', 'into', 'under', 'yourselves', 'each', 'therefore', 'see', 'himself', 'twelve', 'again'})\n"
     ]
    }
   ],
   "source": [
    "# set of stop words\n",
    "\n",
    "print(vect.get_stop_words())"
   ]
  },
  {
   "cell_type": "markdown",
   "metadata": {},
   "source": [
    "## Part 5: Other CountVectorizer Options"
   ]
  },
  {
   "cell_type": "markdown",
   "metadata": {},
   "source": [
    "- **max_features:** int or None, default=None\n",
    "- If not None, build a vocabulary that only consider the top max_features ordered by term frequency across the corpus."
   ]
  },
  {
   "cell_type": "code",
   "execution_count": 25,
   "metadata": {},
   "outputs": [
    {
     "name": "stdout",
     "output_type": "stream",
     "text": [
      "Features:  100\n",
      "Accuracy:  0.920814479638009\n",
      "Multinomial Naive Bayes\n"
     ]
    }
   ],
   "source": [
    "# remove English stop words and only keep 100 features\n",
    "\n",
    "vect = CountVectorizer(stop_words='english', max_features=100)\n",
    "tokenize_test(vect, model='nb')"
   ]
  },
  {
   "cell_type": "code",
   "execution_count": 26,
   "metadata": {},
   "outputs": [
    {
     "name": "stdout",
     "output_type": "stream",
     "text": [
      "['000', '10', 'actually', 'america', 'american', 'americans', 'amp', 'article', 'asian', 'average', 'bc', 'better', 'big', 'black', 'called', 'child', 'china', 'college', 'data', 'day', 'did', 'didn', 'does', 'doesn', 'don', 'dsmoxon', 'economic', 'economics', 'economists', 'economy', 'female', 'free', 'gender', 'going', 'good', 'government', 'help', 'higher', 'home', 'http', 'https', 'income', 'inequality', 'isn', 'job', 'jobs', 'just', 'know', 'like', 'link', 'live', 'look', 'make', 'man', 'mattocko', 'maybe', 'mean', 'men', 'need', 'new', 'old', 'pay', 'people', 'police', 'poor', 'ppl', 'read', 'really', 'right', 'said', 'say', 'says', 'sex', 'support', 'sure', 'tell', 'think', 'time', 'trump', 'trying', 'tweet', 'tweets', 'twitter', 'understand', 'use', 'using', 've', 'wage', 'want', 'way', 'white', 'woman', 'women', 'won', 'work', 'world', 'wrong', 'year', 'years', 'yes']\n"
     ]
    }
   ],
   "source": [
    "# all 100 features\n",
    "\n",
    "print(vect.get_feature_names())"
   ]
  },
  {
   "cell_type": "code",
   "execution_count": 27,
   "metadata": {},
   "outputs": [
    {
     "name": "stdout",
     "output_type": "stream",
     "text": [
      "Features:  38979\n",
      "Accuracy:  0.9264705882352942\n",
      "Multinomial Naive Bayes\n"
     ]
    }
   ],
   "source": [
    "# include 1-grams and 2-grams\n",
    "\n",
    "vect = CountVectorizer(ngram_range=(1, 2))\n",
    "tokenize_test(vect, model='nb')"
   ]
  },
  {
   "cell_type": "code",
   "execution_count": 28,
   "metadata": {},
   "outputs": [
    {
     "name": "stdout",
     "output_type": "stream",
     "text": [
      "Features:  10000\n",
      "Accuracy:  0.9321266968325792\n",
      "Multinomial Naive Bayes\n"
     ]
    }
   ],
   "source": [
    "# include 1-grams and 2-grams, and limit the number of features\n",
    "\n",
    "vect = CountVectorizer(ngram_range=(1, 2), max_features=10000)\n",
    "tokenize_test(vect, model='nb')"
   ]
  },
  {
   "cell_type": "markdown",
   "metadata": {},
   "source": [
    "- **min_df:** float in range [0.0, 1.0] or int, default=1\n",
    "    - When building the vocabulary ignore terms that have a document frequency strictly lower than the given threshold. This value is also called cut-off in the literature. If float, the parameter represents a proportion of documents, integer absolute counts."
   ]
  },
  {
   "cell_type": "code",
   "execution_count": 29,
   "metadata": {},
   "outputs": [
    {
     "name": "stdout",
     "output_type": "stream",
     "text": [
      "Features:  6676\n",
      "Accuracy:  0.9400452488687783\n",
      "Multinomial Naive Bayes\n",
      "['000', '000 character', '0dcd8f', '10', '10 000', '10 of', '10 years', '100', '100 000', '100 https', '100 people', '100k', '11', '12', '12 months', '14', '140', '15', '15 https', '15 minimum', '15 years', '16', '17', '18', '19', '1968', '1970s', '1990', '1jrice', '1st', '1st time', '20', '20 of', '200', '2000', '2007', '2008', '2011', '2013', '2014', '2015', '2015 https', '2016', '2016 https', '2016 trump', '2017', '2017 president', '2017 trump', '2018', '21', '22', '23', '24', '24k', '24k yr', '25', '27', '28', '29', '2nd', '30', '300', '31', '34', '35', '35 39', '35 years', '39', '39 hrs', '3d', '3rd', '40', '40 of', '400', '44', '45', '45 of', '47', '4th', '50', '50 bill', '50 million', '50 years', '500', '57', '59d7f4815cba4a6', '60', '60 of', '65', '69', '6th', '700', '71', '72', '74', '74 of', '75', '75 of', '78', '80', '84', '85', '85 of', '90', '90 https', '93', '94', '95', '95 of', '98', '_eeekric16_', '_romanelite', '_romanelite https', '_sunilrawat', 'abcliz', 'abdel_elbel', 'ability', 'ability to', 'able', 'able to', 'abortion', 'abortions', 'about', 'about economics', 'about how', 'about https', 'about it', 'about me', 'about my', 'about other', 'about sex', 'about the', 'about their', 'about this', 'about to', 'about you', 'about your', 'above', 'absolutely', 'abstract', 'abt', 'abuse', 'abusive', 'academic', 'academic papers', 'acceptable', 'acceptable than', 'acceptance', 'access', 'access to', 'accidentally', 'according', 'according to', 'account', 'accounts', 'accurate', 'accurate to', 'accusations', 'accuse', 'accused', 'accused me', 'across', 'across the', 'act', 'acting', 'acting like', 'action', 'actions', 'actively', 'actively try', 'actor', 'actors', 'actually', 'ad', 'ad free', 'ad hominem', 'ad_captandum', 'adam_messinger', 'add', 'added', 'addict', 'adnys', 'adopt', 'adult', 'advancement', 'advantage', 'advertises', 'advice', 'advice on', 'advocate', 'affect', 'affiliation', 'affiliations', 'afford', 'afford groceries', 'afford to', 'affordable', 'affordable housing', 'africa', 'africa https', 'african', 'african american', 'after', 'after being', 'after her', 'after it', 'after one', 'after the', 'again', 'again https', 'against', 'against asians', 'against the', 'age', 'age for', 'age https', 'age of', 'agency', 'agents', 'ago', 'ago https', 'agree', 'agree people', 'agree that', 'agree we', 'agree with', 'agrees', 'ai', 'airbnb', 'airdummer', 'airline', 'airlines', 'airport', 'airport after', 'ajbulldis', 'alex', 'alexismadrigal', 'algorithm', 'algorithmic', 'alien', 'alison', 'alison rapp', 'alisonrapp', 'all', 'all about', 'all asian', 'all day', 'all idiots', 'all muslims', 'all of', 'all the', 'all those', 'all women', 'allegation', 'allegations', 'alleged', 'allowed', 'allowed to', 'allowing', 'allows', 'almost', 'almost all', 'almost as', 'almost everyone', 'almostmedia', 'alone', 'already', 'already being', 'already know', 'also', 'also accused', 'also an', 'also be', 'also don', 'also not', 'also the', 'although', 'always', 'am', 'amazing', 'amazon', 'ambikapadmaloch', 'america', 'america https', 'america incl', 'america the', 'american', 'american airlines', 'american and', 'americans', 'americans are', 'americans have', 'americans https', 'americans now', 'amitabhchandra2', 'among', 'amount', 'amount of', 'amp', 'amp harvard', 'amp have', 'amp hispanics', 'amp https', 'amp if', 'amp more', 'amp not', 'amp other', 'amp seems', 'amp she', 'amp the', 'amp then', 'amp you', 'an', 'an act', 'an airport', 'an algorithm', 'an analysis', 'an argument', 'an article', 'an asshole', 'an econ', 'an economic', 'an economist', 'an employee', 'an employer', 'an hour', 'an increasingly', 'an individual', 'an observation', 'an old', 'an opinion', 'analysis', 'analysis of', 'and', 'and all', 'and called', 'and can', 'and companies', 'and didn', 'and don', 'and economists', 'and education', 'and electricity', 'and ethical', 'and former', 'and founded', 'and get', 'and got', 'and he', 'and his', 'and if', 'and in', 'and income', 'and is', 'and it', 'and make', 'and men', 'and minorities', 'and more', 'and most', 'and no', 'and not', 'and people', 'and political', 'and should', 'and south', 'and that', 'and the', 'and their', 'and they', 'and this', 'and we', 'and what', 'and women', 'and you', 'andlawbrown', 'andreahardie', 'andreakuszewski', 'andreakuszewski https', 'anec', 'anec data', 'angeles', 'angeliki_pap', 'angrily', 'angry', 'animals', 'anime', 'annalpeak', 'announces', 'annoying', 'annual', 'anonymous', 'anonymous twitter', 'another', 'answer', 'answers', 'answers can', 'antagonistic', 'anthonyvanson', 'anti', 'any', 'any houses', 'any of', 'anyone', 'anyone wants', 'anyone who', 'anything', 'anything else', 'anyway', 'anywhere', 'ap', 'apart', 'apartment', 'apartments', 'app', 'apparently', 'appeal', 'appeal to', 'appears', 'apple', 'applicants', 'applied', 'apply', 'approach', 'appropriate', 'appropriate for', 'apt', 'apxhard', 'arabia', 'are', 'are about', 'are actually', 'are all', 'are already', 'are also', 'are as', 'are asian', 'are being', 'are better', 'are coming', 'are criticizing', 'are diff', 'are finding', 'are https', 'are in', 'are just', 'are less', 'are likely', 'are more', 'are not', 'are now', 'are ok', 'are only', 'are paid', 'are so', 'are some', 'are the', 'are they', 'are those', 'are too', 'are we', 'are working', 'are wrong', 'are you', 'are your', 'area', 'area https', 'aren', 'argue', 'argument', 'argument by', 'argument is', 'argument that', 'arguments', 'arianevans', 'arianevans flatland_usa', 'armed', 'armor', 'armor piercing', 'army', 'around', 'around the', 'arrested', 'arrested for', 'arresting', 'arrive', 'article', 'article but', 'article is', 'article now', 'article on', 'article you', 'articles', 'artisanal', 'artist', 'as', 'as biggest', 'as for', 'as his', 'as if', 'as important', 'as it', 'as long', 'as much', 'as part', 'as soon', 'as the', 'as they', 'as unemployed', 'as well', 'as white', 'as woman', 'as women', 'asexual', 'asia', 'asia has', 'asian', 'asian girls', 'asian women', 'asians', 'asians amp', 'asians are', 'asians don', 'ask', 'ask for', 'asked', 'asked me', 'asking', 'asking for', 'asks', 'aspects', 'aspects of', 'assa2016', 'assault', 'assaulted', 'assert', 'assertion', 'asshole', 'assume', 'asylum', 'at', 'at all', 'at colleges', 'at her', 'at higher', 'at home', 'at least', 'at me', 'at the', 'at their', 'at this', 'at walmart', 'at work', 'at you', 'atabarrok', 'ate', 'atroyn', 'attacks', 'attacks https', 'attacks in', 'attainment', 'attention', 'attention to', 'attitude', 'attractive', 'attractive women', 'auction', 'auditions', 'audreymspolitic', 'australia', 'author', 'author of', 'authoritarian', 'authority', 'auto', 'autocorrect', 'automated', 'automation', 'autonomous', 'available', 'aveeuropa', 'average', 'average cost', 'avoid', 'avoided', 'aware', 'away', 'awtu5r0sqc', 'azizonomics', 'ba', 'baby', 'baby boomers', 'baby head', 'back', 'back to', 'backwards', 'bacteria', 'bad', 'bad and', 'bad idea', 'bag', 'balance', 'ball', 'ballot', 'ballot https', 'baltimore', 'ban', 'banana', 'bank', 'bank of', 'bankers', 'bankers https', 'bankruptcy', 'banks', 'banned', 'bark', 'base', 'baseball', 'based', 'based on', 'basic', 'basic income', 'basically', 'basing', 'bathroom', 'batman', 'battery', 'bay', 'bc', 'bc it', 'bc of', 'bc she', 'bc the', 'bc you', 'be', 'be able', 'be easier', 'be found', 'be good', 'be having', 'be in', 'be less', 'be made', 'be mindful', 'be more', 'be nicer', 'be on', 'be that', 'be the', 'be used', 'bear', 'bear chasing', 'beat', 'beating', 'beauty', 'became', 'became the', 'because', 'because he', 'because it', 'because of', 'because she', 'because some', 'because they', 'because you', 'become', 'becomes', 'becomes the', 'becoming', 'becoming more', 'bedbugs', 'bedroom', 'beef', 'been', 'been able', 'been raped', 'been the', 'beer', 'before', 'began', 'begin', 'beginning', 'behavior', 'behavioral', 'behavioral economics', 'behind', 'behind the', 'beijing', 'being', 'being able', 'being sold', 'being used', 'beliefs', 'believe', 'believe it', 'believe that', 'believes', 'belly', 'belong', 'belong to', 'belongs', 'belongs to', 'below', 'ben_reinhardt', 'beneficial', 'benefit', 'benefit from', 'benefit the', 'benefits', 'berglar', 'berglar markdharris', 'bernardino', 'bernie', 'bernie sanders', 'berniebroads', 'berniesanders', 'best', 'best example', 'best friend', 'beta', 'better', 'better by', 'better for', 'better off', 'better than', 'better to', 'better understand', 'between', 'between the', 'bfinstock', 'bias', 'big', 'big banks', 'big data', 'big deal', 'big economies', 'big us', 'bigger', 'biggest', 'biggest source', 'bill', 'billion', 'billion dollar', 'billion hours', 'billion in', 'billionaire', 'billionaires', 'bio', 'biologist', 'biology', 'birth', 'birth certificate', 'bitcoin', 'bitcoin https', 'biz', 'bizarre', 'bizarre that', 'black', 'black american', 'black people', 'blackrepublican', 'blacks', 'blame', 'blamed', 'blassey', 'blind', 'block', 'blocked', 'blocked by', 'blocked me', 'blocking', 'blocklist', 'blocks', 'blog', 'blood', 'bloomberg', 'bloomberg is', 'blow', 'bls', 'bls_gov', 'blue', 'bnorthy', 'bobatl', 'bodies', 'body', 'body of', 'bold', 'bombing', 'bombing in', 'book', 'books', 'books on', 'boom', 'boomers', 'boost', 'booze', 'boring', 'born', 'born in', 'born on', 'born2beslicker', 'boss', 'boston', 'both', 'bottle', 'bottled', 'bottled water', 'bottom', 'bottom of', 'bought', 'bought his', 'bourgeois', 'bowl', 'box', 'boy', 'boyfriend', 'boyfriends', 'boys', 'bpseudomallei', 'brains', 'brand', 'brazil', 'breaking', 'brexit', 'brexit analysis', 'bridge', 'bring', 'bringing', 'brizee25', 'broken', 'brooklyn', 'brooklynbrett', 'brown', 'brussels', 'bryanspeece', 'bryanspeece pmarca', 'bubbamacleod', 'budget', 'build', 'build any', 'building', 'built', 'bullets', 'bullets by', 'bullshit', 'bullying', 'bunch', 'bunch of', 'burden', 'burns', 'bus', 'bush', 'business', 'businesses', 'busy', 'but', 'but also', 'but as', 'but can', 'but don', 'but he', 'but how', 'but if', 'but is', 'but it', 'but maybe', 'but my', 'but no', 'but not', 'but seeing', 'but she', 'but still', 'but that', 'but the', 'but there', 'but they', 'but think', 'but this', 'but was', 'but we', 'but women', 'but you', 'button', 'buy', 'buy you', 'buying', 'by', 'by assertion', 'by clicking', 'by its', 'by journalistic', 'by major', 'by mistake', 'by my', 'by ninjaeconomics', 'by not', 'by people', 'by robot', 'by some', 'by that', 'by the', 'by trump', 'by your', 'byu', 'ca', 'cab', 'cake', 'calendar', 'calendar https', 'calestous', 'california', 'call', 'call for', 'call her', 'called', 'called me', 'called the', 'calling', 'calling me', 'calls', 'calm', 'calm down', 'caltech', 'came', 'came from', 'camera', 'camillezajac', 'camp', 'campaign', 'campaign manager', 'can', 'can afford', 'can be', 'can close', 'can do', 'can even', 'can get', 'can have', 'can live', 'can make', 'can only', 'can shatter', 'can tell', 'can we', 'can you', 'canada', 'cancelled', 'cancels', 'cancer', 'candidate', 'candidate who', 'candidates', 'candy', 'cap', 'capital', 'capitalist', 'capitol', 'capture', 'captures', 'car', 'car https', 'caramelzappa', 'carbon', 'card', 'cards', 'care', 'care about', 'care abt', 'care of', 'cared', 'career', 'career advancement', 'carefully', 'cares', 'cariromm', 'cariromm nategoldman', 'carolina', 'carpets', 'cars', 'cars are', 'carson', 'carson once', 'cartoon', 'case', 'case https', 'case you', 'cases', 'cash', 'casino', 'cat', 'catch', 'catch cheating', 'catch on', 'category', 'cathyyoung63', 'cats', 'caucus', 'caught', 'cause', 'caused', 'causes', 'cavillacis', 'cc', 'celebrate', 'celebrating', 'celebrities', 'cell', 'celtic', 'celtic cross', 'census', 'center', 'center of', 'central', 'central banks', 'century', 'century https', 'ceo', 'certain', 'certainly', 'certificate', 'cflancop', 'chain', 'chalk', 'challenges', 'chance', 'chance of', 'chance to', 'chances', 'change', 'change https', 'changes', 'changes in', 'changing', 'character', 'character limit', 'characterize', 'characters', 'charge', 'charge of', 'charged', 'charged with', 'charges', 'charity', 'chart', 'chart of', 'chart shows', 'charts', 'chasing', 'cheap', 'cheaper', 'cheating', 'check', 'checked', 'cheetos', 'cheetos https', 'chicago', 'chick', 'chicken', 'chief', 'child', 'child porn', 'child pornography', 'child she', 'child support', 'child what', 'childcare', 'children', 'children https', 'children is', 'china', 'china https', 'china just', 'china pursuing', 'china stock', 'china wants', 'chinese', 'choice', 'choices', 'choose', 'choose to', 'chooses', 'choosing', 'chose', 'chris_gaun', 'chrisbrasfield', 'chrislhayes', 'chrislhayes https', 'christian', 'christie', 'christmas', 'christmas eve', 'chsommers', 'church', 'cited', 'cities', 'citizens', 'city', 'city of', 'civil', 'ckthinks', 'claim', 'claim to', 'claimed', 'claims', 'claims it', 'clairlemon', 'clairlemon https', 'clarification', 'clarkgoble', 'class', 'class by', 'class https', 'classes', 'classy', 'classy move', 'claudia', 'claudia goldin', 'clear', 'clearly', 'clearly the', 'clicking', 'clicking the', 'clients', 'climate', 'climate change', 'clinic', 'clinton', 'clinton is', 'close', 'close the', 'closes', 'club', 'clyties', 'cnn', 'co', 'co awtu5r0sqc', 'co ddx6gnk9ki', 'co e5dezjztep', 'co iqslrbrsdb', 'co ktsy0jdimp', 'co lzzl1zwcnf', 'co oflkx6yq4o', 'co yitib0dqab', 'co60ca', 'coast', 'cobrownell', 'code', 'code violations', 'codes', 'coding', 'cognitive', 'colinismyname', 'collar', 'collected', 'college', 'college degree', 'college dropout', 'college grads', 'college like', 'college try', 'colleges', 'cologne', 'color', 'color is', 'colorado', 'combat', 'combined', 'combined https', 'come', 'comedian', 'comes', 'comes to', 'comfort', 'coming', 'comment', 'comment is', 'comment on', 'commenting', 'comments', 'committee', 'common', 'communism', 'communist', 'communities', 'community', 'companies', 'companies are', 'companies have', 'company', 'company by', 'company is', 'compare', 'compared', 'compared to', 'compassion', 'compassion for', 'compete', 'compete with', 'competition', 'complain', 'complain about', 'complaint', 'complaints', 'completely', 'comply', 'composite', 'composite index', 'composite metal', 'computer', 'computers', 'concept', 'concern', 'concerned', 'conclusions', 'confederate', 'confederate flag', 'conference', 'confidence', 'confirm', 'confirmed', 'congrats', 'congratulations', 'congress', 'congress votes', 'connection', 'conorsen', 'conorsen tylercowen', 'consent', 'consent to', 'consequences', 'conservative', 'conservative https', 'conservatives', 'consider', 'considered', 'considering', 'consistent', 'consistent with', 'conspiracy', 'consumers', 'consumes', 'consumes three', 'contact', 'contacting', 'contagious', 'contest', 'context', 'continue', 'continue to', 'continues', 'contract', 'contribute', 'contributed', 'contributed to', 'contributing', 'contribution', 'control', 'controller', 'controversial', 'convention', 'conversation', 'conversation about', 'conversations', 'convo', 'cookies', 'cool', 'coopernumpy', 'cops', 'correct', 'correctly', 'correlated', 'correlates', 'correlation', 'correlation between', 'corruption', 'cost', 'cost of', 'costs', 'costs https', 'could', 'could also', 'could be', 'could have', 'could make', 'could ve', 'couldn', 'council', 'counseling', 'count', 'countcarbon', 'countcarbon https', 'counter', 'countries', 'country', 'country https', 'county', 'couple', 'couples', 'course', 'course you', 'courses', 'court', 'courtgolf', 'cover', 'covering', 'covering this', 'cow', 'cowboychippewa', 'cowboychippewa flowtraderes', 'cp', 'crashes', 'crazy', 'creamontop', 'create', 'create negative', 'created', 'creates', 'creating', 'creation', 'credible', 'credible enough', 'credit', 'creep', 'creep shots', 'cridmo', 'crime', 'crime https', 'crimes', 'criminal', 'criminalizing', 'crises', 'crisis', 'crisis https', 'critical', 'criticize', 'criticize me', 'criticized', 'criticizing', 'criticizing the', 'critics', 'cross', 'crossword', 'crowdfunding', 'cruz', 'cruz will', 'cs', 'ctzn5', 'ctzn5 actually', 'cubegrl', 'cubegrl james_tierney', 'cultural', 'culture', 'culture fit', 'cunningpike', 'cups', 'curious', 'currencies', 'currency', 'currency https', 'current', 'currently', 'customer', 'customs', 'cut', 'cwmagee', 'da', 'daddy', 'dads', 'daily', 'dailymail', 'dan_nahum', 'dan_nahum laurenholliday_', 'danactivated', 'dangerous', 'danmalashock', 'dannygordon1', 'dark', 'dartigen', 'data', 'data https', 'dataviz', 'date', 'dating', 'daughter', 'daughter she', 'daughters', 'davemcclure', 'davemcclure https', 'davidrcrowe', 'davos', 'dawnsfire', 'day', 'day for', 'days', 'dbrockwilliams', 'dbrockwilliams inc', 'dc', 'ddx6gnk9ki', 'dead', 'dead https', 'deal', 'deal https', 'dealing', 'deals', 'death', 'death star', 'debate', 'debate https', 'debt', 'debt crisis', 'debt https', 'debunk', 'debunked', 'decade', 'december', 'decide', 'deciding', 'deciding to', 'decision', 'decision making', 'decisions', 'decks', 'declared', 'decline', 'declined', 'decrease', 'deep', 'defeat', 'defeat mindset', 'defend', 'defended', 'defender', 'defending', 'defending baby', 'defense', 'defense of', 'deficit', 'definition', 'definition of', 'degree', 'degree but', 'degree https', 'degrees', 'degrees https', 'delaying', 'deleted', 'deleting', 'deliberately', 'delivered', 'delivered to', 'delmoi', 'demand', 'demands', 'democracy', 'democrat', 'democratic', 'democratic debate', 'democrats', 'dencuddy', 'dendisuhubdy', 'denied', 'deny', 'department', 'depending', 'depending on', 'deport', 'deported', 'dept', 'describe', 'describes', 'deserve', 'desirable', 'despite', 'details', 'determine', 'determines', 'determines whether', 'detroit', 'dhart1987', 'dholland662', 'dholland662 johnriverstoo', 'dice', 'dice roll', 'did', 'did at', 'did he', 'did not', 'did you', 'didn', 'didn care', 'didn catch', 'didn even', 'didn have', 'didn like', 'didn make', 'didn say', 'didn see', 'didn think', 'didn work', 'die', 'die https', 'died', 'died from', 'dies', 'dies after', 'diff', 'differed', 'differed from', 'difference', 'difference between', 'differences', 'different', 'differently', 'difficult', 'digital', 'direct', 'disagree', 'disagree on', 'disagree with', 'disagreed', 'disagreeing', 'disagreement', 'disappears', 'disappoint', 'discovered', 'discriminates', 'discriminates against', 'discrimination', 'disingenuous', 'dismiss', 'distribution', 'districts', 'diverse', 'diversity', 'division', 'divisive', 'divorced', 'dm', 'dm me', 'do', 'do and', 'do but', 'do each', 'do https', 'do if', 'do in', 'do not', 'do the', 'do they', 'do we', 'do you', 'doctors', 'does', 'does economics', 'does it', 'does not', 'does the', 'doesn', 'doesn explain', 'doesn have', 'doesn make', 'doesn mean', 'doesn prevent', 'dog', 'dogs', 'doing', 'dollar', 'dollars', 'domestic', 'dominance', 'don', 'don be', 'don believe', 'don even', 'don get', 'don go', 'don have', 'don help', 'don know', 'don like', 'don mate', 'don need', 'don require', 'don say', 'don see', 'don share', 'don think', 'don understand', 'don use', 'don want', 'don worry', 'donald', 'donald trump', 'donations', 'done', 'donmegel', 'donuts', 'door', 'double', 'doubt', 'down', 'down after', 'down by', 'down for', 'down the', 'down to', 'downside', 'dpcrook', 'dr', 'draft', 'dress', 'dressing', 'drew', 'drew luke1732mullen', 'drink', 'drinking', 'drive', 'driver', 'drivers', 'drivers https', 'drives', 'driving', 'drkenyon', 'drkenyon blackrepublican', 'drones', 'drones https', 'drop', 'dropout', 'drops', 'drops https', 'drpippam', 'drug', 'drunk', 'dsmoxon', 'dsmoxon but', 'dsmoxon https', 'dude', 'due', 'due to', 'duggycap', 'dumb', 'dumpster', 'during', 'dying', 'e5dezjztep', 'each', 'each of', 'each other', 'earlier', 'early', 'earn', 'earn less', 'earn more', 'earners', 'earning', 'earnings', 'earth', 'easier', 'easier for', 'easier to', 'easily', 'easter', 'eastern', 'eastwindtrades', 'easy', 'easy to', 'eat', 'econ', 'economic', 'economic calendar', 'economic diversity', 'economic goals', 'economic growth', 'economic policy', 'economic problems', 'economic statistics', 'economics', 'economics and', 'economics https', 'economics in', 'economics is', 'economics of', 'economics ph', 'economics to', 'economies', 'economies matter', 'economist', 'economists', 'economists are', 'economists in', 'economists see', 'economists who', 'economy', 'economy https', 'economy is', 'ecuador', 'edition', 'edition of', 'editor', 'editors', 'edu', 'edu is', 'educated', 'educated women', 'education', 'education is', 'effect', 'effect on', 'effects', 'efficiency', 'efforts', 'egalitarian', 'egg', 'eggs', 'eh', 'eight', 'einstein', 'either', 'election', 'election https', 'electricity', 'eleven', 'eligible', 'elites', 'else', 'else are', 'else https', 'embarrassment', 'emergency', 'emergency in', 'emerging', 'emmersena', 'emotional', 'employable', 'employed', 'employee', 'employee views', 'employees', 'employer', 'employers', 'employment', 'encourage', 'encryption', 'end', 'end up', 'ending', 'ends', 'ends up', 'energy', 'enforcement', 'eng', 'engage', 'engineering', 'engineers', 'england', 'english', 'enjoy', 'enough', 'enough to', 'entertain', 'entire', 'entirely', 'entitled', 'entitled to', 'entitlement', 'entrepreneurs', 'entrepreneurship', 'environmental', 'epitygxanwn', 'epitygxanwn delmoi', 'equal', 'equality', 'equality https', 'equally', 'equitablegrowth', 'equitablegrowth justinwolfers', 'equity', 'ericyuany', 'error', 'escaped', 'escaped war', 'escort', 'escort allegations', 'esl', 'esp', 'etc', 'ethical', 'ethics', 'ethiopia', 'ethnic', 'eu', 'eu https', 'europe', 'european', 'eve', 'eve is', 'even', 'even fewer', 'even if', 'even know', 'even more', 'even read', 'even the', 'even though', 'even when', 'event', 'event in', 'eventually', 'ever', 'ever year', 'every', 'every day', 'every year', 'everybody', 'everyone', 'everyone but', 'everyone else', 'everyone is', 'everything', 'everything https', 'everything in', 'everything they', 'evidence', 'evidence that', 'ex', 'ex_nihilo_0', 'exact', 'exact opposite', 'exactly', 'examine', 'example', 'example of', 'except', 'except when', 'exception', 'exception rather', 'exceptions', 'exchange', 'excited', 'exclusive', 'excuse', 'execute', 'execution', 'execution style', 'executives', 'exist', 'existed', 'exists', 'exit', 'expect', 'expect the', 'expected', 'expected https', 'expected to', 'expecting', 'expenses', 'expensive', 'experience', 'experiences', 'expert', 'expert gives', 'experts', 'explain', 'explainafilmplotbadly', 'explainafilmplotbadly https', 'explained', 'explaining', 'explains', 'explains why', 'exposed', 'express', 'expressed', 'extended', 'extortion', 'extra', 'extremely', 'eyebrows', 'face', 'face there', 'facebook', 'facebook amp', 'facebook is', 'faces', 'fact', 'factory', 'facts', 'fail', 'failed', 'failing', 'failure', 'failure to', 'fair', 'fake', 'fall', 'fallacy', 'falleneconomist', 'falling', 'false', 'fame', 'familiar', 'familiar with', 'families', 'family', 'family leave', 'famous', 'fancy', 'fans', 'far', 'fardarter', 'farmers', 'farms', 'fascinating', 'fascism', 'fascists', 'fascists https', 'fastest', 'fastest growing', 'fat', 'father', 'fathers', 'fathers share', 'fathers take', 'favorability', 'favorite', 'fb', 'fbi', 'fear', 'fed', 'federal', 'federal government', 'fee', 'feel', 'feel superior', 'female', 'female economists', 'female employees', 'female journalists', 'female phds', 'female scientist', 'feminism', 'feminist', 'feminists', 'fence', 'fence http', 'fetal', 'fetus', 'few', 'fewer', 'fewer hours', 'field', 'fields', 'fifths', 'fight', 'fighting', 'fights', 'figure', 'figure out', 'filed', 'files', 'filled', 'filled with', 'film', 'filter', 'finalists', 'finalists for', 'finally', 'financial', 'financial crises', 'financial crisis', 'financial incentives', 'financially', 'find', 'find it', 'find out', 'find this', 'finding', 'finds', 'fine', 'fire', 'fire someone', 'fired', 'fired for', 'fires', 'firms', 'first', 'first time', 'first woman', 'fit', 'fit in', 'fit legal', 'five', 'fivethirtyeight', 'fix', 'fix it', 'fixing', 'flag', 'flamin', 'flamin hot', 'flashlight', 'flashlight to', 'flat', 'flatland_usa', 'fleek', 'fleek https', 'flight', 'flights', 'flint', 'flint michigan', 'flip', 'floating', 'flowtraderes', 'fly', 'foam', 'foam can', 'focus', 'focus on', 'follow', 'followers', 'followers so', 'following', 'food', 'food and', 'foolish', 'footnote', 'for', 'for 10', 'for 1st', 'for all', 'for an', 'for another', 'for being', 'for bloomberg', 'for comment', 'for doing', 'for earth', 'for every', 'for everyone', 'for ex', 'for example', 'for fence', 'for free', 'for gender', 'for girls', 'for growth', 'for her', 'for higher', 'for https', 'for it', 'for its', 'for less', 'for living', 'for me', 'for men', 'for money', 'for more', 'for my', 'for new', 'for not', 'for one', 'for other', 'for people', 'for reason', 'for stealing', 'for survival', 'for termination', 'for that', 'for the', 'for their', 'for them', 'for this', 'for those', 'for trump', 'for us', 'for which', 'for white', 'for women', 'for you', 'for young', 'for your', 'force', 'forced', 'forced to', 'forces', 'forcibly', 'forecast', 'foreign', 'foreign policy', 'forget', 'form', 'form of', 'formal', 'former', 'fort', 'forward', 'found', 'found by', 'found that', 'found the', 'foundation', 'founded', 'founded tech', 'founder', 'founder of', 'founders', 'founders can', 'four', 'fox', 'france', 'frances_coppola', 'francisco', 'francisco edition', 'francisco where', 'fraud', 'freakonometrics', 'free', 'free college', 'free https', 'free lunch', 'free speech', 'free trade', 'freedom', 'freedom https', 'fresh', 'friend', 'friendly', 'friends', 'from', 'from an', 'from being', 'from having', 'from hunger', 'from reading', 'from the', 'from yelp', 'front', 'front runner', 'fuel', 'full', 'full of', 'full report', 'full time', 'fun', 'fun of', 'funded', 'funding', 'funny', 'further', 'future', 'future of', 'fwoodbridge', 'gains', 'galka_max', 'galka_max https', 'gallon', 'gallon in', 'game', 'game of', 'gamergate', 'games', 'gaminganalytics', 'gaminganarchist', 'gap', 'gap has', 'gap https', 'gap is', 'gas', 'gasoline', 'gathering', 'gave', 'gay', 'gays', 'gdp', 'geekiestwoman', 'geekiestwoman https', 'gen', 'gender', 'gender pay', 'gender wage', 'gendered', 'genders', 'general', 'generated', 'generation', 'generous', 'georgeclontz', 'german', 'gerrydales', 'get', 'get health', 'get married', 'get me', 'get more', 'get paid', 'get the', 'get their', 'get to', 'get your', 'gets', 'gets away', 'getting', 'giant', 'gift', 'gig', 'gig economy', 'gigadwarf', 'giladdo', 'gilr', 'girl', 'girl who', 'girls', 'girls https', 'girls who', 'give', 'give context', 'give it', 'given', 'gives', 'gives advice', 'giving', 'glasses', 'global', 'global economy', 'global gdp', 'global growth', 'go', 'go back', 'go from', 'go https', 'go to', 'goal', 'goal is', 'goals', 'goals https', 'godzilla', 'goes', 'goes to', 'gofundme', 'going', 'going on', 'going to', 'goldin', 'goldman', 'goldman sachs', 'gone', 'gonna', 'gonna get', 'good', 'good for', 'good https', 'good jobs', 'good thing', 'good to', 'goods', 'google', 'google is', 'google translate', 'gop', 'gop primary', 'gop version', 'gorintic', 'got', 'got it', 'got lot', 'gov', 'government', 'govt', 'graders', 'grads', 'graduates', 'grammar', 'granularity', 'granularity is', 'graphic', 'graykimbrough', 'great', 'great again', 'greater', 'greatest', 'greece', 'greedy', 'green', 'grew', 'grew up', 'greyknight7777', 'greyknight7777 andreahardie', 'groceries', 'grok_', 'grok_ https', 'gross', 'ground', 'group', 'group of', 'groups', 'growing', 'growth', 'growth https', 'growth in', 'gt', 'guardian', 'guess', 'guessing', 'guilty', 'guilty of', 'guisebule', 'gun', 'gun sales', 'guy', 'guy who', 'guys', 'ha', 'hack', 'had', 'had read', 'had said', 'had to', 'had you', 'hahaha', 'hair', 'hair is', 'half', 'half of', 'half the', 'ham', 'hampshire', 'hand', 'hand in', 'handed', 'handle', 'hands', 'hands trump', 'happen', 'happened', 'happened in', 'happened to', 'happy', 'harassers', 'harassment', 'harassment https', 'harassment of', 'hard', 'hard to', 'hard work', 'harder', 'harder to', 'harm', 'harmful', 'harper', 'harsh', 'harvard', 'has', 'has added', 'has been', 'has ever', 'has failed', 'has greater', 'has increased', 'has more', 'has replaced', 'has such', 'has the', 'hashtag', 'hasn', 'hate', 'hate crime', 'hatimalzoubi', 'hats', 'have', 'have an', 'have been', 'have enough', 'have happened', 'have higher', 'have https', 'have in', 'have less', 'have loved', 'have more', 'have new', 'have no', 'have one', 'have read', 'have said', 'have sex', 'have the', 'have to', 'haven', 'having', 'having abortions', 'having more', 'having sex', 'hawaii_jack_', 'hb2', 'he', 'he also', 'he didn', 'he had', 'he needs', 'he only', 'he rejected', 'he the', 'he was', 'head', 'headline', 'headlines', 'health', 'health care', 'healthy', 'hear', 'heard', 'heard of', 'heart', 'heat', 'heels', 'hell', 'help', 'help me', 'help some', 'help you', 'helpful', 'helpful to', 'helping', 'helps', 'hendrix357', 'her', 'her but', 'her career', 'her chance', 'her gender', 'her own', 'her story', 'her to', 'her tweet', 'her tweets', 'her way', 'here', 'here another', 'here but', 'here is', 'here the', 'here to', 'hero', 'heroin', 'heroin addict', 'herself', 'hey', 'hi', 'hidden', 'hide', 'hiding', 'high', 'high school', 'higher', 'higher labor', 'higher of', 'higher paying', 'highest', 'highly', 'highly educated', 'hike', 'hillary', 'hillary clinton', 'hillaryclinton', 'him', 'him https', 'him to', 'himself', 'hire', 'hire more', 'hired', 'hires', 'hiring', 'his', 'his her', 'his interns', 'his tweets', 'his wife', 'hispanic', 'hispanics', 'historically', 'history', 'history https', 'hit', 'hits', 'hitting', 'hivetheory', 'hold', 'hold flashlight', 'holding', 'hollywood', 'home', 'home with', 'homeless', 'homes', 'hominem', 'honest', 'honesty', 'honor', 'honor code', 'honor of', 'hookups', 'hope', 'hopes_your', 'hopes_your jeneps', 'hospital', 'hot', 'hot cheetos', 'hotels', 'hour', 'hours', 'hours in', 'house', 'house is', 'household', 'household income', 'households', 'houses', 'housing', 'housing for', 'how', 'how can', 'how do', 'how does', 'how else', 'how in', 'how is', 'how many', 'how much', 'how paternity', 'how the', 'how they', 'how to', 'how we', 'however', 'hr', 'hrs', 'hrs wk', 'hs', 'hs degree', 'http', 'http co', 'https', 'https co', 'huge', 'hughm88', 'hughm88 lucasjlynch', 'human', 'humans', 'hundreds', 'hunger', 'hurry', 'hurt', 'hurt the', 'hydrophobicfish', 'hygiene', 'hypothetical', 'iceland', 'id', 'idea', 'ideas', 'idiots', 'if', 'if an', 'if anyone', 'if had', 'if he', 'if her', 'if it', 'if not', 'if only', 'if other', 'if she', 'if so', 'if someone', 'if the', 'if there', 'if they', 'if twitter', 'if we', 'if you', 'ig', 'ignorance', 'ignore', 'ignore the', 'ignoring', 'iguzm4n', 'illegal', 'illness', 'imagine', 'imf', 'imf predicts', 'immediate', 'immediately', 'immigrants', 'immigrants https', 'immigrants to', 'immigration', 'impact', 'impact on', 'imply', 'implying', 'important', 'important to', 'in', 'in 1968', 'in 20', 'in 2013', 'in 2014', 'in 2015', 'in 2016', 'in 2018', 'in africa', 'in all', 'in america', 'in an', 'in article', 'in california', 'in case', 'in charge', 'in china', 'in college', 'in cologne', 'in dc', 'in december', 'in defense', 'in diff', 'in economics', 'in effect', 'in every', 'in flint', 'in general', 'in her', 'in his', 'in hollywood', 'in honor', 'in https', 'in hurry', 'in india', 'in japan', 'in jobs', 'in life', 'in major', 'in many', 'in mind', 'in my', 'in new', 'in nyc', 'in one', 'in order', 'in panamapapers', 'in prison', 'in san', 'in sf', 'in silicon', 'in six', 'in some', 'in sv', 'in syria', 'in tech', 'in that', 'in the', 'in their', 'in this', 'in three', 'in traffic', 'in tweet', 'in twitter', 'in us', 'in venezuela', 'in year', 'in your', 'inappropriate', 'inc', 'inc how', 'inc laurenholliday_', 'incentives', 'incl', 'incl mexico', 'include', 'include for', 'included', 'including', 'inclusive', 'income', 'income https', 'income in', 'income inequality', 'income is', 'income or', 'income tax', 'income taxes', 'incomes', 'incompatible', 'incompatible economic', 'incompetent', 'increase', 'increase in', 'increased', 'increases', 'increases https', 'increasing', 'increasingly', 'index', 'india', 'indian', 'indian hair', 'indiana', 'indicate', 'individual', 'individuals', 'industries', 'industry', 'inequality', 'inequality but', 'inequality by', 'inequality https', 'inequality is', 'infer', 'inflation', 'influence', 'info', 'information', 'infrastructure', 'injected', 'injured', 'innovation', 'innovators', 'inperilous1', 'insane', 'insert', 'insert themselves', 'inside', 'inside the', 'inspector', 'instagram', 'instead', 'instead of', 'institutions', 'insult', 'insulting', 'insurance', 'intended', 'intent', 'intentionally', 'interest', 'interest rates', 'interested', 'interested in', 'interesting', 'interfluidity', 'internationalwomensday', 'internet', 'internet to', 'interns', 'interpreted', 'interview', 'interview on', 'interviewed', 'into', 'into sexual', 'into the', 'invade', 'invented', 'inventor', 'invents', 'investigate', 'investigation', 'investments', 'investosia', 'investosia lorenasgonzalez', 'invisible', 'invited', 'invited to', 'involved', 'iowa', 'iphone', 'ipo', 'iq', 'iqslrbrsdb', 'iran', 'iraq', 'irony', 'irrelevant', 'is', 'is about', 'is actually', 'is also', 'is an', 'is bad', 'is based', 'is becoming', 'is beneficial', 'is bernie', 'is best', 'is better', 'is but', 'is cheap', 'is china', 'is disagreeing', 'is exactly', 'is finally', 'is getting', 'is going', 'is good', 'is great', 'is he', 'is helpful', 'is how', 'is in', 'is it', 'is just', 'is less', 'is like', 'is making', 'is more', 'is muslim', 'is my', 'is no', 'is not', 'is now', 'is on', 'is one', 'is only', 'is out', 'is pretty', 'is pro', 'is ranked', 'is really', 'is served', 'is so', 'is still', 'is suggesting', 'is tantamount', 'is that', 'is the', 'is there', 'is this', 'is to', 'is what', 'is where', 'is working', 'is worth', 'is wrong', 'is you', 'ish', 'isis', 'isn', 'issue', 'issue of', 'issues', 'it', 'it almost', 'it also', 'it an', 'it as', 'it back', 'it bc', 'it be', 'it better', 'it called', 'it cheaper', 'it comes', 'it didn', 'it does', 'it doesn', 'it goes', 'it good', 'it hard', 'it has', 'it https', 'it illegal', 'it in', 'it is', 'it just', 'it legally', 'it like', 'it ll', 'it looks', 'it make', 'it may', 'it might', 'it more', 'it not', 'it on', 'it once', 'it out', 'it possible', 'it pretty', 'it relevant', 'it seems', 'it should', 'it so', 'it sounds', 'it takes', 'it that', 'it the', 'it they', 'it to', 'it took', 'it true', 'it used', 'it usually', 'it was', 'it wasn', 'it when', 'it will', 'it would', 'it wrong', 'it you', 'items', 'its', 'its electricity', 'its own', 'its position', 'its supported', 'itself', 'j777enriq', 'j777enriq https', 'jacobgoolkasian', 'jactorrez', 'jail', 'jakeraden', 'jakeraden cwmagee', 'james_tierney', 'janitor', 'jankowski60', 'january', 'january 2015', 'japan', 'jasemurphy', 'jasemurphy weirdshitblog', 'jason', 'jaspar', 'jbaksht', 'jbullock85', 'jbullock85 okayultra', 'jchaddavis', 'jchaddavis ex_nihilo_0', 'jeb', 'jeb bush', 'jedi', 'jefoster_', 'jeneps', 'jeneps abcliz', 'jenner', 'jenniferjmedina', 'jesselucassaga', 'jesselucassaga dencuddy', 'jessesingal', 'jessesingal cariromm', 'jessesingal nymag', 'jessgrose', 'job', 'job and', 'job https', 'job to', 'jobless', 'jobless rate', 'jobs', 'jobs are', 'jobs could', 'jobs https', 'jobs than', 'jobs that', 'jobs to', 'john', 'johnriverstoo', 'johnsculley', 'johntuckerphd', 'johntuckerphd roeeorland', 'joke', 'joking', 'jopwell', 'joshzumbrun', 'joshzumbrun https', 'journalism', 'journalist', 'journalistic', 'journalistic standards', 'journalists', 'journalists https', 'jsergiannis', 'judge', 'judging', 'jujuvonhell', 'julie_kelly2', 'julieinduvall', 'jump', 'juries', 'jury', 'just', 'just as', 'just bc', 'just be', 'just became', 'just because', 'just been', 'just created', 'just don', 'just fine', 'just for', 'just good', 'just in', 'just kidding', 'just like', 'just looked', 'just me', 'just my', 'just new', 'just one', 'just reading', 'just telling', 'just the', 'just to', 'just trying', 'just want', 'justice', 'justinwolfers', 'justinwolfers interfluidity', 'kahuna456', 'kasich', 'kaviguppta', 'keep', 'keeping', 'keeps', 'kellogg', 'kevinmarks', 'key', 'kickstarter', 'kid', 'kidding', 'kids', 'kids fathers', 'kids in', 'kill', 'killed', 'killed in', 'killing', 'kind', 'kind of', 'kit', 'kkk', 'knew', 'know', 'know about', 'know but', 'know how', 'know it', 'know the', 'know what', 'know where', 'know who', 'know you', 'knowledge', 'known', 'known for', 'korea', 'kotaku', 'kr_miyahara', 'krchristensen', 'krchristensen noupside', 'ktsy0jdimp', 'kurafire', 'lab', 'labor', 'labor costs', 'labor laws', 'labor market', 'lack', 'lack of', 'lady', 'land', 'land https', 'language', 'languages', 'languages http', 'languages https', 'laprice', 'large', 'larger', 'largest', 'last', 'last 12', 'last week', 'last year', 'late', 'later', 'latest', 'latin', 'latin america', 'latina', 'launch', 'launches', 'laundry', 'laurachapin', 'laurenholliday_', 'law', 'laws', 'laws are', 'lawsuits', 'lazy', 'lead', 'leader', 'leaders', 'leaders https', 'leadership', 'leading', 'league', 'leak', 'leaning', 'learn', 'learned', 'learning', 'least', 'leave', 'leave by', 'leave can', 'leave for', 'leave not', 'leaving', 'leaving the', 'led', 'left', 'left leaning', 'leftover', 'legal', 'legal analysis', 'legal expert', 'legally', 'legally considered', 'lego', 'legs', 'legs https', 'leighblue', 'leighblue interfluidity', 'lending', 'lendingclub', 'lenses', 'leonmarkovitz', 'lesbian', 'lesgartcpa', 'lesgartcpa https', 'less', 'less educated', 'less in', 'less of', 'less than', 'lesser', 'lessons', 'let', 'let me', 'let see', 'lets', 'letter', 'letters', 'level', 'levels', 'lexi4prez', 'lexi4prez for', 'liar', 'liberal', 'liberal or', 'liberals', 'liberals then', 'libertarians', 'library', 'lied', 'lied about', 'lies', 'life', 'life balance', 'life is', 'light', 'likability', 'like', 'like facts', 'like if', 'like in', 'like me', 'like poor', 'like that', 'like the', 'like this', 'like to', 'like we', 'like you', 'liked', 'likely', 'likely to', 'likes', 'limit', 'limit for', 'limits', 'lindaregber', 'line', 'lines', 'link', 'link in', 'link is', 'link to', 'linked', 'linked to', 'linkedin', 'links', 'list', 'list of', 'listen', 'listen to', 'listening', 'listening to', 'listing', 'literacy', 'literally', 'little', 'live', 'live in', 'live photo', 'lived', 'lives', 'lives in', 'living', 'living in', 'living wage', 'll', 'll be', 'll take', 'loan', 'loans', 'loans https', 'location', 'logic', 'logical', 'logical fallacy', 'london', 'long', 'long as', 'longer', 'look', 'look at', 'look like', 'look up', 'looked', 'looked at', 'looking', 'looking for', 'looks', 'looks like', 'lorenasgonzalez', 'los', 'los angeles', 'lose', 'loser', 'losers', 'losing', 'lost', 'lot', 'lot more', 'lot of', 'lots', 'lots of', 'loud', 'loudly', 'love', 'love to', 'loved', 'lovely', 'low', 'low cost', 'low income', 'low skilled', 'lower', 'lower income', 'lowering', 'lowest', 'lowkey1324', 'lt', 'lucasjlynch', 'lucasjlynch hughm88', 'luck', 'luckily', 'lucky', 'luke1732mullen', 'luke1732mullen jbaksht', 'lunar', 'lunch', 'lyft', 'lying', 'lynched', 'lzzl1zwcnf', 'machine', 'machines', 'macroeconomic', 'madamenoire', 'made', 'made by', 'made in', 'made on', 'made that', 'magic', 'magnitude', 'main', 'mainly', 'majatek', 'major', 'major https', 'major newspaper', 'majority', 'majority of', 'make', 'make america', 'make fun', 'make it', 'make sense', 'make sure', 'make the', 'makes', 'making', 'male', 'males', 'malicious', 'man', 'man arrested', 'man charged', 'man dies', 'man in', 'man stays', 'man who', 'manager', 'mandatory', 'manhandling', 'manhandling women', 'manufacturing', 'manufacturing of', 'many', 'many men', 'many of', 'many people', 'many ppl', 'map', 'map of', 'mapping', 'maria', 'maria mint', 'mark_j_perry', 'markdharris', 'market', 'market cap', 'market for', 'market https', 'market is', 'markets', 'marriage', 'married', 'marriott', 'marry', 'marry men', 'marry someone', 'marrying', 'mars', 'martian', 'mashout3', 'masked', 'mass', 'mastercard', 'match', 'match fixing', 'matching', 'mate', 'maternity', 'maternity leave', 'math', 'mathematical', 'mathy', 'mating', 'matter', 'matter https', 'matter to', 'mattermark', 'mattmcgorry', 'mattocko', 'mattocko but', 'maxcroser', 'maxcroser https', 'maxcroser jasemurphy', 'maxkeiser', 'may', 'may be', 'may have', 'mayankseksaria', 'mayankseksaria jakeraden', 'maybe', 'maybe he', 'maybe it', 'maybe some', 'maybe they', 'maybe we', 'maybe you', 'me', 'me and', 'me as', 'me don', 'me https', 'me it', 'me of', 'me on', 'me out', 'me remember', 'me scary', 'me then', 'me to', 'me want', 'me with', 'me you', 'mean', 'mean by', 'mean it', 'mean they', 'meaning', 'means', 'meant', 'meant artisanal', 'measure', 'measure of', 'measures', 'media', 'median', 'median age', 'median household', 'medical', 'medicine', 'medicine is', 'meet', 'meet the', 'mektronik', 'member', 'member of', 'members', 'memes', 'men', 'men and', 'men are', 'men as', 'men because', 'men don', 'men have', 'men https', 'men in', 'men should', 'men unless', 'men when', 'men who', 'mendaxrex', 'mental', 'mention', 'mentioned', 'merry', 'merry christmas', 'mess', 'message', 'messages', 'metal', 'metal foam', 'metalmartyr', 'meternity', 'meternity all', 'meth', 'methods', 'mexican', 'mexican janitor', 'mexico', 'mexico as', 'mexicoindie', 'mexicoindie bobatl', 'michigan', 'microsoft', 'mid', 'middle', 'middle class', 'might', 'might be', 'might have', 'might need', 'might not', 'migrants', 'migration', 'migueldeicaza', 'mike', 'mike bloomberg', 'mikell_pine', 'mile', 'miles', 'military', 'milk', 'millennial', 'millennials', 'millennials are', 'million', 'million in', 'millionaires', 'millions', 'millions of', 'mims', 'min', 'min wage', 'mind', 'mindful', 'mindset', 'mindset inequality', 'mine', 'minimize', 'minimum', 'minimum wage', 'minister', 'minor', 'minor in', 'minorities', 'minority', 'minority women', 'mint', 'minutes', 'miss', 'missed', 'missed this', 'missing', 'mississippi', 'misspelled', 'mistake', 'mistake https', 'mistakenly', 'mistercasey', 'misuse', 'mit', 'mix', 'mix of', 'mixed', 'mktoutperform', 'mmoskvit', 'mo', 'mobility', 'mocked', 'mocking', 'model', 'models', 'modern', 'modify', 'mom', 'moment', 'moms', 'moms by', 'monetary', 'money', 'money and', 'money https', 'monopoly', 'monopoly the', 'monster', 'monster truck', 'month', 'month old', 'months', 'months https', 'moon', 'moral', 'more', 'more accurate', 'more attractive', 'more educated', 'more education', 'more equal', 'more expensive', 'more for', 'more granularity', 'more housing', 'more https', 'more jobs', 'more like', 'more likely', 'more people', 'more span', 'more successful', 'more than', 'more time', 'more water', 'more women', 'morganwarstler', 'mortgage', 'mortgages', 'mos', 'most', 'most expensive', 'most important', 'most of', 'most people', 'most valuable', 'most vulnerable', 'mostly', 'mouth', 'move', 'movement', 'movements', 'moves', 'moves to', 'movie', 'moving', 'moving truck', 'mp', 'mrianmacintyre', 'msm', 'msnbc', 'msuster', 'much', 'much about', 'much as', 'much do', 'much less', 'much more', 'much of', 'muhfeelz', 'muhfeelz peacelovedixie', 'multi', 'multiple', 'munilass', 'music', 'musical', 'muslim', 'muslims', 'must', 'must have', 'mustache', 'mxsba', 'mxsba https', 'my', 'my article', 'my brand', 'my child', 'my comments', 'my daughter', 'my family', 'my favorite', 'my first', 'my followers', 'my house', 'my job', 'my new', 'my opinion', 'my own', 'my personal', 'my sources', 'my students', 'my time', 'my timeline', 'my tweet', 'my tweets', 'my twitter', 'myself', 'nachristakis', 'nachristakis https', 'name', 'named', 'named in', 'names', 'nanjala1', 'naoyak', 'naral', 'narrative', 'nasa', 'nategoldman', 'nation', 'national', 'national conversation', 'nations', 'native', 'natural', 'navy', 'naynerz', 'nbd', 'near', 'nearly', 'necessary', 'necessary for', 'neck', 'need', 'need for', 'need to', 'needed', 'needed to', 'needs', 'needs to', 'negative', 'negative impact', 'negative interest', 'neighbor', 'neiltyson', 'nerd', 'net', 'netflix', 'neto1__', 'network', 'network effects', 'networking', 'never', 'never been', 'never claimed', 'never seen', 'new', 'new 50', 'new algorithm', 'new data', 'new hampshire', 'new immigrants', 'new moms', 'new study', 'new year', 'new york', 'news', 'news outlets', 'newspaper', 'next', 'next to', 'nice', 'nice people', 'nicer', 'nicer to', 'nicholas___d', 'nicktimiraos', 'nicktimiraos https', 'nickwolfinger', 'nigeria', 'night', 'nikkilynette', 'nikkilynette geekiestwoman', 'nina', 'ninja', 'ninjaeconomics', 'ninjaeconomics https', 'ninjas', 'nintendo', 'nitpicking', 'nntaleb', 'no', 'no comment', 'no evidence', 'no idea', 'no it', 'no more', 'no need', 'no one', 'no prominent', 'no the', 'noahpinion', 'noahpinion https', 'nobel', 'nobel prize', 'nobody', 'nolimits', 'nominee', 'non', 'non white', 'north', 'north carolina', 'north korea', 'not', 'not about', 'not all', 'not allowed', 'not an', 'not as', 'not be', 'not even', 'not everyone', 'not exist', 'not familiar', 'not for', 'not gender', 'not have', 'not how', 'not if', 'not in', 'not just', 'not my', 'not share', 'not sure', 'not taking', 'not talking', 'not the', 'not to', 'not uncommon', 'not wealth', 'not what', 'not women', 'nothing', 'noupside', 'noupside https', 'noupside peteborum', 'now', 'now https', 'now it', 'now the', 'now waste', 'nsa', 'nuclear', 'nuclear power', 'nude', 'number', 'number of', 'numbers', 'nyc', 'nyctaxi', 'nymag', 'nypd', 'nyt', 'nytimes', 'oakland', 'obama', 'obama is', 'obamacare', 'observation', 'obvious', 'obviously', 'occupation', 'occupations', 'occur', 'ocean', 'odd', 'oecd', 'oecd countries', 'of', 'of 2015', 'of all', 'of america', 'of americans', 'of an', 'of any', 'of being', 'of big', 'of birth', 'of bottled', 'of bush', 'of china', 'of college', 'of consent', 'of course', 'of culture', 'of customer', 'of dog', 'of earners', 'of economics', 'of economists', 'of emergency', 'of employment', 'of female', 'of food', 'of gdp', 'of government', 'of her', 'of higher', 'of his', 'of human', 'of immigrants', 'of income', 'of it', 'of its', 'of jail', 'of labor', 'of living', 'of man', 'of men', 'of meternity', 'of monopoly', 'of my', 'of new', 'of non', 'of not', 'of nuclear', 'of oil', 'of our', 'of paid', 'of paper', 'of people', 'of person', 'of political', 'of ppl', 'of presidents', 'of reply', 'of republicans', 'of sex', 'of social', 'of society', 'of the', 'of their', 'of them', 'of these', 'of things', 'of this', 'of thrones', 'of time', 'of to', 'of trump', 'of us', 'of wage', 'of water', 'of white', 'of winning', 'of women', 'of year', 'of you', 'of your', 'off', 'off https', 'off my', 'offenders', 'offensive', 'offer', 'offered', 'offering', 'office', 'officers', 'official', 'officials', 'officials and', 'officials reject', 'offshore', 'oflkx6yq4o', 'often', 'oh', 'oil', 'oil https', 'ok', 'ok with', 'okay', 'okay though', 'okayultra', 'okayultra sonnybunch', 'old', 'old boy', 'old college', 'old https', 'old white', 'oldest', 'olds', 'on', 'on and', 'on average', 'on biz', 'on charges', 'on facebook', 'on fire', 'on gender', 'on her', 'on his', 'on https', 'on it', 'on its', 'on mars', 'on me', 'on my', 'on new', 'on one', 'on record', 'on stage', 'on the', 'on their', 'on third', 'on this', 'on twitter', 'on what', 'on women', 'on your', 'once', 'once an', 'once they', 'one', 'one charge', 'one child', 'one example', 'one https', 'one in', 'one is', 'one of', 'one tweet', 'one way', 'ones', 'ones https', 'online', 'online abuse', 'only', 'only allowed', 'only and', 'only for', 'only have', 'only one', 'only the', 'only they', 'only to', 'only uber', 'only woman', 'only women', 'open', 'open letter', 'opened', 'opens', 'operator', 'opinion', 'opinion that', 'opinions', 'opinions https', 'opportunities', 'opportunity', 'opportunity to', 'oppose', 'opposite', 'opposite of', 'oppressed', 'optimistic', 'option', 'or', 'or else', 'or in', 'or is', 'or just', 'or lower', 'or maybe', 'or my', 'or no', 'or sexual', 'or should', 'or someone', 'or the', 'or they', 'oracle', 'orchestras', 'order', 'order to', 'ordered', 'org', 'organization', 'original', 'orphan', 'other', 'other countries', 'other people', 'other than', 'others', 'otherwise', 'our', 'our jobs', 'out', 'out as', 'out friend', 'out https', 'out loud', 'out of', 'out on', 'out the', 'out to', 'outcome', 'outcomes', 'outcomes and', 'outdated', 'outfits', 'outfits and', 'outlets', 'output', 'outraged', 'outside', 'outside of', 'over', 'over her', 'over https', 'over the', 'overdressed', 'overestimate', 'own', 'owned', 'owner', 'owners', 'ownership', 'page', 'paid', 'paid by', 'paid family', 'paid leave', 'paid maternity', 'pale_primate', 'panamapapers', 'pananapapers', 'panda', 'panda express', 'pants', 'pants https', 'paper', 'papers', 'papers that', 'paradox', 'parent', 'parental', 'parenthood', 'parenting', 'parents', 'parents https', 'parents who', 'parity', 'part', 'part of', 'participate', 'participate in', 'parties', 'partner', 'partners', 'parts', 'party', 'pass', 'passed', 'passed out', 'passenger', 'passes', 'passsteven', 'past', 'patents', 'patents smart', 'paternity', 'paternity leave', 'patients', 'patrick', 'patrickc', 'pattern', 'pattern appears', 'paulg', 'pay', 'pay 10', 'pay for', 'pay gap', 'pay more', 'paying', 'paying for', 'payments', 'paypal', 'payroll', 'pays', 'pays his', 'pea', 'peacelovedixie', 'peacelovedixie sarahcuda', 'pedophile', 'pedophile advocate', 'pedophilia', 'peeps', 'peer', 'peer reviewed', 'penalty', 'penguin', 'penis', 'penises', 'people', 'people all', 'people also', 'people are', 'people aren', 'people can', 'people died', 'people don', 'people for', 'people from', 'people have', 'people https', 'people in', 'people is', 'people know', 'people money', 'people of', 'people on', 'people or', 'people outside', 'people should', 'people to', 'people who', 'people will', 'people would', 'pepper', 'per', 'per day', 'per year', 'percent', 'percent of', 'percentage', 'percentage of', 'perhaps', 'period', 'periscope', 'person', 'personal', 'personal experience', 'personally', 'pet', 'pete_biq', 'pete_biq madamenoire', 'pete_trainor', 'peteborum', 'ph', 'phatinnovator', 'phd', 'phds', 'phone', 'phone https', 'phones', 'photo', 'photo of', 'photos', 'photos of', 'phrase', 'physics', 'pic', 'pick', 'picking', 'pictures', 'piece', 'piece of', 'pieces', 'piercing', 'piercing bullets', 'pig', 'pirate', 'pitchforks', 'pizza', 'place', 'place in', 'placing', 'plagiarism', 'plan', 'plan for', 'plan to', 'planning', 'planning to', 'plans', 'plant', 'plants', 'plastic', 'platform', 'platform that', 'platforms', 'play', 'player', 'playing', 'plea', 'please', 'pledged', 'plewis67', 'plunge', 'pm', 'pmarca', 'pockets', 'poetnwar', 'point', 'point by', 'pointed', 'pointed out', 'points', 'police', 'police are', 'police called', 'police https', 'police on', 'police say', 'police to', 'policies', 'policy', 'politely', 'political', 'politicalmath', 'politician', 'politicians', 'politics', 'poll', 'poll https', 'polls', 'poor', 'poor are', 'poor people', 'poorer', 'poorest', 'pop', 'popular', 'popular tweet', 'population', 'population https', 'porn', 'porn is', 'pornography', 'portmantina', 'portmantina slate', 'portrayed', 'position', 'position as', 'positive', 'possible', 'possible to', 'post', 'posted', 'posting', 'posts', 'pot', 'pound', 'poverty', 'power', 'powerball', 'powerful', 'ppl', 'ppl have', 'ppl who', 'praise', 'predatory', 'predict', 'predicted', 'predicts', 'prefer', 'prefer to', 'preferences', 'pregnancy', 'prejudice', 'premium', 'premium for', 'prepare', 'prepare for', 'prepare to', 'presence', 'president', 'president trump', 'presidential', 'presidential election', 'presidents', 'pressuring', 'pretend', 'pretend to', 'pretend you', 'pretty', 'pretty mathy', 'pretty soon', 'pretty sure', 'prevent', 'price', 'prices', 'pricing', 'primaries', 'primary', 'primary me', 'principle', 'prioritize', 'prioritize the', 'prison', 'privacy', 'private', 'privately', 'privilege', 'prize', 'pro', 'pro abortion', 'pro life', 'prob', 'prob is', 'probabilities', 'probably', 'problem', 'problem with', 'problematic', 'problematic https', 'problems', 'problems https', 'proctormarisa', 'produce', 'produced', 'production', 'production line', 'productive', 'productivity', 'products', 'prof', 'profession', 'professional', 'professor', 'profile', 'profiled', 'profit', 'profits', 'program', 'programs', 'progressive', 'progressives', 'project', 'projects', 'prominent', 'promise', 'promised', 'promises', 'promises to', 'prompted', 'proof', 'proof of', 'propaganda', 'proper', 'properly', 'proportion', 'proposal', 'proposal to', 'prosecutors', 'protect', 'protected', 'protectionism', 'protested', 'protestors', 'protests', 'provide', 'providing', 'proximate', 'proximate cause', 'psychic', 'psychopaths', 'psygnisfive', 'public', 'public sector', 'publicly', 'publicly criticizing', 'publish', 'published', 'publishes', 'publishing', 'puerto', 'puerto rico', 'pulitzer', 'punches', 'purchased', 'purse', 'pursuing', 'pursuing two', 'push', 'pushing', 'put', 'put in', 'put my', 'putin', 'putting', 'quake', 'qualify', 'quality', 'quality of', 'quantitative', 'question', 'questions', 'quick', 'quintile', 'quintiles', 'quit', 'quote', 'quoted', 'quotes', 'r2', 'race', 'race https', 'racial', 'racism', 'racist', 'radical', 'raise', 'raise the', 'raises', 'raises the', 'rally', 'randileeharper', 'random', 'ranked', 'rape', 'raped', 'rapes', 'raping', 'rapists', 'rapp', 'rapp and', 'rate', 'rate at', 'rate for', 'rate the', 'rates', 'rates https', 'rates of', 'rates than', 'rather', 'rather be', 'rather than', 'rating', 'rating on', 'ratio', 'rational', 'raw', 'rc_848', 'rc_848 gaminganarchist', 're', 're able', 're also', 're born', 're going', 're in', 're just', 're not', 're right', 're so', 're standing', 're taking', 're the', 're too', 're using', 're wondering', 'reach', 'reacts', 'reacts to', 'read', 'read it', 'read my', 'read the', 'read this', 'readers', 'reading', 'reads', 'real', 'real life', 'real names', 'realistic', 'reality', 'realize', 'realizes', 'really', 'really good', 'realstevenwalk', 'realstevenwalk stevestuwill', 'reason', 'reason https', 'reason to', 'reasonable', 'reasons', 'rebels', 'receive', 'recent', 'recession', 'recognize', 'record', 'record https', 'recruiting', 'red', 'redistribution', 'reduce', 'reducing', 'references', 'references to', 'referring', 'referring to', 'reform', 'refugee', 'refuse', 'register', 'register for', 'regulation', 'regulations', 'reidalbecker', 'reject', 'reject the', 'rejected', 'relationships', 'relevant', 'religion', 'religion or', 'religious', 'religious affiliations', 'remained', 'remember', 'remember how', 'remote', 'remove', 'removed', 'removing', 'removing the', 'rent', 'rent seeking', 'rent was', 'renting', 'rep', 'replace', 'replaced', 'replaced by', 'replaced latin', 'replacing', 'replies', 'reply', 'reply before', 'report', 'report on', 'reported', 'reported on', 'reporter', 'reporters', 'reports', 'represent', 'representation', 'represented', 'reproduction', 'reproductive', 'reps', 'republic', 'republican', 'republicans', 'requests', 'require', 'required', 'requires', 'research', 'researchers', 'resembles', 'reserve', 'reserved', 'residents', 'resolution', 'resolve', 'resort', 'resources', 'resources to', 'respect', 'respond', 'respond to', 'responded', 'response', 'response to', 'rest', 'rest of', 'restaurant', 'restaurants', 'restrictions', 'result', 'results', 'return', 'return of', 'retweeting', 'reveal', 'revelations', 'reversed', 'review', 'reviewed', 'revolution', 'revolutionary', 'revolutionary new', 'rice', 'rich', 'rich https', 'richer', 'richer than', 'richest', 'rickyyean', 'rico', 'rico debt', 'ride', 'ridicule', 'right', 'right because', 'right but', 'right https', 'right now', 'right of', 'right to', 'rights', 'rise', 'rise of', 'rising', 'risk', 'risk of', 'risks', 'robot', 'robots', 'rocket', 'roeeorland', 'roeeorland dsmoxon', 'role', 'role in', 'roles', 'roll', 'room', 'rousethemasses', 'rpmontanez', 'rt', 'rt inc', 'rubio', 'rude', 'ruin', 'ruined', 'rule', 'rule https', 'ruled', 'rules', 'ruling', 'run', 'runner', 'running', 'russia', 'russian', 'rxcs', 'sachs', 'sad', 'safe', 'safe space', 'safety', 'safety https', 'safety net', 'said', 'said https', 'said it', 'said minor', 'said she', 'said that', 'sailornep2ne', 'salaries', 'sale', 'sale of', 'sales', 'same', 'same as', 'same person', 'sample', 'sample size', 'san', 'san bernardino', 'san francisco', 'sanders', 'sanders screams', 'sanderwagner', 'sanderwagner conorsen', 'sandwich', 'santa', 'sarahcuda', 'sarahnadav', 'sarahnadav no', 'saschaleib', 'satellite', 'saudi', 'saudi arabia', 'save', 'saving', 'saw', 'saw it', 'say', 'say black', 'say that', 'say the', 'say they', 'saying', 'saying that', 'says', 'says about', 'says https', 'says she', 'says the', 'scale', 'scalia', 'scary', 'scary story', 'schedule', 'school', 'school amp', 'schools', 'science', 'science to', 'sciences', 'scientist', 'scientist metal', 'scientists', 'scorched_deer', 'scorched_deer dsmoxon', 'score', 'scottadamssays', 'scotus', 'scream', 'screams', 'screen', 'screenshot', 'seal', 'search', 'searched', 'sec', 'second', 'second hand', 'second job', 'seconds', 'secret', 'sector', 'secure', 'security', 'see', 'see if', 'see my', 'see that', 'see the', 'see they', 'see why', 'see your', 'seeing', 'seeing lot', 'seek', 'seeking', 'seem', 'seem to', 'seems', 'seems like', 'seems to', 'seen', 'seen at', 'sees', 'self', 'self driving', 'selfie', 'selfies', 'selfies https', 'selfish', 'sell', 'selling', 'sells', 'send', 'sending', 'sends', 'sense', 'sent', 'sentence', 'series', 'serious', 'seriously', 'serve', 'served', 'service', 'service https', 'service to', 'services', 'set', 'setting', 'seven', 'sex', 'sex attacks', 'sex https', 'sex is', 'sex toys', 'sex with', 'sex worker', 'sexist', 'sexist to', 'sexists', 'sexual', 'sexually', 'sexually assaulted', 'sf', 'sgourley', 'shadow', 'shadow banned', 'shame', 'shaming', 'shanghai', 'shanghai composite', 'shape', 'share', 'share of', 'share their', 'shared', 'shares', 'sharing', 'sharing economy', 'shatter', 'shatter armor', 'she', 'she can', 'she didn', 'she died', 'she does', 'she doesn', 'she escaped', 'she had', 'she has', 'she is', 'she made', 'she put', 'she said', 'she was', 'she wasn', 'she woman', 'sheet', 'shelter', 'shift', 'shoes', 'shoot', 'shooter', 'shooting', 'shopping', 'short', 'shortage', 'shortlist', 'shot', 'shots', 'shots of', 'should', 'should be', 'should get', 'should have', 'should help', 'should not', 'should politely', 'should the', 'should we', 'shouldn', 'shouldn assume', 'shouldn be', 'show', 'show https', 'show that', 'show up', 'showed', 'showed star', 'showing', 'showing the', 'shown', 'shows', 'shows what', 'shrunk', 'side', 'sides', 'sign', 'signal', 'signaling', 'significant', 'signs', 'silicon', 'silicon valley', 'silly', 'similar', 'simon_as_twit', 'simply', 'since', 'since the', 'since they', 'since you', 'single', 'single mom', 'siriusblack9999', 'site', 'sites', 'sitting', 'six', 'size', 'sizes', 'sketchy', 'skill', 'skill more', 'skilled', 'skills', 'skills to', 'skin', 'slack', 'slack resources', 'slate', 'slave', 'slavery', 'slaves', 'slower', 'small', 'small business', 'small hands', 'smaller', 'smart', 'smartphones', 'smoke', 'smoking', 'smth', 'smugglerscovesf', 'snapchat', 'snow', 'snowboarder', 'so', 'so can', 'so how', 'so if', 'so it', 'so many', 'so much', 'so no', 'so people', 'so she', 'so stop', 'so that', 'so the', 'so they', 'so we', 'so what', 'so you', 'sobl1', 'soccer', 'social', 'social issues', 'social mobility', 'socialautopsy', 'socialcoroner', 'societal', 'society', 'sodiumin', 'sold', 'sold https', 'solution', 'solution to', 'solutions', 'solve', 'some', 'some are', 'some of', 'some people', 'some ppl', 'some were', 'some women', 'someone', 'someone bc', 'someone for', 'someone is', 'someone told', 'someone who', 'someone with', 'something', 'sometimes', 'son', 'sonnybunch', 'soon', 'soon as', 'soon be', 'sooner', 'sophisticated', 'sorry', 'sorry if', 'sound', 'sound like', 'sounding', 'soundman2k', 'sounds', 'sounds like', 'source', 'source is', 'source of', 'sources', 'south', 'southern', 'space', 'spacekatgal', 'spaces', 'spain', 'span', 'span for', 'speak', 'speak english', 'speaking', 'special', 'specific', 'specifically', 'speech', 'spell', 'spell and', 'spend', 'spend more', 'spending', 'spends', 'spent', 'spoiler', 'spoke', 'sports', 'spouse', 'square', 'sschinke', 'st', 'stabbed', 'stability', 'stable', 'stacyherbert', 'stacyherbert https', 'stadium', 'staff', 'stage', 'stagnation', 'stand', 'standard', 'standards', 'standards for', 'standing', 'standing up', 'stanthonysf', 'star', 'star wars', 'starbucks', 'starbucks cups', 'start', 'started', 'started out', 'starting', 'starts', 'startup', 'startups', 'stat', 'stat but', 'state', 'state of', 'state to', 'statement', 'statements', 'states', 'station', 'stations', 'statistics', 'status', 'stay', 'stay at', 'stay classy', 'staying', 'stays', 'stays home', 'steal', 'stealing', 'stella', 'stem', 'step', 'steps', 'stereotypes', 'steven_strauss', 'steven_strauss https', 'stevendoyle', 'stevestuwill', 'stick', 'still', 'still have', 'still waiting', 'stock', 'stock market', 'stocks', 'stolen', 'stop', 'stopped', 'store', 'stories', 'storm', 'story', 'story about', 'story hold', 'story https', 'story is', 'storyofahq', 'straight', 'straight up', 'straight women', 'stranded', 'strangers', 'strangers on', 'strategy', 'street', 'strong', 'strongest', 'structural', 'structure', 'student', 'student loan', 'students', 'studies', 'studies show', 'study', 'study shows', 'stuff', 'stupid', 'style', 'style in', 'subject', 'subset', 'subsidies', 'succeed', 'success', 'successful', 'successfully', 'such', 'such as', 'sudan', 'suddenly', 'sudostackio', 'sues', 'suffer', 'sugar', 'suggest', 'suggesting', 'suggests', 'suggests it', 'suicide', 'suicide bombing', 'suit', 'suit_only', 'summary', 'sumohan7', 'sun', 'super', 'super bowl', 'superficially', 'superior', 'superman', 'supply', 'support', 'support for', 'support is', 'supported', 'supported languages', 'supporter', 'supporters', 'supporters are', 'supporting', 'supportive', 'supposed', 'supposed to', 'supremacy', 'supreme', 'supreme court', 'sure', 'sure what', 'sure why', 'sure you', 'surge', 'surge pricing', 'surgery', 'surnames', 'surprised', 'surprisingly', 'survey', 'survey https', 'survival', 'survive', 'survivors', 'suspect', 'suspected', 'suspicious', 'sv', 'sweden', 'swift', 'swiftonsecurity', 'swiftonsecurity https', 'swimming', 'sympathetic', 'syndrome', 'syndrome https', 'syria', 'syrian', 'system', 'systematically', 'table', 'table https', 'take', 'take creep', 'take more', 'take over', 'take paternity', 'take the', 'taken', 'takes', 'taking', 'talented', 'talia', 'talk', 'talk to', 'talking', 'talking about', 'talking abt', 'talking to', 'talks', 'tammykosiancic', 'tampons', 'tanayj', 'tantamount', 'tantamount to', 'tarekfatah', 'targets', 'tax', 'taxes', 'taxes collected', 'taxes https', 'taxpayer', 'taylor', 'taylor swift', 'teach', 'teacher', 'team', 'tech', 'tech companies', 'tech company', 'tech industry', 'techcrunch', 'techfinanceash', 'technological', 'technology', 'technology https', 'ted', 'ted cruz', 'teen', 'tell', 'tell me', 'tell us', 'tell you', 'telling', 'telling me', 'telling you', 'tells', 'temple', 'templetontjones', 'tend', 'tend to', 'tennis', 'term', 'termination', 'terminator', 'terminator movie', 'terms', 'terrible', 'terror', 'terror attacks', 'terrorist', 'terrorists', 'tesla', 'test', 'test for', 'testing', 'texas', 'text', 'than', 'than 100', 'than 300', 'than 50', 'than all', 'than being', 'than ends', 'than for', 'than men', 'than the', 'than they', 'than those', 'thank', 'thank you', 'thanks', 'thanks for', 'thanks to', 'that', 'that an', 'that and', 'that are', 'that bad', 'that better', 'that by', 'that called', 'that can', 'that certainly', 'that could', 'that did', 'that differed', 'that doesn', 'that don', 'that first', 'that for', 'that has', 'that he', 'that in', 'that is', 'that it', 'that just', 'that killed', 'that men', 'that more', 'that msm', 'that not', 'that occur', 'that people', 'that says', 'that she', 'that should', 'that something', 'that the', 'that their', 'that they', 'that to', 'that tweet', 'that two', 'that was', 'that we', 'that what', 'that white', 'that why', 'that will', 'that women', 'that word', 'that wrong', 'that you', 'thatdevilblues', 'thatdevilblues https', 'thdigitalreader', 'the', 'the 10', 'the 15', 'the age', 'the american', 'the answers', 'the app', 'the argument', 'the article', 'the asian', 'the average', 'the baby', 'the back', 'the bad', 'the bank', 'the bear', 'the beginning', 'the best', 'the bias', 'the big', 'the biggest', 'the black', 'the bottom', 'the candidates', 'the celtic', 'the chart', 'the child', 'the choice', 'the city', 'the college', 'the company', 'the conference', 'the cost', 'the country', 'the credit', 'the crime', 'the date', 'the day', 'the death', 'the definition', 'the democratic', 'the difference', 'the draft', 'the earth', 'the economic', 'the economics', 'the economy', 'the effects', 'the eggs', 'the end', 'the eu', 'the exception', 'the fastest', 'the fbi', 'the federal', 'the financial', 'the first', 'the founder', 'the four', 'the free', 'the full', 'the future', 'the game', 'the gender', 'the general', 'the gig', 'the global', 'the goal', 'the good', 'the government', 'the greatest', 'the ground', 'the guy', 'the harassment', 'the headline', 'the hero', 'the highest', 'the home', 'the imf', 'the income', 'the internet', 'the irony', 'the jedi', 'the kids', 'the largest', 'the last', 'the latest', 'the law', 'the lesser', 'the link', 'the lower', 'the making', 'the man', 'the mandatory', 'the manufacturing', 'the market', 'the martian', 'the media', 'the median', 'the men', 'the mexican', 'the minimum', 'the mixed', 'the moon', 'the more', 'the most', 'the new', 'the next', 'the ninja', 'the nobel', 'the non', 'the number', 'the old', 'the one', 'the only', 'the other', 'the panamapapers', 'the past', 'the people', 'the percentage', 'the phrase', 'the plan', 'the point', 'the police', 'the polls', 'the poor', 'the poorest', 'the president', 'the problem', 'the question', 'the rate', 'the real', 'the rebels', 'the recession', 'the record', 'the republican', 'the rest', 'the rich', 'the richest', 'the right', 'the rise', 'the risk', 'the rule', 'the ruling', 'the same', 'the shanghai', 'the sharing', 'the small', 'the solution', 'the source', 'the state', 'the strong', 'the study', 'the system', 'the tech', 'the terms', 'the thread', 'the threat', 'the three', 'the time', 'the top', 'the tweet', 'the uk', 'the unemployment', 'the united', 'the universe', 'the urge', 'the us', 'the victim', 'the video', 'the villain', 'the wage', 'the war', 'the way', 'the whole', 'the winner', 'the winning', 'the woman', 'the women', 'the word', 'the work', 'the world', 'the worse', 'the worst', 'the wrong', 'theawakedavid', 'thebigshort', 'thecityofjules', 'thedemocrats', 'thedemoneyex', 'their', 'their ability', 'their defense', 'their opinions', 'their own', 'their population', 'their race', 'their stories', 'their wifi', 'their work', 'thekokomoclown', 'thekokomoclown alexismadrigal', 'thelateempire', 'thelimerickking', 'them', 'them as', 'them for', 'them from', 'them https', 'them to', 'themselves', 'themselves into', 'themselves it', 'then', 'then became', 'then it', 'then you', 'theories', 'theories on', 'theory', 'theory of', 'there', 'there an', 'there are', 'there aren', 'there donald', 'there is', 'there isn', 'there link', 'there no', 'there san', 'there was', 'there wasn', 'there were', 'therefore', 'these', 'these are', 'these two', 'thespacegal', 'thestalwart', 'thestalwart https', 'they', 'they all', 'they are', 'they can', 'they could', 'they did', 'they didn', 'they die', 'they do', 'they don', 'they feel', 'they found', 'they have', 'they ll', 'they only', 'they re', 'they say', 'they took', 'they ve', 'they want', 'they were', 'they work', 'thing', 'thing that', 'thing you', 'things', 'things to', 'think', 'think about', 'think are', 'think being', 'think he', 'think is', 'think it', 'think of', 'think pieces', 'think that', 'think they', 'think this', 'think we', 'think you', 'thinking', 'thinks', 'third', 'third base', 'this', 'this article', 'this chart', 'this conversation', 'this https', 'this is', 'this isn', 'this on', 'this one', 'this study', 'this time', 'this tweet', 'this year', 'tho', 'those', 'those are', 'those who', 'though', 'though https', 'thought', 'thought it', 'thought was', 'thoughts', 'thread', 'thread you', 'threads', 'threat', 'threat of', 'threatened', 'threatens', 'threats', 'threats made', 'three', 'three times', 'three women', 'threw', 'thrones', 'through', 'through the', 'throwing', 'throws', 'thru', 'thugs', 'ticket', 'tickets', 'tier', 'tight', 'timberati', 'time', 'time 30', 'time for', 'time https', 'time in', 'time since', 'time to', 'time when', 'time with', 'timeline', 'times', 'times more', 'timharford', 'tinder', 'tiny', 'tiotags', 'title', 'tjslater', 'to', 'to 21', 'to add', 'to afford', 'to all', 'to an', 'to argue', 'to ask', 'to assert', 'to authority', 'to avoid', 'to ban', 'to be', 'to become', 'to better', 'to blind', 'to both', 'to bring', 'to build', 'to buy', 'to call', 'to capture', 'to celebrate', 'to change', 'to choose', 'to college', 'to confirm', 'to control', 'to correct', 'to create', 'to criticize', 'to debunk', 'to defeat', 'to deny', 'to deport', 'to describe', 'to determine', 'to die', 'to dismiss', 'to do', 'to eat', 'to engage', 'to entertain', 'to explain', 'to face', 'to feel', 'to figure', 'to find', 'to focus', 'to follow', 'to get', 'to give', 'to global', 'to go', 'to hack', 'to half', 'to harvard', 'to have', 'to health', 'to hear', 'to help', 'to her', 'to higher', 'to him', 'to hire', 'to hit', 'to hold', 'to https', 'to ignore', 'to imply', 'to include', 'to insult', 'to investigate', 'to it', 'to its', 'to keep', 'to kill', 'to know', 'to link', 'to listen', 'to live', 'to look', 'to lower', 'to make', 'to marry', 'to me', 'to meet', 'to men', 'to more', 'to my', 'to offer', 'to only', 'to our', 'to pay', 'to people', 'to pick', 'to power', 'to ppl', 'to predict', 'to prepare', 'to pretend', 'to produce', 'to protect', 'to public', 'to put', 'to reach', 'to read', 'to reason', 'to receive', 'to recognize', 'to reduce', 'to register', 'to replace', 'to require', 'to resolve', 'to review', 'to run', 'to say', 'to see', 'to sell', 'to sex', 'to share', 'to show', 'to solve', 'to some', 'to someone', 'to speak', 'to spell', 'to spend', 'to start', 'to steal', 'to stop', 'to suggest', 'to support', 'to take', 'to tell', 'to the', 'to their', 'to think', 'to this', 'to try', 'to tweet', 'to twitter', 'to understand', 'to use', 'to vote', 'to walk', 'to watch', 'to win', 'to woman', 'to women', 'to work', 'to write', 'to you', 'to your', 'today', 'today https', 'toddler', 'toddlers', 'together', 'told', 'told me', 'tolerant', 'tomorrow', 'tone', 'tonight', 'too', 'too busy', 'too hard', 'too high', 'too https', 'too much', 'took', 'tool', 'top', 'top 20', 'top 50', 'torturing', 'total', 'totally', 'totally agree', 'tough', 'toward', 'town', 'towns', 'toy', 'toys', 'tracking', 'trade', 'trading', 'traditional', 'traffic', 'traffic ever', 'tragedy', 'train', 'training', 'trans', 'transcript', 'transcript of', 'transgender', 'translate', 'translate has', 'trash', 'travel', 'treasury', 'treated', 'trend', 'trending', 'trial', 'trick', 'tried', 'tried to', 'trigger', 'trigger warnings', 'triketora', 'trillion', 'trivialgravitas', 'troll', 'trolling', 'trouble', 'truck', 'truck rally', 'true', 'trump', 'trump campaign', 'trump clinton', 'trump could', 'trump has', 'trump https', 'trump is', 'trump supporter', 'trump supporters', 'trump thinks', 'trump was', 'trump will', 'trump won', 'trump you', 'trust', 'trusts', 'truth', 'try', 'try so', 'try to', 'trying', 'trying to', 'tsa', 'tuesday', 'tuition', 'turkey', 'turnbullmalcolm', 'turned', 'turned on', 'tv', 'tweet', 'tweet almost', 'tweet as', 'tweet at', 'tweet but', 'tweet https', 'tweet in', 'tweet is', 'tweet that', 'tweeted', 'tweeted that', 'tweeting', 'tweets', 'tweets about', 'tweets are', 'tweets at', 'tweets from', 'tweets https', 'tweets is', 'tweets that', 'tweets to', 'twice', 'twice as', 'twitter', 'twitter account', 'twitter are', 'twitter comedian', 'twitter for', 'twitter handle', 'twitter has', 'twitter is', 'twitter that', 'twitter then', 'twitter user', 'twitter will', 'two', 'two incompatible', 'two or', 'two years', 'tycapitalism', 'tyillc', 'tylercowen', 'type', 'type of', 'uber', 'ugly', 'uk', 'ultimate', 'ultimate cause', 'um', 'unable', 'unable to', 'unaware', 'unaware of', 'uncommon', 'unconfirmed', 'unconscious', 'under', 'under the', 'underage', 'underpaid', 'understand', 'understand how', 'understand the', 'understanding', 'understanding of', 'uneducated', 'unemp', 'unemployed', 'unemployment', 'unemployment rate', 'unicorn', 'unicorns', 'united', 'united states', 'universal', 'universal basic', 'universe', 'universities', 'university', 'unless', 'unless you', 'unprofessional', 'unprofessional and', 'unrealistic', 'unstable', 'until', 'until the', 'until you', 'untrue', 'up', 'up and', 'up at', 'up being', 'up for', 'up from', 'up https', 'up in', 'up on', 'up the', 'updated', 'upper', 'upset', 'upside', 'upside down', 'urban', 'urge', 'us', 'us government', 'us scary', 'us some', 'us to', 'usc', 'use', 'use her', 'use it', 'use of', 'use the', 'used', 'used as', 'used for', 'used to', 'useful', 'useful https', 'user', 'users', 'uses', 'using', 'using the', 'usually', 'utah', 'vacation', 'vaccines', 'vader', 'valley', 'valuable', 'value', 'values', 'vandergoog', 'variety', 'vc', 've', 've avoided', 've been', 've had', 've heard', 've never', 'venezuela', 'venezuela is', 'venezuelans', 'venmo', 'venture', 'version', 'version of', 'very', 'vets', 'via', 'via voxdotcom', 'vice', 'vice president', 'victim', 'victims', 'victims https', 'victorymonk', 'victorymonk https', 'video', 'video https', 'video of', 'videos', 'videya_gaymen', 'view', 'views', 'views create', 'villain', 'villains', 'violations', 'violence', 'virginia', 'virtuous', 'virtuous https', 'virus', 'visible', 'vomit', 'voretaq7', 'vote', 'vote for', 'voted', 'voted for', 'voter', 'voters', 'votes', 'votes to', 'voting', 'voting for', 'voxdotcom', 'vp', 'vs', 'vulnerable', 'vulnerable to', 'wadhwa', 'wage', 'wage gap', 'wage https', 'wage jobs', 'wage stagnation', 'wages', 'wages for', 'wages increase', 'wait', 'waiting', 'waiting for', 'waiting period', 'waitress', 'walk', 'walked', 'walking', 'wall', 'walls', 'walls and', 'walmart', 'wanderinpoet', 'want', 'want job', 'want more', 'want to', 'want your', 'wanted', 'wanted to', 'wants', 'wants to', 'wants you', 'wapo', 'war', 'war and', 'war https', 'warned', 'warning', 'warnings', 'warren', 'wars', 'wars to', 'was', 'was an', 'was being', 'was big', 'was criticizing', 'was fired', 'was first', 'was going', 'was in', 'was it', 'was just', 'was no', 'was not', 'was once', 'was one', 'was only', 'was referring', 'was right', 'was so', 'was the', 'was what', 'was white', 'was working', 'washington', 'washington post', 'wasn', 'wasn an', 'waste', 'waste billion', 'watch', 'watch got', 'watch on', 'watching', 'water', 'water consumes', 'water shortage', 'water than', 'way', 'way into', 'way to', 'ways', 'ways to', 'we', 'we all', 'we already', 'we can', 'we could', 'we do', 'we don', 'we going', 'we hear', 'we know', 'we make', 'we need', 'we re', 'we see', 'we should', 'we shouldn', 'we ve', 'we want', 'we were', 'wealth', 'wealth inequality', 'wealth redistribution', 'wear', 'wearing', 'weather', 'weather https', 'website', 'websites', 'weed', 'week', 'weeks', 'weeks ago', 'weird', 'weirdshitblog', 'welcome', 'welfare', 'well', 'well it', 'well off', 'well what', 'welloldstem', 'went', 'went from', 'were', 'were born', 'were female', 'were no', 'weren', 'west', 'western', 'what', 'what are', 'what can', 'what color', 'what do', 'what gop', 'what happened', 'what if', 'what is', 'what jobs', 'what kind', 'what makes', 'what percentage', 'what see', 'what that', 'what the', 'what think', 'what to', 'what was', 'what will', 'what would', 'what wrong', 'what you', 'when', 'when he', 'when it', 'when people', 'when the', 'when there', 'when they', 'when we', 'when you', 'where', 'where are', 'where can', 'where he', 'where is', 'where it', 'where the', 'where they', 'where you', 'whether', 'whether they', 'which', 'which are', 'which candidate', 'which didn', 'which has', 'which is', 'which one', 'which was', 'while', 'while you', 'whining', 'whiny', 'whipplemarc', 'whiskey', 'white', 'white guy', 'white man', 'white men', 'white people', 'white supremacy', 'white woman', 'white women', 'whites', 'whites and', 'who', 'who are', 'who called', 'who don', 'who get', 'who got', 'who have', 'who in', 'who is', 'who it', 'who pays', 'who see', 'who think', 'who use', 'who was', 'who work', 'who would', 'whole', 'whom', 'whose', 'why', 'why are', 'why can', 'why do', 'why does', 'why is', 'why it', 'why many', 'why not', 'why we', 'why you', 'wide', 'wife', 'wife https', 'wifi', 'will', 'will be', 'will get', 'will make', 'will never', 'will not', 'will pay', 'will soon', 'will take', 'will use', 'williamfreeland', 'win', 'win the', 'wine', 'winner', 'winners', 'winning', 'wisdom_of_jkids', 'with', 'with all', 'with big', 'with her', 'with him', 'with manhandling', 'with me', 'with that', 'with the', 'with their', 'with this', 'with you', 'with your', 'within', 'without', 'without the', 'wk', 'woman', 'woman and', 'woman has', 'woman https', 'woman in', 'woman might', 'woman on', 'woman to', 'woman who', 'women', 'women amp', 'women and', 'women are', 'women become', 'women by', 'women can', 'women do', 'women don', 'women earn', 'women for', 'women from', 'women get', 'women getting', 'women had', 'women have', 'women https', 'women in', 'women into', 'women not', 'women on', 'women or', 'women rights', 'women should', 'women to', 'women were', 'women who', 'won', 'won get', 'wonder', 'wonderful', 'wondering', 'wondering why', 'word', 'words', 'wore', 'work', 'work at', 'work but', 'work for', 'work https', 'work in', 'work of', 'worked', 'worked her', 'worker', 'workers', 'workers https', 'workers who', 'working', 'working for', 'working in', 'working on', 'workplace', 'works', 'works https', 'world', 'world big', 'world https', 'world most', 'world to', 'worried', 'worry', 'worse', 'worse https', 'worse than', 'worst', 'worth', 'would', 'would be', 'would create', 'would have', 'would look', 'would never', 'would not', 'would you', 'wouldn', 'wouldn have', 'wow', 'write', 'writer', 'writers', 'writing', 'written', 'wrong', 'wrong and', 'wrong https', 'wrong or', 'wrote', 'wrote about', 'wrote that', 'wrt', 'wrt to', 'wu_tang_finance', 'xenotony', 'xhorsechestnutx', 'yale', 'yeah', 'yeah that', 'year', 'year eve', 'year for', 'year https', 'year old', 'years', 'years ago', 'years https', 'years of', 'yelp', 'yes', 'yes and', 'yes because', 'yes but', 'yes that', 'yet', 'yitib0dqab', 'york', 'you', 'you about', 'you agree', 'you are', 'you be', 'you call', 'you can', 'you claim', 'you could', 'you deserve', 'you didn', 'you do', 'you don', 'you even', 'you ever', 'you fire', 'you for', 'you get', 'you go', 'you got', 'you had', 'you have', 'you https', 'you in', 'you just', 'you know', 'you ll', 'you look', 'you make', 'you mean', 'you meant', 'you might', 'you must', 'you need', 'you not', 'you on', 'you only', 'you or', 'you out', 'you pay', 'you prefer', 'you probably', 'you re', 'you read', 'you reject', 'you see', 'you should', 'you some', 'you stay', 'you support', 'you that', 'you think', 'you to', 'you tweeted', 'you ve', 'you want', 'you were', 'you will', 'you won', 'young', 'young white', 'young women', 'your', 'your life', 'your mind', 'your money', 'your opinions', 'your own', 'your parents', 'your political', 'your second', 'your tweet', 'your tweets', 'yours', 'yourself', 'yr', 'yrs', 'zachweiner', 'zero', 'zoe']\n"
     ]
    }
   ],
   "source": [
    "# include 1-grams and 2-grams, and only include terms that appear at least 2 times\n",
    "\n",
    "vect = CountVectorizer(ngram_range=(1, 2), min_df=2)\n",
    "tokenize_test(vect, model='nb')\n",
    "print(vect.get_feature_names())"
   ]
  },
  {
   "cell_type": "code",
   "execution_count": 30,
   "metadata": {},
   "outputs": [
    {
     "name": "stdout",
     "output_type": "stream",
     "text": [
      "Features:  2200\n",
      "Accuracy:  0.9423076923076923\n",
      "Multinomial Naive Bayes\n",
      "['000', '10', '10 000', '100', '11', '12', '14', '15', '16', '18', '1st', '20', '20 of', '200', '2013', '2014', '2015', '2016', '2016 https', '2017', '2017 president', '2018', '21', '22', '2nd', '30', '35', '39', '40', '40 of', '400', '45', '50', '60', '75', '90', '_romanelite', '_sunilrawat', 'ability', 'ability to', 'able', 'able to', 'abortion', 'abortions', 'about', 'about https', 'about the', 'about their', 'about your', 'above', 'abt', 'abuse', 'academic', 'acceptable', 'access', 'access to', 'accidentally', 'according', 'according to', 'account', 'accounts', 'accused', 'across', 'actually', 'ad', 'ad_captandum', 'add', 'added', 'advice', 'advocate', 'afford', 'afford to', 'africa', 'after', 'after the', 'again', 'against', 'age', 'age of', 'ago', 'agree', 'airbnb', 'airlines', 'alex', 'algorithm', 'alison', 'alisonrapp', 'all', 'all of', 'all the', 'all women', 'allegations', 'allowed', 'allowed to', 'almost', 'almost all', 'already', 'also', 'always', 'am', 'ambikapadmaloch', 'america', 'american', 'americans', 'americans are', 'among', 'amount', 'amount of', 'amp', 'amp she', 'amp the', 'an', 'an article', 'an economic', 'an economist', 'an old', 'an opinion', 'analysis', 'and', 'and don', 'and it', 'and not', 'and the', 'and their', 'and they', 'and we', 'and women', 'andreakuszewski', 'animals', 'annoying', 'annual', 'anonymous', 'another', 'answer', 'anti', 'any', 'anyone', 'anyone who', 'anything', 'anyway', 'apartment', 'apartments', 'appeal', 'appeal to', 'apple', 'apxhard', 'are', 'are in', 'are more', 'are not', 'are now', 'are the', 'are we', 'are you', 'area', 'aren', 'argue', 'argument', 'armed', 'armor', 'around', 'around the', 'arrested', 'arrested for', 'article', 'as', 'as if', 'as much', 'as part', 'as soon', 'as the', 'as they', 'asia', 'asian', 'asian women', 'asians', 'ask', 'asked', 'asking', 'asking for', 'assume', 'at', 'at all', 'at home', 'at me', 'at the', 'attacks', 'attention', 'authority', 'available', 'average', 'avoid', 'away', 'baby', 'back', 'back to', 'bad', 'ban', 'bank', 'banks', 'banned', 'based', 'based on', 'basic', 'basic income', 'bathroom', 'batman', 'bc', 'bc it', 'be', 'be in', 'be more', 'be the', 'be used', 'bear', 'beat', 'beauty', 'became', 'because', 'because it', 'because of', 'because she', 'because they', 'because you', 'become', 'becomes', 'becoming', 'been', 'before', 'behavior', 'behind', 'behind the', 'being', 'beliefs', 'believe', 'believe that', 'believes', 'ben_reinhardt', 'benefit', 'benefit from', 'benefits', 'bernie', 'bernie sanders', 'best', 'better', 'better than', 'between', 'bias', 'big', 'biggest', 'bill', 'billion', 'billion in', 'billionaire', 'birth', 'bitcoin', 'biz', 'black', 'black people', 'blacks', 'blame', 'blocked', 'blocked by', 'bloomberg', 'body', 'books', 'born', 'born in', 'both', 'bottom', 'bought', 'bowl', 'brand', 'breaking', 'brexit', 'bridge', 'bring', 'brussels', 'bubbamacleod', 'build', 'build any', 'building', 'bullshit', 'bush', 'business', 'busy', 'but', 'but don', 'but if', 'but it', 'but not', 'but that', 'but the', 'but this', 'but you', 'buy', 'by', 'by ninjaeconomics', 'by the', 'by your', 'california', 'call', 'called', 'calling', 'calls', 'caltech', 'came', 'camillezajac', 'campaign', 'can', 'can afford', 'can be', 'can even', 'can you', 'cancer', 'candidate', 'candidates', 'capital', 'car', 'caramelzappa', 'care', 'care about', 'career', 'carolina', 'carson', 'case', 'cases', 'cat', 'catch', 'cause', 'causes', 'cell', 'central', 'ceo', 'chance', 'chance of', 'change', 'change https', 'changes', 'changing', 'character', 'characters', 'charge', 'charge of', 'charged', 'charges', 'chart', 'chart shows', 'charts', 'cheap', 'check', 'chief', 'child', 'child porn', 'child pornography', 'child what', 'children', 'china', 'chinese', 'choice', 'choices', 'choose', 'chrislhayes', 'christmas', 'chsommers', 'cities', 'city', 'claim', 'claims', 'class', 'classes', 'classy', 'clear', 'climate', 'clinton', 'close', 'club', 'cnn', 'co', 'cobrownell', 'college', 'come', 'comes', 'coming', 'comment', 'comments', 'community', 'companies', 'company', 'compared', 'compared to', 'competition', 'completely', 'composite', 'computer', 'confederate', 'confederate flag', 'congress', 'consent', 'conservative', 'consider', 'considered', 'consistent', 'contact', 'context', 'continue', 'contract', 'control', 'conversation', 'cookies', 'cool', 'cost', 'costs', 'could', 'countries', 'country', 'course', 'court', 'cover', 'create', 'created', 'credit', 'crime', 'crime https', 'crisis', 'crisis https', 'criticize', 'criticizing', 'cruz', 'ctzn5', 'culture', 'cunningpike', 'curious', 'currency', 'currency https', 'current', 'customer', 'dan_nahum', 'data', 'data https', 'date', 'daughter', 'day', 'days', 'dc', 'dead', 'deal', 'death', 'debate', 'debt', 'decade', 'decision', 'decisions', 'decline', 'defender', 'defense', 'definition', 'definition of', 'degree', 'degrees', 'deleted', 'demand', 'democratic', 'deny', 'deport', 'deserve', 'despite', 'dholland662', 'did', 'did not', 'did you', 'didn', 'didn have', 'die', 'died', 'diff', 'difference', 'different', 'disagree', 'discrimination', 'diversity', 'dm', 'do', 'do not', 'do we', 'do you', 'doctors', 'does', 'does not', 'doesn', 'doesn mean', 'dog', 'doing', 'don', 'don have', 'don know', 'don need', 'don see', 'don think', 'don understand', 'don use', 'don want', 'donald', 'donald trump', 'done', 'down', 'dress', 'drink', 'driver', 'drivers', 'driving', 'drug', 'dsmoxon', 'due', 'due to', 'during', 'each', 'each other', 'earn', 'earners', 'earning', 'earnings', 'earth', 'easier', 'easter', 'easy', 'econ', 'economic', 'economics', 'economics https', 'economics of', 'economies', 'economist', 'economists', 'economists are', 'economy', 'economy https', 'economy is', 'edition', 'edition of', 'edu', 'educated', 'education', 'effect', 'effects', 'eggs', 'either', 'election', 'electricity', 'else', 'employee', 'employees', 'employer', 'employers', 'end', 'ends', 'english', 'enough', 'enough to', 'entire', 'epitygxanwn', 'equal', 'equality', 'equally', 'equitablegrowth', 'ericyuany', 'error', 'escort', 'eu', 'europe', 'eve', 'even', 'even if', 'even the', 'ever', 'every', 'everyone', 'everything', 'evidence', 'evidence that', 'ex', 'exactly', 'example', 'except', 'exchange', 'expect', 'expensive', 'explain', 'face', 'facebook', 'fake', 'fallacy', 'falling', 'false', 'families', 'family', 'family leave', 'far', 'fascinating', 'fastest', 'fat', 'fathers', 'fbi', 'fed', 'federal', 'feel', 'female', 'feminist', 'feminists', 'few', 'fewer', 'field', 'fields', 'figure', 'finally', 'financial', 'find', 'fine', 'fire', 'fired', 'first', 'first time', 'fit', 'fix', 'flag', 'flashlight', 'flashlight to', 'flint', 'foam', 'focus', 'follow', 'followers', 'food', 'for', 'for all', 'for an', 'for being', 'for everyone', 'for her', 'for https', 'for it', 'for its', 'for men', 'for new', 'for people', 'for that', 'for the', 'for their', 'for trump', 'for us', 'for white', 'for women', 'for you', 'for your', 'force', 'forget', 'form', 'former', 'found', 'founded', 'founder', 'founders', 'four', 'francisco', 'fraud', 'free', 'freedom', 'friend', 'friends', 'from', 'from the', 'front', 'full', 'fun', 'fun of', 'funny', 'further', 'future', 'galka_max', 'game', 'gap', 'gap https', 'gave', 'gay', 'gdp', 'geekiestwoman', 'gender', 'gender wage', 'general', 'generation', 'german', 'get', 'get the', 'gets', 'getting', 'gig', 'girl', 'girls', 'give', 'given', 'gives', 'giving', 'global', 'global economy', 'go', 'go to', 'goes', 'going', 'going on', 'going to', 'goldin', 'gonna', 'good', 'google', 'gop', 'gop version', 'got', 'government', 'govt', 'graduates', 'grammar', 'great', 'greater', 'greece', 'group', 'groups', 'growing', 'growth', 'growth https', 'gt', 'guess', 'guilty', 'gun', 'guy', 'had', 'hair', 'half', 'half of', 'hand', 'handle', 'hands', 'happen', 'happened', 'happened to', 'happy', 'harassment', 'hard', 'hard to', 'harder', 'harvard', 'has', 'has added', 'has been', 'has the', 'hasn', 'hate', 'hate crime', 'have', 'have an', 'have been', 'have less', 'have more', 'have no', 'have the', 'have to', 'haven', 'having', 'he', 'he had', 'he was', 'head', 'headline', 'headlines', 'health', 'hear', 'heard', 'help', 'helpful', 'helps', 'her', 'here', 'hero', 'heroin', 'herself', 'hey', 'hi', 'hidden', 'high', 'higher', 'highest', 'highly', 'hillary', 'hillary clinton', 'him', 'him https', 'him to', 'himself', 'his', 'hispanic', 'history', 'hit', 'hivetheory', 'hold', 'hold flashlight', 'home', 'homeless', 'honor', 'hope', 'hot', 'hour', 'hours', 'house', 'household', 'households', 'housing', 'how', 'how can', 'how do', 'how is', 'how many', 'how much', 'how to', 'however', 'hrs', 'hrs wk', 'http', 'http co', 'https', 'https co', 'hughm88', 'human', 'humans', 'hurt', 'idea', 'ideas', 'idiots', 'if', 'if an', 'if he', 'if it', 'if not', 'if only', 'if she', 'if someone', 'if the', 'if there', 'if they', 'if we', 'if you', 'ignore', 'illegal', 'imf', 'immigrants', 'immigration', 'impact', 'impact on', 'important', 'in', 'in 2015', 'in 2016', 'in all', 'in america', 'in an', 'in california', 'in case', 'in china', 'in every', 'in her', 'in my', 'in new', 'in one', 'in order', 'in silicon', 'in tech', 'in that', 'in the', 'in their', 'in this', 'in venezuela', 'in your', 'inc', 'include', 'included', 'income', 'income inequality', 'increase', 'increase in', 'increased', 'increases', 'increasing', 'index', 'india', 'indian', 'indiana', 'individual', 'industry', 'inequality', 'information', 'inside', 'instead', 'instead of', 'insult', 'insulting', 'intended', 'interest', 'interested', 'interested in', 'interesting', 'interfluidity', 'internet', 'into', 'into the', 'invented', 'investigate', 'iphone', 'iq', 'is', 'is also', 'is better', 'is in', 'is it', 'is just', 'is more', 'is no', 'is not', 'is now', 'is still', 'is that', 'is the', 'is there', 'is this', 'is to', 'is wrong', 'isis', 'isn', 'issue', 'it', 'it an', 'it didn', 'it doesn', 'it hard', 'it https', 'it is', 'it just', 'it more', 'it not', 'it seems', 'it so', 'it the', 'it to', 'it was', 'it wasn', 'it will', 'its', 'jail', 'jakeraden', 'japan', 'jasemurphy', 'jason', 'jbullock85', 'jchaddavis', 'jeb', 'jeb bush', 'jesselucassaga', 'jessesingal', 'job', 'job to', 'jobs', 'jobs are', 'jobs https', 'johnriverstoo', 'joke', 'journalism', 'journalists', 'judge', 'just', 'just bc', 'just because', 'just the', 'just to', 'justice', 'justinwolfers', 'kaviguppta', 'keep', 'keeps', 'kidding', 'kids', 'kill', 'killed', 'kind', 'kind of', 'knew', 'know', 'know how', 'know the', 'know what', 'know who', 'knowledge', 'korea', 'kurafire', 'labor', 'lack', 'lady', 'languages', 'largest', 'last', 'later', 'launches', 'laurenholliday_', 'law', 'laws', 'lazy', 'lead', 'leaders', 'leak', 'learn', 'learned', 'least', 'leave', 'leaving', 'led', 'left', 'legal', 'legal analysis', 'legally', 'leighblue', 'lesgartcpa', 'less', 'less than', 'let', 'let me', 'letter', 'letters', 'level', 'levels', 'liberal', 'liberals', 'library', 'life', 'like', 'like that', 'like the', 'like to', 'like you', 'likely', 'likely to', 'likes', 'limit', 'line', 'link', 'link is', 'link to', 'linkedin', 'list', 'listen', 'listen to', 'listing', 'little', 'live', 'live in', 'live photo', 'lives', 'lives in', 'living', 'living in', 'll', 'loan', 'loans', 'logic', 'london', 'long', 'longer', 'look', 'look at', 'look like', 'looked', 'looking', 'looks', 'looks like', 'lost', 'lot', 'lot of', 'lots', 'lots of', 'love', 'low', 'lower', 'lt', 'lucasjlynch', 'lunch', 'lyft', 'machine', 'made', 'main', 'major', 'majority', 'make', 'make it', 'make the', 'makes', 'making', 'male', 'man', 'man in', 'manager', 'mandatory', 'many', 'map', 'maria', 'market', 'markets', 'marriage', 'married', 'marry', 'mars', 'match', 'matching', 'maternity', 'maternity leave', 'math', 'matter', 'mattocko', 'maxcroser', 'may', 'may be', 'mayankseksaria', 'maybe', 'me', 'me and', 'me to', 'me you', 'mean', 'meaning', 'means', 'meant', 'measure', 'media', 'median', 'meet', 'member', 'members', 'men', 'men and', 'men are', 'men in', 'men who', 'mention', 'mentioned', 'message', 'messages', 'metal', 'metal foam', 'mexican', 'michigan', 'microsoft', 'middle', 'middle class', 'might', 'might be', 'military', 'milk', 'millennials', 'million', 'millions', 'millions of', 'min', 'min wage', 'mind', 'mine', 'minimum', 'minimum wage', 'minor', 'minorities', 'minority', 'missing', 'mistake', 'mobility', 'models', 'mom', 'moment', 'moms', 'money', 'monopoly', 'month', 'months', 'moon', 'more', 'more educated', 'more likely', 'more than', 'more women', 'morganwarstler', 'most', 'most people', 'mostly', 'move', 'movie', 'much', 'much as', 'muhfeelz', 'multiple', 'muslim', 'muslims', 'must', 'my', 'my article', 'my child', 'my daughter', 'my followers', 'my own', 'my tweets', 'nachristakis', 'name', 'named', 'names', 'nation', 'national', 'nations', 'native', 'natural', 'naynerz', 'nearly', 'necessary', 'need', 'need for', 'need to', 'needed', 'needs', 'negative', 'net', 'network', 'never', 'new', 'new year', 'new york', 'news', 'next', 'nice', 'nickwolfinger', 'night', 'ninja', 'ninjaeconomics', 'ninjaeconomics https', 'nintendo', 'no', 'no comment', 'no more', 'no one', 'no the', 'noahpinion', 'nobody', 'non', 'north', 'north carolina', 'north korea', 'not', 'not about', 'not just', 'not sure', 'not the', 'not to', 'not uncommon', 'nothing', 'noupside', 'now', 'now https', 'now the', 'nuclear', 'number', 'number of', 'numbers', 'nyc', 'nymag', 'obama', 'obviously', 'occupations', 'of', 'of all', 'of americans', 'of an', 'of being', 'of course', 'of its', 'of men', 'of monopoly', 'of my', 'of new', 'of people', 'of ppl', 'of sex', 'of the', 'of their', 'of these', 'of this', 'of trump', 'of us', 'of women', 'off', 'offensive', 'offer', 'offered', 'officials', 'often', 'oh', 'oil', 'ok', 'okay', 'old', 'on', 'on average', 'on mars', 'on my', 'on the', 'on their', 'on this', 'on twitter', 'on what', 'on your', 'once', 'one', 'one https', 'one is', 'one of', 'one way', 'ones', 'online', 'only', 'open', 'opinion', 'opinions', 'opposite', 'or', 'or else', 'order', 'order to', 'other', 'other people', 'others', 'our', 'out', 'out of', 'out on', 'out the', 'out to', 'outcomes', 'outside', 'over', 'over the', 'own', 'paid', 'panamapapers', 'pants', 'paper', 'papers', 'parent', 'parents', 'part', 'part of', 'parties', 'party', 'passenger', 'past', 'paternity', 'paternity leave', 'pay', 'pay for', 'pay gap', 'paying', 'pays', 'peacelovedixie', 'peacelovedixie sarahcuda', 'pedophile', 'pedophilia', 'peer', 'people', 'people are', 'people from', 'people have', 'people https', 'people in', 'people to', 'people who', 'people will', 'people would', 'per', 'percent', 'percentage', 'percentage of', 'perhaps', 'period', 'person', 'personal', 'ph', 'phds', 'phone', 'photo', 'photo of', 'photos', 'pictures', 'place', 'plan', 'platform', 'play', 'player', 'please', 'pmarca', 'point', 'police', 'policies', 'policy', 'political', 'politicians', 'politics', 'poll', 'polls', 'poor', 'poorer', 'popular', 'population', 'porn', 'pornography', 'portmantina', 'position', 'possible', 'post', 'posting', 'pot', 'pound', 'poverty', 'power', 'ppl', 'ppl who', 'predict', 'prefer', 'premium', 'prepare', 'president', 'president trump', 'presidential', 'pretend', 'pretty', 'price', 'primary', 'private', 'privilege', 'prize', 'pro', 'prob', 'probably', 'problem', 'problems', 'professional', 'program', 'programs', 'progressive', 'progressives', 'proof', 'protect', 'protected', 'psygnisfive', 'public', 'publicly', 'put', 'quality', 'question', 'questions', 'quick', 'quote', 'quotes', 'r2', 'race', 'racial', 'racism', 'racist', 'raise', 'rally', 'rape', 'raped', 'rapists', 'rapp', 'rate', 'rates', 'rather', 'rather than', 'rating', 'rational', 're', 're in', 're not', 're right', 're the', 'reach', 'read', 'read it', 'read the', 'readers', 'reading', 'real', 'really', 'reason', 'reasons', 'receive', 'recent', 'recession', 'recognize', 'record', 'reduce', 'referring', 'referring to', 'register', 'reject', 'remember', 'rent', 'replaced', 'reply', 'report', 'reported', 'reported on', 'reporter', 'reporters', 'republicans', 'require', 'required', 'research', 'residents', 'resources', 'response', 'reveal', 'review', 'rich', 'right', 'right now', 'rights', 'rise', 'risk', 'roeeorland', 'roles', 'rt', 'rt inc', 'rubio', 'rude', 'rule', 'run', 'running', 'safe', 'safety', 'safety net', 'said', 'said https', 'said she', 'same', 'sample', 'san', 'san francisco', 'sanders', 'sarahcuda', 'saudi', 'save', 'saw', 'say', 'say that', 'say they', 'saying', 'says', 'says https', 'scale', 'scary', 'scary story', 'school', 'schools', 'science', 'scientist', 'scientists', 'scorched_deer', 'score', 'screams', 'second', 'security', 'see', 'see my', 'see the', 'seeing', 'seek', 'seem', 'seems', 'seems to', 'seen', 'self', 'sell', 'selling', 'send', 'sense', 'sent', 'service', 'seven', 'sex', 'sex https', 'sexist', 'sexual', 'sf', 'shame', 'shanghai', 'shanghai composite', 'share', 'shared', 'sharing', 'she', 'she has', 'she said', 'she was', 'shot', 'should', 'should be', 'should have', 'should we', 'shouldn', 'shouldn be', 'show', 'showed', 'showed star', 'showing', 'shows', 'side', 'signal', 'silicon', 'silicon valley', 'since', 'single', 'six', 'size', 'skill', 'skilled', 'skills', 'slate', 'slavery', 'slaves', 'small', 'smaller', 'smart', 'smth', 'so', 'so if', 'so it', 'so many', 'so they', 'so we', 'so you', 'soccer', 'social', 'society', 'solution', 'some', 'some people', 'someone', 'someone who', 'something', 'sometimes', 'soon', 'soon as', 'sorry', 'sounds', 'source', 'sources', 'south', 'space', 'spacekatgal', 'spain', 'speak', 'speech', 'spell', 'spend', 'stacyherbert', 'standards', 'standing', 'star', 'star wars', 'starbucks', 'start', 'started', 'starting', 'state', 'statement', 'states', 'station', 'statistics', 'status', 'stay', 'steven_strauss', 'still', 'stock', 'stock market', 'stop', 'stories', 'story', 'story hold', 'straight', 'strangers', 'strong', 'student', 'students', 'studies', 'study', 'stupid', 'style', 'subject', 'success', 'successful', 'such', 'suicide', 'super', 'super bowl', 'superior', 'supply', 'support', 'supported', 'supporters', 'supporters are', 'supreme', 'supreme court', 'sure', 'survey', 'sweden', 'syrian', 'system', 'table', 'take', 'takes', 'taking', 'talking', 'talking about', 'tanayj', 'tax', 'taxes', 'team', 'tech', 'techcrunch', 'technology', 'tell', 'tell me', 'telling', 'terrible', 'terrorists', 'test', 'than', 'than men', 'than the', 'than they', 'thanks', 'thanks for', 'that', 'that he', 'that it', 'that not', 'that she', 'that the', 'that they', 'that was', 'that what', 'that why', 'that women', 'that word', 'that you', 'the', 'the american', 'the article', 'the average', 'the best', 'the big', 'the chart', 'the city', 'the country', 'the day', 'the difference', 'the economic', 'the economics', 'the economy', 'the fbi', 'the first', 'the full', 'the future', 'the gender', 'the global', 'the good', 'the guy', 'the imf', 'the last', 'the link', 'the median', 'the most', 'the new', 'the next', 'the one', 'the only', 'the other', 'the panamapapers', 'the past', 'the people', 'the problem', 'the right', 'the same', 'the state', 'the thread', 'the time', 'the top', 'the tweet', 'the united', 'the us', 'the whole', 'the woman', 'the women', 'the word', 'the world', 'the worst', 'their', 'their own', 'them', 'them https', 'them to', 'themselves', 'then', 'then you', 'theories', 'theory', 'there', 'there are', 'there is', 'there no', 'there was', 'these', 'these are', 'thespacegal', 'thestalwart', 'they', 'they are', 'they can', 'they don', 'they have', 'they re', 'they were', 'thing', 'things', 'things to', 'think', 'think it', 'think of', 'think that', 'think they', 'think we', 'thinking', 'thinks', 'third', 'this', 'this chart', 'this is', 'this tweet', 'those', 'though', 'thought', 'thread', 'threat', 'three', 'through', 'tier', 'time', 'time for', 'time https', 'time in', 'time to', 'times', 'tinder', 'tiny', 'to', 'to an', 'to be', 'to bring', 'to build', 'to buy', 'to change', 'to create', 'to criticize', 'to deport', 'to do', 'to face', 'to get', 'to give', 'to go', 'to have', 'to help', 'to her', 'to keep', 'to kill', 'to know', 'to live', 'to make', 'to me', 'to meet', 'to my', 'to pay', 'to predict', 'to put', 'to read', 'to say', 'to see', 'to spell', 'to stop', 'to take', 'to tell', 'to the', 'to their', 'to tweet', 'to use', 'to women', 'to work', 'to write', 'to you', 'to your', 'today', 'toddler', 'together', 'told', 'told me', 'too', 'too busy', 'took', 'top', 'top 20', 'total', 'totally', 'toward', 'trade', 'train', 'training', 'translate', 'trial', 'trick', 'tried', 'truck', 'true', 'trump', 'trump campaign', 'trump https', 'trump supporters', 'trump won', 'trust', 'try', 'try to', 'trying', 'trying to', 'tuition', 'turned', 'tv', 'tweet', 'tweet but', 'tweeted', 'tweeting', 'tweets', 'tweets are', 'twice', 'twitter', 'twitter is', 'two', 'tylercowen', 'type', 'uber', 'uk', 'unaware', 'uncommon', 'under', 'under the', 'understand', 'understand the', 'understanding', 'uneducated', 'unemployment', 'united', 'united states', 'universal', 'universal basic', 'university', 'unless', 'unless you', 'until', 'untrue', 'up', 'up for', 'up https', 'up the', 'us', 'us to', 'use', 'used', 'used for', 'user', 'uses', 'using', 'using the', 'usually', 'vaccines', 'valley', 'value', 'values', 've', 've been', 've had', 'venezuela', 'version', 'very', 'via', 'victim', 'victims', 'victorymonk', 'video', 'view', 'views', 'violence', 'voretaq7', 'vote', 'vote for', 'voters', 'votes', 'vs', 'wage', 'wage gap', 'wages', 'wages for', 'wait', 'waiting', 'waiting for', 'want', 'want to', 'wanted', 'wanted to', 'wants', 'wants to', 'war', 'wars', 'wars to', 'was', 'was in', 'was once', 'was referring', 'was the', 'washington', 'wasn', 'waste', 'watch', 'watching', 'water', 'way', 'way to', 'ways', 'we', 'we can', 'we don', 'we re', 'we should', 'wealth', 'wearing', 'weed', 'week', 'weird', 'well', 'were', 'weren', 'what', 'what are', 'what do', 'what is', 'what kind', 'what makes', 'what the', 'what you', 'when', 'when it', 'when they', 'when you', 'where', 'where the', 'whether', 'which', 'which is', 'while', 'white', 'white men', 'white people', 'white woman', 'white women', 'whites', 'who', 'who are', 'who don', 'who is', 'who was', 'whole', 'whose', 'why', 'why do', 'why does', 'why is', 'why you', 'wife', 'wifi', 'will', 'will be', 'win', 'winners', 'winning', 'with', 'with me', 'with the', 'with you', 'with your', 'within', 'without', 'wk', 'woman', 'woman in', 'woman who', 'women', 'women are', 'women do', 'women have', 'women https', 'women in', 'women should', 'women who', 'won', 'wondering', 'word', 'words', 'work', 'work for', 'work https', 'worked', 'worker', 'workers', 'working', 'works', 'works https', 'world', 'worry', 'worse', 'worst', 'worth', 'would', 'would be', 'would have', 'would you', 'wouldn', 'write', 'writer', 'writing', 'wrong', 'wrote', 'wrt', 'wu_tang_finance', 'xhorsechestnutx', 'yeah', 'yeah that', 'year', 'year https', 'year old', 'years', 'years ago', 'years https', 'years of', 'yelp', 'yes', 'yes but', 'yet', 'york', 'you', 'you are', 'you can', 'you could', 'you didn', 'you don', 'you for', 'you get', 'you had', 'you have', 'you in', 'you just', 'you know', 'you mean', 'you need', 'you re', 'you read', 'you see', 'you should', 'you think', 'you to', 'you want', 'you were', 'young', 'your', 'your own', 'yrs', 'zachweiner', 'zero']\n"
     ]
    }
   ],
   "source": [
    "# include 1-grams and 2-grams, and only include terms that appear at least 2 times, with 2200 max features\n",
    "\n",
    "vect = CountVectorizer(ngram_range=(1, 2), min_df=2, max_features=2200)\n",
    "tokenize_test(vect, model='nb')\n",
    "print\n",
    "print(vect.get_feature_names()) # this will display the actual feature names"
   ]
  },
  {
   "cell_type": "markdown",
   "metadata": {},
   "source": [
    "### The cell below contains the settings that got me closest to 95% accuracy\n",
    "\n",
    "**However it's likely that the result is due in part to overfitting on available data. K-folds validation would be needed to reduce this effect.**"
   ]
  },
  {
   "cell_type": "code",
   "execution_count": 31,
   "metadata": {},
   "outputs": [
    {
     "name": "stdout",
     "output_type": "stream",
     "text": [
      "Features:  1550\n",
      "Accuracy:  0.9468325791855203\n",
      "Multinomial Naive Bayes\n"
     ]
    }
   ],
   "source": [
    "# include 1-grams, 2-grams, and 3-grams, and limit the number of features\n",
    "\n",
    "vect = CountVectorizer(ngram_range=(1, 3), max_features=1550, stop_words='english')\n",
    "tokenize_test(vect, model='nb')"
   ]
  },
  {
   "cell_type": "markdown",
   "metadata": {},
   "source": [
    "## ADDENDUM: Using GridSearchCV for Hyperparameter Opitimization\n",
    "\n",
    "Although it wasn't covered comprehensively in the part-time course I took, it turns out there is a rather simple way to do multiple train/test splits on the same data with cross-validation (to avoid overfitting), as well as try out a variety of parameter settings to see which ones output the most predictive results. \n",
    "\n",
    "**Enter GridSearchCV.**"
   ]
  },
  {
   "cell_type": "code",
   "execution_count": 32,
   "metadata": {
    "collapsed": true
   },
   "outputs": [],
   "source": [
    "from sklearn.model_selection import GridSearchCV\n",
    "from sklearn.metrics import make_scorer\n",
    "from sklearn.pipeline import Pipeline\n",
    "from sklearn.metrics import accuracy_score"
   ]
  },
  {
   "cell_type": "code",
   "execution_count": 33,
   "metadata": {
    "collapsed": true
   },
   "outputs": [],
   "source": [
    "steps=[('vectorize',CountVectorizer()),\\\n",
    "       ('clf',MultinomialNB())]"
   ]
  },
  {
   "cell_type": "code",
   "execution_count": 34,
   "metadata": {
    "collapsed": true
   },
   "outputs": [],
   "source": [
    "pipe=Pipeline(steps)"
   ]
  },
  {
   "cell_type": "code",
   "execution_count": 35,
   "metadata": {
    "collapsed": true
   },
   "outputs": [],
   "source": [
    "X_train, X_test, y_train, y_test=\\\n",
    "train_test_split(tweets['raw_text'], tweets['username'], random_state=1)"
   ]
  },
  {
   "cell_type": "code",
   "execution_count": 36,
   "metadata": {},
   "outputs": [
    {
     "data": {
      "text/plain": [
       "Pipeline(memory=None,\n",
       "     steps=[('vectorize', CountVectorizer(analyzer='word', binary=False, decode_error='strict',\n",
       "        dtype=<class 'numpy.int64'>, encoding='utf-8', input='content',\n",
       "        lowercase=True, max_df=1.0, max_features=None, min_df=1,\n",
       "        ngram_range=(1, 1), preprocessor=None, stop_words=None,\n",
       "        strip_accents=None, token_pattern='(?u)\\\\b\\\\w\\\\w+\\\\b',\n",
       "        tokenizer=None, vocabulary=None)), ('clf', MultinomialNB(alpha=1.0, class_prior=None, fit_prior=True))])"
      ]
     },
     "execution_count": 36,
     "metadata": {},
     "output_type": "execute_result"
    }
   ],
   "source": [
    "pipe.fit(X_train, y_train)"
   ]
  },
  {
   "cell_type": "code",
   "execution_count": 37,
   "metadata": {
    "collapsed": true
   },
   "outputs": [],
   "source": [
    "pred=pipe.predict(X_test)"
   ]
  },
  {
   "cell_type": "code",
   "execution_count": 38,
   "metadata": {},
   "outputs": [
    {
     "name": "stdout",
     "output_type": "stream",
     "text": [
      "Accuracy = 0.925339\n"
     ]
    }
   ],
   "source": [
    "print('Accuracy = {:3f}'.format(accuracy_score(y_test,pred)))"
   ]
  },
  {
   "cell_type": "code",
   "execution_count": 39,
   "metadata": {},
   "outputs": [
    {
     "data": {
      "text/plain": [
       "dict_keys(['vectorize', 'clf'])"
      ]
     },
     "execution_count": 39,
     "metadata": {},
     "output_type": "execute_result"
    }
   ],
   "source": [
    "pipe.named_steps.keys()"
   ]
  },
  {
   "cell_type": "code",
   "execution_count": 40,
   "metadata": {},
   "outputs": [],
   "source": [
    "param_grid = dict(vectorize__stop_words=[None,'english'],\\\n",
    "                  vectorize__min_df=[1,3,5,7,9,12],\\\n",
    "                  vectorize__lowercase=[True,False],\\\n",
    "                  vectorize__ngram_range=[(1,1),(1,2),(1,3),(2,2),(2,3)],\\\n",
    "                  vectorize__max_features=[1693,1695,1697] # did a lot of iteration to whittle it down to those\n",
    "                 )"
   ]
  },
  {
   "cell_type": "code",
   "execution_count": 41,
   "metadata": {
    "collapsed": true
   },
   "outputs": [],
   "source": [
    "grid_search = GridSearchCV(pipe, param_grid=param_grid,\\\n",
    "                           scoring=make_scorer(accuracy_score),n_jobs=6)"
   ]
  },
  {
   "cell_type": "code",
   "execution_count": 42,
   "metadata": {},
   "outputs": [
    {
     "name": "stdout",
     "output_type": "stream",
     "text": [
      "CPU times: user 2.04 s, sys: 100 ms, total: 2.14 s\n",
      "Wall time: 57.7 s\n"
     ]
    }
   ],
   "source": [
    "%time res=grid_search.fit(tweets['raw_text'],tweets['username'])"
   ]
  },
  {
   "cell_type": "code",
   "execution_count": 43,
   "metadata": {},
   "outputs": [
    {
     "data": {
      "text/plain": [
       "{'vectorize__lowercase': True,\n",
       " 'vectorize__max_features': 1695,\n",
       " 'vectorize__min_df': 1,\n",
       " 'vectorize__ngram_range': (1, 1),\n",
       " 'vectorize__stop_words': None}"
      ]
     },
     "execution_count": 43,
     "metadata": {},
     "output_type": "execute_result"
    }
   ],
   "source": [
    "res.best_params_"
   ]
  },
  {
   "cell_type": "code",
   "execution_count": 44,
   "metadata": {},
   "outputs": [
    {
     "name": "stdout",
     "output_type": "stream",
     "text": [
      "0.9377299745258987\n"
     ]
    }
   ],
   "source": [
    "print(res.best_score_)"
   ]
  },
  {
   "cell_type": "markdown",
   "metadata": {},
   "source": [
    "## Future Experimentation\n",
    "\n",
    "**I plan on expanding the GridSearchCV to use different k-folds values, as well as test out the accuracy of different classifiers in addition to Multinomial Naive Bayes. Trying out different train/test split sizes and random states is also on my radar. I just want to see if any accuracy increases are due to overfitting or not.**"
   ]
  },
  {
   "cell_type": "code",
   "execution_count": null,
   "metadata": {
    "collapsed": true
   },
   "outputs": [],
   "source": []
  }
 ],
 "metadata": {
  "kernelspec": {
   "display_name": "Python 3",
   "language": "python",
   "name": "python3"
  },
  "language_info": {
   "codemirror_mode": {
    "name": "ipython",
    "version": 3
   },
   "file_extension": ".py",
   "mimetype": "text/x-python",
   "name": "python",
   "nbconvert_exporter": "python",
   "pygments_lexer": "ipython3",
   "version": "3.6.6"
  }
 },
 "nbformat": 4,
 "nbformat_minor": 1
}
